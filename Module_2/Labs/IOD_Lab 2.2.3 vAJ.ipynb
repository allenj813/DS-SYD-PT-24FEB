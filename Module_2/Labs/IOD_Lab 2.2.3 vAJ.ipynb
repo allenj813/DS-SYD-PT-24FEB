{
 "cells": [
  {
   "cell_type": "markdown",
   "metadata": {
    "colab_type": "text",
    "id": "nOGGU7gNKck0"
   },
   "source": [
    "<div>\n",
    "<img src=https://www.institutedata.com/wp-content/uploads/2019/10/iod_h_tp_primary_c.svg width=\"300\">\n",
    "</div>"
   ]
  },
  {
   "cell_type": "markdown",
   "metadata": {
    "colab_type": "text",
    "id": "_D_idRWZKck4"
   },
   "source": [
    "# Lab 2.2.3 \n",
    "# *Mining Social Media on Reddit*"
   ]
  },
  {
   "cell_type": "markdown",
   "metadata": {
    "colab_type": "text",
    "id": "atJ1XMr3Kck7"
   },
   "source": [
    "## The Reddit API and the PRAW Package"
   ]
  },
  {
   "cell_type": "markdown",
   "metadata": {
    "colab_type": "text",
    "id": "aJ9o1EfAKck-"
   },
   "source": [
    "The Reddit API is rich and complex, with many endpoints (https://www.reddit.com/dev/api/). It includes methods for navigating its collections, which include various kinds of media as well as comments. Fortunately, the Python library PRAW reduces much of this complexity.\n",
    "\n",
    "Reddit requires developers to create and authenticate an app before they can use the API, but the process is much less onerus than some, and does not have waiting period for approval of new developers (as of 18 August 2018)."
   ]
  },
  {
   "cell_type": "markdown",
   "metadata": {
    "colab_type": "text",
    "id": "egz9IUhlKclB"
   },
   "source": [
    "### 1. Create a Reddit App\n",
    "\n",
    "Go to https://www.reddit.com/prefs/apps and click \"create an app\".\n",
    "\n",
    "Enter the following in the form:\n",
    "\n",
    "- a name for your app\n",
    "- select \"script\" radio button\n",
    "- a description\n",
    "- a redirect URI\n",
    "\n",
    "(Nb. For pulling data into a data science experiment, a local port can be used for the Redirect URI; try http://127.0.0.1:1410)\n",
    "\n",
    "![image.png](attachment:image.png)\n",
    "\n",
    "- click \"create app\"\n",
    "- from the form that displays, copy the following to a local text file (or to this notebook):\n",
    "\n",
    "  - name (the name you gave to your app)\n",
    "  - redirect URI\n",
    "  - personal use script (this is your OAuth 2 Client ID)\n",
    "  - secret (this is your OAuth 2 Secret)"
   ]
  },
  {
   "cell_type": "markdown",
   "metadata": {
    "colab_type": "text",
    "id": "LF9V-LJ2KclE"
   },
   "source": [
    "### 2. Register for API Access\n",
    "\n",
    "- follow the link at https://www.reddit.com/wiki/api and read the terms of use for Reddit API access \n",
    "- fill in the form fields at the bottom \n",
    "  - make sure to enter your new OAuth Client ID where indicated\n",
    "  - your use case could be something like \"Training in API usage for data science projects\"\n",
    "  - your platform could be something like \"Jupyter Notebooks / Python\"\n",
    "  \n",
    "- click \"SUBMIT\"\n",
    " \n",
    "- when asked for User-Agent, enter something that fits this pattern:\n",
    "  `your_os-python:your_reddit_appname:v1.0 (by /u/your_reddit_username)`"
   ]
  },
  {
   "cell_type": "markdown",
   "metadata": {
    "colab_type": "text",
    "id": "JIsv8YAMKclG"
   },
   "source": [
    "### 3. Load Python Libraries"
   ]
  },
  {
   "cell_type": "code",
   "execution_count": 2,
   "metadata": {},
   "outputs": [
    {
     "name": "stdout",
     "output_type": "stream",
     "text": [
      "Collecting praw\n",
      "\u001b[?25l  Downloading https://files.pythonhosted.org/packages/5c/39/17251486951815d4514e4a3f179d4f3e7af5f7b1ce8eaba5a3ea61bc91f2/praw-7.0.0-py3-none-any.whl (143kB)\n",
      "\u001b[K     |████████████████████████████████| 153kB 3.1MB/s eta 0:00:01\n",
      "\u001b[?25hCollecting websocket-client>=0.54.0 (from praw)\n",
      "\u001b[?25l  Downloading https://files.pythonhosted.org/packages/4c/5f/f61b420143ed1c8dc69f9eaec5ff1ac36109d52c80de49d66e0c36c3dfdf/websocket_client-0.57.0-py2.py3-none-any.whl (200kB)\n",
      "\u001b[K     |████████████████████████████████| 204kB 6.9MB/s eta 0:00:01\n",
      "\u001b[?25hCollecting update-checker>=0.16 (from praw)\n",
      "  Downloading https://files.pythonhosted.org/packages/d6/c3/aaf8a162df8e8f9d321237c7c0e63aff95b42d19f1758f96606e3cabb245/update_checker-0.17-py2.py3-none-any.whl\n",
      "Collecting prawcore<2.0,>=1.3.0 (from praw)\n",
      "  Downloading https://files.pythonhosted.org/packages/c9/8e/d076cb8f26523f91eef3e75d6cf9143b2f16d67ce7d681a61d0bbc783f49/prawcore-1.3.0-py3-none-any.whl\n",
      "Requirement already satisfied: six in /Users/allenj/opt/anaconda3/lib/python3.7/site-packages (from websocket-client>=0.54.0->praw) (1.12.0)\n",
      "Requirement already satisfied: requests>=2.3.0 in /Users/allenj/opt/anaconda3/lib/python3.7/site-packages (from update-checker>=0.16->praw) (2.22.0)\n",
      "Requirement already satisfied: urllib3!=1.25.0,!=1.25.1,<1.26,>=1.21.1 in /Users/allenj/opt/anaconda3/lib/python3.7/site-packages (from requests>=2.3.0->update-checker>=0.16->praw) (1.24.2)\n",
      "Requirement already satisfied: certifi>=2017.4.17 in /Users/allenj/opt/anaconda3/lib/python3.7/site-packages (from requests>=2.3.0->update-checker>=0.16->praw) (2019.9.11)\n",
      "Requirement already satisfied: chardet<3.1.0,>=3.0.2 in /Users/allenj/opt/anaconda3/lib/python3.7/site-packages (from requests>=2.3.0->update-checker>=0.16->praw) (3.0.4)\n",
      "Requirement already satisfied: idna<2.9,>=2.5 in /Users/allenj/opt/anaconda3/lib/python3.7/site-packages (from requests>=2.3.0->update-checker>=0.16->praw) (2.8)\n",
      "Installing collected packages: websocket-client, update-checker, prawcore, praw\n",
      "Successfully installed praw-7.0.0 prawcore-1.3.0 update-checker-0.17 websocket-client-0.57.0\n",
      "Note: you may need to restart the kernel to use updated packages.\n"
     ]
    }
   ],
   "source": [
    "pip install praw"
   ]
  },
  {
   "cell_type": "code",
   "execution_count": 19,
   "metadata": {
    "colab": {},
    "colab_type": "code",
    "id": "xqi2BT66KclI"
   },
   "outputs": [],
   "source": [
    "import praw\n",
    "import requests\n",
    "import json\n",
    "import pprint\n",
    "from datetime import datetime, date, time\n",
    "import pandas as pd"
   ]
  },
  {
   "cell_type": "markdown",
   "metadata": {
    "colab_type": "text",
    "id": "wwXaO9GPKclP"
   },
   "source": [
    "### 4. Authenticate from your Python script"
   ]
  },
  {
   "cell_type": "markdown",
   "metadata": {
    "colab_type": "text",
    "id": "ZF5oh54RKclR"
   },
   "source": [
    "You could assign your authentication details explicitly, as follows:"
   ]
  },
  {
   "cell_type": "code",
   "execution_count": 2,
   "metadata": {
    "colab": {},
    "colab_type": "code",
    "id": "qH2-X9juKclS"
   },
   "outputs": [],
   "source": [
    "my_user_agent = ''   # your user Agent string goes in here\n",
    "my_client_id = ''   # your Client ID string goes in here\n",
    "my_client_secret = ''   # your Secret string goes in here"
   ]
  },
  {
   "cell_type": "markdown",
   "metadata": {
    "colab_type": "text",
    "id": "1TmzPxHIKclX"
   },
   "source": [
    "A better way would be to store these details externally, so they are not displayed in the notebook:\n",
    "\n",
    "- create a file called \"auth_reddit.json\" in your \"notebooks\" directory, and save your credentials there in JSON format:\n",
    "\n",
    "`{   \"my_client_id\": \"your Client ID string goes in here\",` <br>\n",
    "&nbsp;&nbsp;&nbsp;&nbsp;&nbsp;&nbsp;&nbsp;&nbsp;` \"my_client_secret\": \"your Secret string goes in here\",` <br>\n",
    "&nbsp;&nbsp;&nbsp;&nbsp;&nbsp;&nbsp;&nbsp;&nbsp;`\"my_user_agent\": \"your user Agent string goes in here\"` <br>\n",
    "`}`\n",
    "\n",
    "Use the following code to load the credentials:  "
   ]
  },
  {
   "cell_type": "code",
   "execution_count": 3,
   "metadata": {
    "colab": {},
    "colab_type": "code",
    "id": "mFbFWGnVKclY"
   },
   "outputs": [
    {
     "data": {
      "text/plain": [
       "'/Users/allenj/Documents/DS-SYD-PT-24FEB/Module_2/Labs'"
      ]
     },
     "execution_count": 3,
     "metadata": {},
     "output_type": "execute_result"
    }
   ],
   "source": [
    "pwd()  # make sure your working directory is where the file is"
   ]
  },
  {
   "cell_type": "code",
   "execution_count": 5,
   "metadata": {
    "colab": {},
    "colab_type": "code",
    "id": "Jc5_dh-jKclc"
   },
   "outputs": [],
   "source": [
    "path_auth = '/Users/allenj/Documents/Keys/auth_reddit.json'\n",
    "auth = json.loads(open(path_auth).read())\n",
    "pp = pprint.PrettyPrinter(indent=4)\n",
    "# For debugging only:\n",
    "#pp.pprint(auth)\n",
    "\n",
    "my_user_agent = auth['my_user_agent']\n",
    "my_client_id = auth['my_client_id']\n",
    "my_client_secret = auth['my_client_secret']"
   ]
  },
  {
   "cell_type": "markdown",
   "metadata": {
    "colab_type": "text",
    "id": "lVKFy9rZKclf"
   },
   "source": [
    "Security considerations: \n",
    "- this method only keeps your credentials invisible as long as nobody else gets access to this notebook file \n",
    "- if you wanted another user to have access to the executable notebook without divulging your credentials you should set up an OAuth 2.0 workflow to let them obtain and apply their own API tokens when using your app\n",
    "- if you just want to share your analyses, you could use a separate script (which you don't share) to fetch the data and save it locally, then use a second notebook (with no API access) to load and analyse the locally stored data"
   ]
  },
  {
   "cell_type": "markdown",
   "metadata": {
    "colab_type": "text",
    "id": "fgHqt72rKclg"
   },
   "source": [
    "### 5. Exploring the API"
   ]
  },
  {
   "cell_type": "markdown",
   "metadata": {
    "colab_type": "text",
    "id": "ByEQS6QsKclh"
   },
   "source": [
    "Here is how to connect to Reddit with read-only access:"
   ]
  },
  {
   "cell_type": "code",
   "execution_count": 6,
   "metadata": {
    "colab": {},
    "colab_type": "code",
    "id": "8hkZJlcJKcli"
   },
   "outputs": [
    {
     "name": "stdout",
     "output_type": "stream",
     "text": [
      "Read-only = True\n"
     ]
    }
   ],
   "source": [
    "reddit = praw.Reddit(client_id = my_client_id, \n",
    "                     client_secret = my_client_secret, \n",
    "                     user_agent = my_user_agent)\n",
    "\n",
    "print('Read-only = ' + str(reddit.read_only))  # Output: True"
   ]
  },
  {
   "cell_type": "markdown",
   "metadata": {
    "colab_type": "text",
    "id": "slGz0lS5Kclk"
   },
   "source": [
    "In the next cell, put the cursor after the '.' and hit the [tab] key to see the available members and methods in the response object:"
   ]
  },
  {
   "cell_type": "code",
   "execution_count": 7,
   "metadata": {
    "colab": {},
    "colab_type": "code",
    "id": "6MvyYewEKcll"
   },
   "outputs": [
    {
     "data": {
      "text/plain": [
       "<bound method Reddit.random_subreddit of <praw.reddit.Reddit object at 0x113b62f90>>"
      ]
     },
     "execution_count": 7,
     "metadata": {},
     "output_type": "execute_result"
    }
   ],
   "source": [
    "reddit.random_subreddit"
   ]
  },
  {
   "cell_type": "markdown",
   "metadata": {
    "colab_type": "text",
    "id": "AKfXBu7yKcln"
   },
   "source": [
    "Consult the PRAW and Reddit API documentation. Print a few of the response members below:"
   ]
  },
  {
   "cell_type": "code",
   "execution_count": 9,
   "metadata": {
    "colab": {},
    "colab_type": "code",
    "id": "31Njl99lKcln"
   },
   "outputs": [
    {
     "data": {
      "text/plain": [
       "Submission(id='3g1jfi')"
      ]
     },
     "execution_count": 9,
     "metadata": {},
     "output_type": "execute_result"
    }
   ],
   "source": [
    "url = \"https://www.reddit.com/r/funny/comments/3g1jfi/buttons/\"\n",
    "submission = reddit.submission(url=url)\n",
    "submission"
   ]
  },
  {
   "cell_type": "markdown",
   "metadata": {
    "colab_type": "text",
    "id": "5L10cuKfKclp"
   },
   "source": [
    "Content in Reddit is grouped by topics called \"subreddits\". Content, called \"submissions\", is fetched by calling the `subreddit` method of the connection object (which is our `reddit` variable) with an argument that matches an actual topic. \n",
    "\n",
    "We also need to append a further method call to a \"subinstance\", such as one of the following:\n",
    "\n",
    "- controversial\n",
    "- gilded\n",
    "- hot\n",
    "- new\n",
    "- rising\n",
    "- top\n",
    "\n",
    "One of the submission objects members is `title`. Fetch and print 10 submission titles from the 'learnpython' subreddit using one of the subinstances above:"
   ]
  },
  {
   "cell_type": "code",
   "execution_count": 10,
   "metadata": {
    "colab": {},
    "colab_type": "code",
    "id": "2W1iCDE9Kclp"
   },
   "outputs": [
    {
     "name": "stdout",
     "output_type": "stream",
     "text": [
      "Ask Anything Monday - Weekly Thread\n",
      "A Python beginner here. I am stuck after having beginner lessons.\n",
      "Are Corey Schaefer's along with Automate the Boring Stuff a good way to start learning Python as a complete Beginner?\n",
      "Do you constantly reference your own old code while writing something new or am I just dense?\n",
      "Holy fuck I get it now my dudes.\n",
      "Learning to code is Hard\n",
      "Is it normal to feel horrible when you start? My first project just crashed me ..\n",
      "I am a beginner with a question\n",
      "How come 8 bit variables can store values over 255?\n",
      "Need an explanation\n"
     ]
    }
   ],
   "source": [
    "for submission in reddit.subreddit('learnpython').hot(limit=10):\n",
    "    print(submission.title)"
   ]
  },
  {
   "cell_type": "markdown",
   "metadata": {
    "colab_type": "text",
    "id": "00coF0YJKclr"
   },
   "source": [
    "Now retrieve 10 authors:"
   ]
  },
  {
   "cell_type": "code",
   "execution_count": 11,
   "metadata": {
    "colab": {},
    "colab_type": "code",
    "id": "U1vTByCGKclr"
   },
   "outputs": [
    {
     "name": "stdout",
     "output_type": "stream",
     "text": [
      "AutoModerator\n",
      "mauri_armora\n",
      "catharsisofmind\n",
      "emililililily\n",
      "juanthrustman\n",
      "townselturner\n",
      "codinghamster_\n",
      "Jacksonace99\n",
      "MrDabianz\n",
      "proroqq\n"
     ]
    }
   ],
   "source": [
    "for submission in reddit.subreddit('learnpython').hot(limit=10):\n",
    "    print(submission.author)"
   ]
  },
  {
   "cell_type": "markdown",
   "metadata": {
    "colab_type": "text",
    "id": "dOFMMl6AKclt"
   },
   "source": [
    "Note that we obtained the titles and authors from separate API calls. Can we expect these to correspond to the same submissions? If not, how could we gurantee that they do?"
   ]
  },
  {
   "cell_type": "code",
   "execution_count": 0,
   "metadata": {
    "colab": {},
    "colab_type": "code",
    "id": "eIPVr-WaKclu"
   },
   "outputs": [],
   "source": []
  },
  {
   "cell_type": "markdown",
   "metadata": {
    "colab_type": "text",
    "id": "IjIJ6ojAKclv"
   },
   "source": [
    "Why doesn't the next cell produce output?"
   ]
  },
  {
   "cell_type": "code",
   "execution_count": 12,
   "metadata": {
    "colab": {},
    "colab_type": "code",
    "id": "ifxjcJ2aKclw"
   },
   "outputs": [
    {
     "ename": "NameError",
     "evalue": "name 'submissions' is not defined",
     "output_type": "error",
     "traceback": [
      "\u001b[0;31m---------------------------------------------------------------------------\u001b[0m",
      "\u001b[0;31mNameError\u001b[0m                                 Traceback (most recent call last)",
      "\u001b[0;32m<ipython-input-12-2e9caae36f7e>\u001b[0m in \u001b[0;36m<module>\u001b[0;34m\u001b[0m\n\u001b[0;32m----> 1\u001b[0;31m \u001b[0;32mfor\u001b[0m \u001b[0msubmission\u001b[0m \u001b[0;32min\u001b[0m \u001b[0msubmissions\u001b[0m\u001b[0;34m:\u001b[0m\u001b[0;34m\u001b[0m\u001b[0;34m\u001b[0m\u001b[0m\n\u001b[0m\u001b[1;32m      2\u001b[0m     \u001b[0mprint\u001b[0m\u001b[0;34m(\u001b[0m\u001b[0msubmission\u001b[0m\u001b[0;34m.\u001b[0m\u001b[0mcomments\u001b[0m\u001b[0;34m)\u001b[0m\u001b[0;34m\u001b[0m\u001b[0;34m\u001b[0m\u001b[0m\n",
      "\u001b[0;31mNameError\u001b[0m: name 'submissions' is not defined"
     ]
    }
   ],
   "source": [
    "for submission in submissions:\n",
    "    print(submission.comments)"
   ]
  },
  {
   "cell_type": "code",
   "execution_count": 0,
   "metadata": {
    "colab": {},
    "colab_type": "code",
    "id": "kPNVNapBKcly"
   },
   "outputs": [],
   "source": []
  },
  {
   "cell_type": "markdown",
   "metadata": {
    "colab_type": "text",
    "id": "4aZ2OSd_Kclz"
   },
   "source": [
    "Print two comments associated with each of these submissions:"
   ]
  },
  {
   "cell_type": "code",
   "execution_count": 13,
   "metadata": {
    "colab": {},
    "colab_type": "code",
    "id": "RO4ppDPJKcl0"
   },
   "outputs": [
    {
     "name": "stdout",
     "output_type": "stream",
     "text": [
      "Just got a laptop extremely recently, mostly focusing on learning online safety and such atm but I’m considering a career in computing. I heard Python was a good place to start. \n",
      "\n",
      "What is a good free resource to learn Python for someone with absolutely no computer background?\n",
      "I'm trying to set up a simple script to check the current Facebook stock price. I'm using the requests module to get the HTTP to parse through. When I check to see if it worked I get a 405 error as seen below.  To me it seems the site think's it's a bot (which it is lol), so would this script just be impossible with this website?\n",
      "\n",
      "&#x200B;\n",
      "\n",
      "&#x200B;\n",
      "\n",
      "**>>>** **res = requests.get('**[**https://www.marketwatch.com/investing/stock/fb**](https://www.marketwatch.com/investing/stock/fb)**')**\n",
      "\n",
      "**>>>** **res.raise\\_for\\_status()**\n",
      "\n",
      "*Traceback (most recent call last):*\n",
      "\n",
      "*File \"<stdin>\", line 1, in <module>*\n",
      "\n",
      "*File \"C:\\\\Python27\\\\lib\\\\site-packages\\\\requests\\\\*[*models.py*](https://models.py)*\", line 941, in raise\\_for\\_status*\n",
      "\n",
      "*raise HTTPError(http\\_error\\_msg, response=self)*\n",
      "\n",
      "*requests.exceptions.HTTPError: 405 Client Error: Method Not Allowed for url:* [*https://www.marketwatch.com/investing/stock/fb*](https://www.marketwatch.com/investing/stock/fb)\n",
      "For web dev.  There are things call frameworks.  Flask and Django are the top two. There are two areas.  Back end and front end.  For back end this is where you do all the nitty gritty work for your website.  For example, I made one that takes in an address, sends that info to an API that then returns specific information to the user.  This is all done behind the scenes if you will. So these are all wrapped up in functions that then return variables. And then these functions can also route you to a new page on your website.  On the front end, you'll need to learn some HTML/CSS, but you can then use these variables in your HTML/css code.  I trudged through HTML/css for like 2 days in order to get what was necessary for me.\n",
      "\n",
      "For example, one of my variables returns a list of values.  So I take that variables, run a for loop on it, and then send that info to the frontend to be displayed.  And if one of the values is equal to some other variable then I display different info. \n",
      "\n",
      "Think of it like baking.  You just learned what a spatula, whisk, oven, and frying pan are used for.  Now you just need your ingredients which is your project idea, and now you need to use your tools to create the desired outcome.\n",
      "You learned spelling and grammar. Time to learn how to write. The easiest way is to decide what kind of writing you want to do (novels, essays, blogs, etc.) and learn that. Wanna make a website? Look for how to make a website with python. Want to make a game? You get the point. Start with small projects and grow/expand your knowledge from there. Most importantly have fun with it!\n",
      "Cory Schafer is perhaps the best Python programming teacher on YT. It's his way of explaining the most complicated stuff in such a concise and easy to understand way that it's just amazing. You also realize very fast that he has a serious programming background as a pro with years of experience.\n",
      "\n",
      "Another good source for beginner is Socratica (Python playlist) on YT. It's a series of very short videos but very good explained and presented in a very unique and humorous way.\n",
      "Automate the Boring Stuff with Python is how I learned. Totally recommend it. Best way to learn is to follow every step and do it yourself. Write down the code you see in the tutorials from scratch -do not just copy/paste it, WRITE it!- and then read each line until you are absolutely sure you understand and you can describe what it does. Have fun!\n",
      "Reference whatever you like. The reason people lean on crutches is because they hold you up.\n",
      "100% why would I invent the wheel twice?\n",
      "The \"Aha! moment\" is very real and very important in learning any science (especially something mathematics based like programming). Feels great eh?\n",
      "Any tips on how you went about it cause I’m stuck and it just makes me want to give up :/ I always feel like I’m close to that point but then I lose it\n",
      "Or maybe you should just go on, shelve this project and learn a similar project with similar loops to see the different approach \n",
      "Then three four projects later try to build it again.\n",
      "\n",
      "No one makes the first jump. Not even Neo\n",
      ">  I was just happy that I finally got the while loop to work and man... was I wrong. \n",
      "\n",
      "Why? Because you wasted your *time*? That's penny-ante stakes. You're not really a programmer until one of your bugs [kills people.](https://en.wikipedia.org/wiki/Therac-25)\n",
      "Your error is right here:\n",
      "\n",
      "> bandAddition = firstBandValue + secondBand\n",
      "\n",
      "> TypeError: must be str, not int\n",
      "\n",
      "~~Was `bandAddition` previously a `str` at any point? If you try to assign an `int` to a variable that's already a `str` the Python interpreter will object.~~ (I might be wrong about that...) \n",
      "\n",
      "Alternatively, it's possible that `firstBandValue` or `secondBand` is actually a `str` and you don't realize it. You'd have to setup a breakpoint and check your watch to see what the real values are.\n",
      "\n",
      "Also, if you share that stretch of code, perhaps we can see what you're trying to do.\n",
      " See the thing that’s crazy is that variable only appears in the code twice and is used to add two other variables that have already been assigned int values\n",
      "He was probably just using the terminal. On your terminal just type “python” or “python3” and it will start *interactive mode* which will give you that immediate feedback. \n",
      "\n",
      "It’s nice for short tests, but I don’t find it useful for longer stuff, where if you mess up, you sometimes end up retyping a lot of code.\n",
      "I am a beginner with a question too, is it good to have written exams instead of just working on the computers seems kinda dumb to me to evaluate this to beginners this way\n",
      "Integer values aren't stored in 8 bits in python.\n",
      "\n",
      "[](https://old.reddit.com/user/MrDabianz)\n",
      "Int variables in python aren't 8-bit. They're typically 32bits, but can use additional words when needed. That's the advantage of using high level languages - they handle this stuff so you don't need to think about it.\n",
      "You have to assign var to int(var).\n",
      "\n",
      "    var = int(var)\n",
      "\n",
      "Currently, you convert it to an int, but var is not reassigned to the int.\n",
      "Remove the quotes. Your program thinks that variable is equal to a string, ‘5’. In reality you want var to equal the integer 5. \n",
      "\n",
      "So you could do var = int(var) on line 6\n",
      "\n",
      "Or even simpler,\n",
      "\n",
      "You could just put num = 5 instead of \n",
      "num = ‘5’\n"
     ]
    }
   ],
   "source": [
    "submissions = reddit.subreddit('learnpython').hot(limit=10)\n",
    "for submission in submissions:\n",
    "    top_level_comments = list(submission.comments)\n",
    "    all_comments = submission.comments.list()[:2]\n",
    "    for comment in all_comments:\n",
    "        print(comment.body)"
   ]
  },
  {
   "cell_type": "markdown",
   "metadata": {
    "colab_type": "text",
    "id": "JvYEOesKKcl2"
   },
   "source": [
    "Referring to the API documentation, explore the submissions object and print some interesting data:"
   ]
  },
  {
   "cell_type": "code",
   "execution_count": 17,
   "metadata": {
    "colab": {},
    "colab_type": "code",
    "id": "glEShYZbKcl3"
   },
   "outputs": [
    {
     "name": "stdout",
     "output_type": "stream",
     "text": [
      "iama\n",
      "IAmA\n",
      "#####[Submit an AMA](https://goo.gl/GjN173)\n",
      "#####[Request an AMA](https://goo.gl/zpyx5c)\n",
      "\n",
      "# Please check out our [Rules and FAQs](https://www.reddit.com/r/IAmA/wiki/index)\n",
      "\n",
      "# [Click here](https://askmeanythi.ng) to schedule an AMA on our calendar.\n",
      "\n",
      "#Consider supporting our [Patreon](https://goo.gl/9sGmDN)\n",
      "\n",
      "**AMAs are scheduled in Eastern Time (GMT-4:00).**\n",
      "\n",
      "Date|Time|Person|Description|Remind\n",
      ":-:|:-:|:-:|:-:|:-:\n",
      "20 May|2:30pm|[David J. Peterson](https://www.imdb.com/name/nm4018833/)|Language Creator: Game of Thrones|[Remind](https://bit.ly/3c7HRua)\n",
      "20 May|3pm|Aaron Keay|The Chairman of the BoD, The Alkaline Water Co.|[Remind](https://bit.ly/2W8GeW7)\n",
      "21 May|9am|Sean from Scruffy Chicken|Newly established mobile game developer.|[Remind Me](https://bit.ly/2ZgixOK)\n",
      "21 May|11am|[Ben White, Austan Goolsbee](https://en.wikipedia.org/wiki/Politico)|Reporter for Politico, Economist|[Remind](https://bit.ly/2yZNfRO)\n",
      "21 May|1:30pm|[Dallas Taylor](https://en.wikipedia.org/wiki/Twenty_Thousand_Hertz)|Twenty Thousand Hertz Podcast|[Remind](https://bit.ly/2zUgHIG)\n",
      "22 May|11am|Toon van Wemmel, Maxime Tolbecq, Niels Dehaes|Developers of Cannibal Cuisine|[Remind](https://bit.ly/2Letpo1)\n",
      "22 May|1pm|[Pinar Toprak](https://en.wikipedia.org/wiki/Pinar_Toprak)|Composer|[Remind](https://bit.ly/2yY3DlC)\n",
      "26 May|1pm|Jonathan Haber|Author: Critical Thinking Essentials|[Remind](https://bit.ly/3dEQpZH)\n",
      "26 May|2pm|Maximilian Muenke|Interested in the intersection of public health and genetics? Join our AMA!|[Remind Me](https://bit.ly/2Wka2Ap)\n",
      "27 May|3pm|Dr. Michael Wrinch|CEO & Founder of Hedgehog Technologies|[Remind Me](https://bit.ly/3fDa7Xy)\n",
      "28 May|2pm|SketchUp Team|SketchUp is software enabling anyone to model in 3D|[Remind Me](https://bit.ly/3cKHPZc)\n",
      "28 May|3pm|Chelsea Rustad|I am a genetic witness in the first case to go to trial/conviction via IGG.|[Remind Me](https://bit.ly/2WtSK41)\n",
      "4 Jun|11am|Jose Rojas, Olivia Vahsen|Developer Advocates at TomTom|[Remind](https://bit.ly/2y5zQHo)\n",
      "5 Jun|12:30pm|Christene Lozano|Sex therapist specializing in sex/porn addiction, sex issues, and relationships|[Remind Me](https://bit.ly/3cKI2vs)\n",
      "\n",
      "\n",
      "# [see more...](https://goo.gl/FNOlc4)\n",
      "\n",
      "---\n",
      "\n",
      "# Submitting:\n",
      "\n",
      "## AMAs should be about:\n",
      "* Something uncommon that plays a central role in your life, or\n",
      "* A truly interesting and unique event.\n",
      "* [Explanation and examples of this rule can be found here](https://www.reddit.com/r/IAmA/wiki/index)\n",
      "\n",
      "## All AMAs require proof.\n",
      "* Proof should be included in the text of the post when you start your AMA. If it must remain confidential, you can [message it to the moderators](https://goo.gl/wH5XJU) and we can verify you.\n",
      "* [See here for tips concerning proof and examples](https://www.reddit.com/r/IAmA/wiki/index)\n",
      "\n",
      "## Request threads\n",
      "* Requests should be posted in /r/IAmARequests\n",
      "\n",
      "# Commenting:\n",
      "\n",
      "## Please note:\n",
      "* All initial responses to posters must contain a properly punctuated question.\n",
      "* **Attempting to bypass this rule by adding a ? to a non question will result in a permanent ban.**\n",
      "* [See more on our comment removals policy here](https://www.reddit.com/r/IAmA/wiki/index)\n",
      "\n",
      "# Other:\n",
      "\n",
      "## Useful Links!\n",
      "* Email us at mods@askmeanythi.ng!\n",
      "* [Step-by-step guide to doing an AMA](https://goo.gl/ZZgLmS)\n",
      "* [Related subreddits](https://goo.gl/YAnv9W)\n",
      "* [Follow us on Twitter](https://goo.gl/zU6PQ) or [Like us on Facebook!](https://www.facebook.com/redditIAmA/)\n",
      "\n",
      "---\n",
      "\n",
      "\n",
      ">* **1 Oct**  \n",
      ">* **[The Capital Gazette](https://redd.it/9kgkpz)** Newsroom Shooting Survivors\n",
      ">\n",
      ">\n",
      ">#\n",
      ">* **2 Oct**\n",
      ">* **[The Salt Lake Tribune](https://redd.it/9krsmh)** Pulitzer Prize Winners\n",
      ">\n",
      ">\n",
      ">#\n",
      ">* **3 Oct** \n",
      ">* **[Pravda](https://redd.it/9l1eyq)** Russia's Leading Newspaper\n",
      ">\n",
      ">\n",
      ">#\n",
      ">* **4 Oct** \n",
      ">* **[Uganda's Daily Monitor](https://redd.it/9lc5fo)** Uganda's Leading Newspaper\n",
      ">\n",
      "#\n",
      ">* **5 Oct** \n",
      ">* **The Boston Globe** Spotlight Investigation Team\n",
      ">\n",
      ">\n",
      "#\n",
      ">* **8 Oct** \n",
      ">* **Native News Online** Indigenous Peoples' Day\n",
      ">\n",
      ">\n",
      ">* **9 Oct** \n",
      ">* **PBS NewsHour** National Correspondent\n",
      ">\n",
      ">\n",
      ">* **10 Oct** \n",
      ">* **The New York Times** National Immigration Reporter\n",
      ">\n",
      ">\n",
      ">* **11 Oct** \n",
      ">* **The Guardian** Environment Reporter\n",
      ">\n",
      ">\n",
      ">* **12 Oct** \n",
      ">* **Fox News** Bret Baier, Chief Political Editor\n",
      ">\n",
      ">\n",
      ">* **15 Oct**\n",
      ">* **The Socialist Worker** Danny Catch, Columnist\n",
      ">\n",
      ">\n",
      "\n",
      "\n",
      "######[Facebook](https://goo.gl/5FM2R6)[Twitter](https://goo.gl/kqOwT)[Instagram](https://www.instagram.com/redditama/)[Google Calendar](https://goo.gl/r0VuI)\n",
      "\n",
      "#### Please check out our [Rules and FAQs](https://www.reddit.com/r/IAmA/wiki/index)\n",
      "\n",
      "[](#/RES_SR_Config/NightModeCompatible)\n"
     ]
    }
   ],
   "source": [
    "subreddit = reddit.subreddit('iama')\n",
    "print(subreddit.display_name)\n",
    "print(subreddit.title)\n",
    "print(subreddit.description)"
   ]
  },
  {
   "cell_type": "code",
   "execution_count": 18,
   "metadata": {},
   "outputs": [
    {
     "name": "stdout",
     "output_type": "stream",
     "text": [
      "/r/IAmA is recruiting new moderators, apply here!\n",
      "/r/IAmA is recruiting new moderators, apply here!\n",
      "gidm90\n",
      "https://askmeanythi.ng/apply\n",
      "A flood of coronavirus apps are tracking all of us. We're the MIT Technology Review team helping you keep track of them. Ask us anything!\n",
      "A flood of coronavirus apps are tracking all of us. We're the MIT Technology Review team helping you keep track of them. Ask us anything!\n",
      "gmqsez\n",
      "https://www.reddit.com/r/IAmA/comments/gmqsez/a_flood_of_coronavirus_apps_are_tracking_all_of/\n",
      "I'm Hasan Minhaj and I'm the host of Patriot Act on Netflix, AMA!\n",
      "I'm Hasan Minhaj and I'm the host of Patriot Act on Netflix, AMA!\n",
      "gm5y8i\n",
      "https://www.reddit.com/r/IAmA/comments/gm5y8i/im_hasan_minhaj_and_im_the_host_of_patriot_act_on/\n",
      "We're two guys that created a gum/mint company after launching the idea on Reddit. 4 years later, we just appeared on Shark Tank and have sold over 12 million pieces. AUA!\n",
      "We're two guys that created a gum/mint company after launching the idea on Reddit. 4 years later, we just appeared on Shark Tank and have sold over 12 million pieces. AUA!\n",
      "gmtuzq\n",
      "https://www.reddit.com/r/IAmA/comments/gmtuzq/were_two_guys_that_created_a_gummint_company/\n",
      "I am Dr. Trenkle, founder of LACENTA. We are doing large scale COVID testing for businesses and our patients are asking lots of questions about antibody testing. Most tests are a scam and results aren’t worth the cost. We are helping people I’m here to help pick the right ones. Ask Me Anything!\n",
      "I am Dr. Trenkle, founder of LACENTA. We are doing large scale COVID testing for businesses and our patients are asking lots of questions about antibody testing. Most tests are a scam and results aren’t worth the cost. We are helping people I’m here to help pick the right ones. Ask Me Anything!\n",
      "gmyo5d\n",
      "https://www.reddit.com/r/IAmA/comments/gmyo5d/i_am_dr_trenkle_founder_of_lacenta_we_are_doing/\n",
      "I am a vagabond guitarist who's hitch-hiked across america twice, put over 2,000 miles on freight trains, and hiked 500 miles of the Appalachian trail, AMA\n",
      "I am a vagabond guitarist who's hitch-hiked across america twice, put over 2,000 miles on freight trains, and hiked 500 miles of the Appalachian trail, AMA\n",
      "gmrlnm\n",
      "https://www.reddit.com/r/IAmA/comments/gmrlnm/i_am_a_vagabond_guitarist_whos_hitchhiked_across/\n",
      "We’re experts featured on NPR’s Life Kit podcast with backgrounds in mental health, fitness and self-care. In honor of Mental Health Awareness Month, we’re doing a 24-hour AMA where you can ask us anything regarding how to take care of yourself and how to best keep your mind and body in shape.\n",
      "We’re experts featured on NPR’s Life Kit podcast with backgrounds in mental health, fitness and self-care. In honor of Mental Health Awareness Month, we’re doing a 24-hour AMA where you can ask us anything regarding how to take care of yourself and how to best keep your mind and body in shape.\n",
      "gmrv3a\n",
      "https://www.reddit.com/r/IAmA/comments/gmrv3a/were_experts_featured_on_nprs_life_kit_podcast/\n",
      "Hi, I am John Kearney, I’m an 80 year-old serial entrepreneur. My latest company manufactures VR simulators to train drivers of trucks and autonomous vehicles. Ask Me Anything!\n",
      "Hi, I am John Kearney, I’m an 80 year-old serial entrepreneur. My latest company manufactures VR simulators to train drivers of trucks and autonomous vehicles. Ask Me Anything!\n",
      "gmqxr4\n",
      "https://www.reddit.com/r/IAmA/comments/gmqxr4/hi_i_am_john_kearney_im_an_80_yearold_serial/\n",
      "I’m a paramedic working during the coronavirus pandemic, AMA\n",
      "I’m a paramedic working during the coronavirus pandemic, AMA\n",
      "gmmvsy\n",
      "https://www.reddit.com/r/IAmA/comments/gmmvsy/im_a_paramedic_working_during_the_coronavirus/\n",
      "IAmA Para transit bus driver who has served my community during the COVID-19 pandemic. AMA\n",
      "IAmA Para transit bus driver who has served my community during the COVID-19 pandemic. AMA\n",
      "gmznh4\n",
      "https://www.reddit.com/r/IAmA/comments/gmznh4/iama_para_transit_bus_driver_who_has_served_my/\n"
     ]
    }
   ],
   "source": [
    "# Iterate through 10 submissions marked hot\n",
    "for submission in subreddit.hot(limit=10):\n",
    "    print(submission.title)\n",
    "    print(submission.title)\n",
    "    print(submission.id)\n",
    "    print(submission.url)"
   ]
  },
  {
   "cell_type": "code",
   "execution_count": 20,
   "metadata": {},
   "outputs": [
    {
     "name": "stdout",
     "output_type": "stream",
     "text": [
      "5 submissions completed\n",
      "10 submissions completed\n",
      "15 submissions completed\n",
      "20 submissions completed\n",
      "25 submissions completed\n",
      "30 submissions completed\n",
      "35 submissions completed\n",
      "40 submissions completed\n",
      "45 submissions completed\n",
      "50 submissions completed\n",
      "55 submissions completed\n",
      "60 submissions completed\n",
      "65 submissions completed\n",
      "70 submissions completed\n",
      "75 submissions completed\n",
      "80 submissions completed\n",
      "85 submissions completed\n",
      "90 submissions completed\n",
      "95 submissions completed\n",
      "100 submissions completed\n",
      "105 submissions completed\n",
      "110 submissions completed\n",
      "115 submissions completed\n",
      "120 submissions completed\n",
      "125 submissions completed\n",
      "130 submissions completed\n",
      "135 submissions completed\n",
      "140 submissions completed\n",
      "145 submissions completed\n",
      "150 submissions completed\n",
      "155 submissions completed\n",
      "160 submissions completed\n",
      "165 submissions completed\n",
      "170 submissions completed\n",
      "175 submissions completed\n",
      "180 submissions completed\n",
      "185 submissions completed\n",
      "190 submissions completed\n",
      "195 submissions completed\n",
      "200 submissions completed\n"
     ]
    }
   ],
   "source": [
    "# Create a Pandas dataframe of basic submission stats taken from AMA\n",
    "\n",
    "ama_title = []\n",
    "time = []\n",
    "num_upvotes = []\n",
    "num_comments = []\n",
    "upvote_ratio = []\n",
    "link_flair = []\n",
    "redditor = []\n",
    "i=0\n",
    "\n",
    "for submission in subreddit.top(limit=200):\n",
    "    i+=1\n",
    "    ama_title.append(submission.title)\n",
    "    time.append(submission.created_utc)\n",
    "    num_upvotes.append(submission.score)\n",
    "    num_comments.append(submission.num_comments)\n",
    "    upvote_ratio.append(submission.upvote_ratio)\n",
    "    link_flair.append(submission.link_flair_text)\n",
    "    redditor.append(submission.author)\n",
    "    if i%5 == 0:\n",
    "        print(f'{i} submissions completed')"
   ]
  },
  {
   "cell_type": "code",
   "execution_count": 21,
   "metadata": {},
   "outputs": [
    {
     "data": {
      "text/html": [
       "<div>\n",
       "<style scoped>\n",
       "    .dataframe tbody tr th:only-of-type {\n",
       "        vertical-align: middle;\n",
       "    }\n",
       "\n",
       "    .dataframe tbody tr th {\n",
       "        vertical-align: top;\n",
       "    }\n",
       "\n",
       "    .dataframe thead th {\n",
       "        text-align: right;\n",
       "    }\n",
       "</style>\n",
       "<table border=\"1\" class=\"dataframe\">\n",
       "  <thead>\n",
       "    <tr style=\"text-align: right;\">\n",
       "      <th></th>\n",
       "      <th>ama_title</th>\n",
       "      <th>time</th>\n",
       "      <th>num_comments</th>\n",
       "      <th>num_upvotes</th>\n",
       "      <th>upvote_ratio</th>\n",
       "      <th>link_flair</th>\n",
       "      <th>redditor</th>\n",
       "    </tr>\n",
       "  </thead>\n",
       "  <tbody>\n",
       "    <tr>\n",
       "      <td>0</td>\n",
       "      <td>I am Barack Obama, President of the United Sta...</td>\n",
       "      <td>1.346270e+09</td>\n",
       "      <td>23093</td>\n",
       "      <td>216145</td>\n",
       "      <td>0.68</td>\n",
       "      <td></td>\n",
       "      <td>PresidentObama</td>\n",
       "    </tr>\n",
       "    <tr>\n",
       "      <td>1</td>\n",
       "      <td>Protect Net Neutrality. Save the Internet.</td>\n",
       "      <td>1.511329e+09</td>\n",
       "      <td>2738</td>\n",
       "      <td>201651</td>\n",
       "      <td>0.88</td>\n",
       "      <td>None</td>\n",
       "      <td>root_su</td>\n",
       "    </tr>\n",
       "    <tr>\n",
       "      <td>2</td>\n",
       "      <td>[AMA Request] Victoria, ex-AMA mod</td>\n",
       "      <td>1.435945e+09</td>\n",
       "      <td>2813</td>\n",
       "      <td>126771</td>\n",
       "      <td>0.81</td>\n",
       "      <td></td>\n",
       "      <td>korantano</td>\n",
       "    </tr>\n",
       "    <tr>\n",
       "      <td>3</td>\n",
       "      <td>FCC just voted to kill Net Neutrality. Now we ...</td>\n",
       "      <td>1.513275e+09</td>\n",
       "      <td>2639</td>\n",
       "      <td>121799</td>\n",
       "      <td>0.79</td>\n",
       "      <td>Nonprofit</td>\n",
       "      <td>FPGauravLaroia</td>\n",
       "    </tr>\n",
       "    <tr>\n",
       "      <td>4</td>\n",
       "      <td>I’m American citizen, undecided voter, loving ...</td>\n",
       "      <td>1.476408e+09</td>\n",
       "      <td>16869</td>\n",
       "      <td>116904</td>\n",
       "      <td>0.87</td>\n",
       "      <td>Politics</td>\n",
       "      <td>StanGibson18</td>\n",
       "    </tr>\n",
       "    <tr>\n",
       "      <td>5</td>\n",
       "      <td>I’m Bill Gates, co-chair of the Bill &amp; Melinda...</td>\n",
       "      <td>1.551116e+09</td>\n",
       "      <td>19459</td>\n",
       "      <td>110079</td>\n",
       "      <td>0.80</td>\n",
       "      <td>Nonprofit</td>\n",
       "      <td>thisisbillgates</td>\n",
       "    </tr>\n",
       "    <tr>\n",
       "      <td>6</td>\n",
       "      <td>I’m Bill Gates, co-chair of the Bill &amp; Melinda...</td>\n",
       "      <td>1.519757e+09</td>\n",
       "      <td>19294</td>\n",
       "      <td>105326</td>\n",
       "      <td>0.85</td>\n",
       "      <td>Nonprofit</td>\n",
       "      <td>thisisbillgates</td>\n",
       "    </tr>\n",
       "    <tr>\n",
       "      <td>7</td>\n",
       "      <td>I am Leah Remini, Ask Me Anything about Scient...</td>\n",
       "      <td>1.480439e+09</td>\n",
       "      <td>17819</td>\n",
       "      <td>97725</td>\n",
       "      <td>0.90</td>\n",
       "      <td>Actor / Entertainer</td>\n",
       "      <td>TheRealLeahRemini</td>\n",
       "    </tr>\n",
       "    <tr>\n",
       "      <td>8</td>\n",
       "      <td>I’m Bill Gates, co-chair of the Bill &amp; Melinda...</td>\n",
       "      <td>1.488213e+09</td>\n",
       "      <td>16517</td>\n",
       "      <td>97540</td>\n",
       "      <td>0.85</td>\n",
       "      <td>Nonprofit</td>\n",
       "      <td>thisisbillgates</td>\n",
       "    </tr>\n",
       "    <tr>\n",
       "      <td>9</td>\n",
       "      <td>I am Senator Bernie Sanders. Ask Me Anything!</td>\n",
       "      <td>1.541180e+09</td>\n",
       "      <td>15299</td>\n",
       "      <td>96474</td>\n",
       "      <td>0.70</td>\n",
       "      <td>Politics</td>\n",
       "      <td>bernie-sanders</td>\n",
       "    </tr>\n",
       "  </tbody>\n",
       "</table>\n",
       "</div>"
      ],
      "text/plain": [
       "                                           ama_title          time  \\\n",
       "0  I am Barack Obama, President of the United Sta...  1.346270e+09   \n",
       "1         Protect Net Neutrality. Save the Internet.  1.511329e+09   \n",
       "2                 [AMA Request] Victoria, ex-AMA mod  1.435945e+09   \n",
       "3  FCC just voted to kill Net Neutrality. Now we ...  1.513275e+09   \n",
       "4  I’m American citizen, undecided voter, loving ...  1.476408e+09   \n",
       "5  I’m Bill Gates, co-chair of the Bill & Melinda...  1.551116e+09   \n",
       "6  I’m Bill Gates, co-chair of the Bill & Melinda...  1.519757e+09   \n",
       "7  I am Leah Remini, Ask Me Anything about Scient...  1.480439e+09   \n",
       "8  I’m Bill Gates, co-chair of the Bill & Melinda...  1.488213e+09   \n",
       "9      I am Senator Bernie Sanders. Ask Me Anything!  1.541180e+09   \n",
       "\n",
       "   num_comments  num_upvotes  upvote_ratio           link_flair  \\\n",
       "0         23093       216145          0.68                        \n",
       "1          2738       201651          0.88                 None   \n",
       "2          2813       126771          0.81                        \n",
       "3          2639       121799          0.79            Nonprofit   \n",
       "4         16869       116904          0.87             Politics   \n",
       "5         19459       110079          0.80            Nonprofit   \n",
       "6         19294       105326          0.85            Nonprofit   \n",
       "7         17819        97725          0.90  Actor / Entertainer   \n",
       "8         16517        97540          0.85            Nonprofit   \n",
       "9         15299        96474          0.70             Politics   \n",
       "\n",
       "            redditor  \n",
       "0     PresidentObama  \n",
       "1            root_su  \n",
       "2          korantano  \n",
       "3     FPGauravLaroia  \n",
       "4       StanGibson18  \n",
       "5    thisisbillgates  \n",
       "6    thisisbillgates  \n",
       "7  TheRealLeahRemini  \n",
       "8    thisisbillgates  \n",
       "9     bernie-sanders  "
      ]
     },
     "execution_count": 21,
     "metadata": {},
     "output_type": "execute_result"
    }
   ],
   "source": [
    "ama_df = pd.DataFrame(\n",
    "    {'ama_title': ama_title,\n",
    "     'time': time,\n",
    "     'num_comments': num_comments,\n",
    "     'num_upvotes': num_upvotes,\n",
    "     'upvote_ratio': upvote_ratio,\n",
    "     'link_flair': link_flair,\n",
    "     'redditor': redditor\n",
    "     })\n",
    "\n",
    "ama_df.head(10)"
   ]
  },
  {
   "cell_type": "code",
   "execution_count": 29,
   "metadata": {},
   "outputs": [
    {
     "data": {
      "image/png": "[encoded data removed]",
      "text/plain": [
       "<Figure size 1080x360 with 1 Axes>"
      ]
     },
     "metadata": {},
     "output_type": "display_data"
    }
   ],
   "source": [
    "import matplotlib.pyplot as plt\n",
    "%matplotlib inline\n",
    "import seaborn as sns\n",
    "\n",
    "ama_df = ama_df.sort_values(by='num_comments', ascending=False)\n",
    "sns.set(rc={'figure.figsize':(15,5)})\n",
    "ax = sns.barplot(y=ama_df['num_comments'], x=ama_df['redditor'][:12], data=ama_df,\n",
    "                 palette=\"Blues_d\").set_title('Most Commented AMA Discussions')"
   ]
  },
  {
   "cell_type": "markdown",
   "metadata": {
    "colab_type": "text",
    "id": "Khno5kpWKcl5"
   },
   "source": [
    "#### Posting to Reddit"
   ]
  },
  {
   "cell_type": "markdown",
   "metadata": {
    "colab_type": "text",
    "id": "zjnyN1OfKcl6"
   },
   "source": [
    "To be able to post to your Reddit account (i.e. contribute submissions), you need to connect to the API with read/write privilege. This requires an *authorised instance*, which is obtained by including your Reddit user name and password in the connection request: "
   ]
  },
  {
   "cell_type": "code",
   "execution_count": 0,
   "metadata": {
    "colab": {},
    "colab_type": "code",
    "id": "ZXG7kouZKcl7"
   },
   "outputs": [],
   "source": [
    "reddit = praw.Reddit(client_id='my client id',\n",
    "                     client_secret='my client secret',\n",
    "                     user_agent='my user agent',\n",
    "                     username='my username',\n",
    "                     password='my password')\n",
    "print(reddit.read_only)  # Output: False"
   ]
  },
  {
   "cell_type": "markdown",
   "metadata": {
    "colab_type": "text",
    "id": "nEjrsF9vKcl-"
   },
   "source": [
    "You could hide these last two credentials by adding them to your JSON file and then reading all five values at once."
   ]
  },
  {
   "cell_type": "code",
   "execution_count": 0,
   "metadata": {
    "colab": {},
    "colab_type": "code",
    "id": "BVcbR0K1Kcl_"
   },
   "outputs": [],
   "source": []
  },
  {
   "cell_type": "markdown",
   "metadata": {
    "colab_type": "text",
    "id": "WqBG4xS5Kk3X"
   },
   "source": [
    ">\n",
    ">\n"
   ]
  },
  {
   "cell_type": "markdown",
   "metadata": {
    "colab_type": "text",
    "id": "EfPDz2gEKnRn"
   },
   "source": [
    ">\n",
    ">\n"
   ]
  },
  {
   "cell_type": "markdown",
   "metadata": {
    "colab_type": "text",
    "id": "5Uo-KnYhKoRA"
   },
   "source": [
    "\n",
    "\n",
    "---\n",
    "\n",
    "\n",
    "\n",
    "---\n",
    "\n",
    "\n",
    "\n",
    "> > > > > > > > > © 2019 Institute of Data\n",
    "\n",
    "\n",
    "---\n",
    "\n",
    "\n",
    "\n",
    "---\n",
    "\n",
    "\n",
    "\n"
   ]
  }
 ],
 "metadata": {
  "colab": {
   "collapsed_sections": [],
   "name": "DSIA Lab 2.2.3.ipynb",
   "provenance": []
  },
  "kernelspec": {
   "display_name": "Python 3",
   "language": "python",
   "name": "python3"
  },
  "language_info": {
   "codemirror_mode": {
    "name": "ipython",
    "version": 3
   },
   "file_extension": ".py",
   "mimetype": "text/x-python",
   "name": "python",
   "nbconvert_exporter": "python",
   "pygments_lexer": "ipython3",
   "version": "3.7.4"
  }
 },
 "nbformat": 4,
 "nbformat_minor": 1
}
