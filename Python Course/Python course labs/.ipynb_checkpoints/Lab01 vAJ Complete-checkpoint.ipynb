{
 "cells": [
  {
   "cell_type": "markdown",
   "metadata": {
    "colab_type": "text",
    "id": "7KeNKtNL2Ix-"
   },
   "source": [
    "<div>\n",
    "<img src=https://www.institutedata.com/wp-content/uploads/2019/10/iod_h_tp_primary_c.svg width=\"300\">\n",
    "</div>\n",
    "\n",
    "# Python - Lab 1 \n",
    "\n",
    "## Learning objectives\n",
    "\n",
    "This lab demonstrates examples of: \n",
    "\n",
    "1. Creating and manipulating lists\n",
    "2. For loops\n",
    "3. Importing modules and functions\n",
    "4. Creating dictonaries\n",
    "\n",
    "## Instructions:\n",
    "\n",
    "1. Replace ??? with the appropriate code\n",
    "2. Press Shift + Enter to execute cell\n",
    "\n"
   ]
  },
  {
   "cell_type": "code",
   "execution_count": 1,
   "metadata": {
    "colab": {},
    "colab_type": "code",
    "id": "NaRcNY1l2LbD"
   },
   "outputs": [],
   "source": [
    "# create a list of 10 student (use just first name)\n",
    "students = ['Allen', 'Bob', 'Cathy', 'David', 'Emily', 'Frank', 'Gary', 'Hilary', 'Ivan', 'Janice']"
   ]
  },
  {
   "cell_type": "code",
   "execution_count": 2,
   "metadata": {
    "colab": {},
    "colab_type": "code",
    "id": "lyMlOgoUZ2R4"
   },
   "outputs": [
    {
     "name": "stdout",
     "output_type": "stream",
     "text": [
      "['Allen', 'Bob', 'Cathy', 'David', 'Emily', 'Frank', 'Gary', 'Hilary', 'Ivan', 'Janice']\n"
     ]
    }
   ],
   "source": [
    "# Print the list\n",
    "print(students)"
   ]
  },
  {
   "cell_type": "code",
   "execution_count": 5,
   "metadata": {
    "colab": {},
    "colab_type": "code",
    "id": "LtbLA_T811kr"
   },
   "outputs": [
    {
     "name": "stdout",
     "output_type": "stream",
     "text": [
      "Index 01 Allen\n",
      "Index 02 Bob\n",
      "Index 03 Cathy\n",
      "Index 04 David\n",
      "Index 05 Emily\n",
      "Index 06 Frank\n",
      "Index 07 Gary\n",
      "Index 08 Hilary\n",
      "Index 09 Ivan\n",
      "Index 10 Janice\n"
     ]
    }
   ],
   "source": [
    "# print the list of students\n",
    "# in the following format\n",
    "# Index 01 \t Alice\n",
    "# Index 02 \t Bob\n",
    "# Index 03 \t Pradeep\n",
    "for i, name in enumerate(students,0):\n",
    "    print(f\"Index {i+1:02d}\" , name)"
   ]
  },
  {
   "cell_type": "code",
   "execution_count": 10,
   "metadata": {
    "colab": {},
    "colab_type": "code",
    "id": "OF5sj3CX1lHl"
   },
   "outputs": [
    {
     "name": "stdout",
     "output_type": "stream",
     "text": [
      "Index 01 Janice\n",
      "Index 02 Ivan\n",
      "Index 03 Hilary\n",
      "Index 04 Gary\n",
      "Index 05 Frank\n",
      "Index 06 Emily\n",
      "Index 07 David\n",
      "Index 08 Cathy\n",
      "Index 09 Bob\n",
      "Index 10 Allen\n"
     ]
    }
   ],
   "source": [
    "# print the list of students in reverse order one student in a line with its index\n",
    "for i, name in enumerate(reversed(students),0):\n",
    "    print(f\"Index {i+1:02d}\" , name)"
   ]
  },
  {
   "cell_type": "code",
   "execution_count": 14,
   "metadata": {
    "colab": {},
    "colab_type": "code",
    "id": "eAdtim4G1pyV"
   },
   "outputs": [
    {
     "name": "stdout",
     "output_type": "stream",
     "text": [
      "['Emily', 'Bob', 'David', 'Janice', 'Frank', 'Ivan', 'Gary', 'Allen', 'Hilary', 'Cathy']\n"
     ]
    }
   ],
   "source": [
    "# print the student list in random order\n",
    "# hint look up the function random.sample\n",
    "import random\n",
    "print(random.sample(students,k=10))"
   ]
  },
  {
   "cell_type": "code",
   "execution_count": 16,
   "metadata": {
    "colab": {},
    "colab_type": "code",
    "id": "sfKkL5dt1tqG"
   },
   "outputs": [
    {
     "name": "stdout",
     "output_type": "stream",
     "text": [
      "Students and their marks: \n",
      " {87: 'Allen', 45: 'Bob', 76: 'Cathy', 64: 'David', 66: 'Emily', 90: 'Frank', 55: 'Gary', 73: 'Hilary', 69: 'Ivan', 75: 'Janice'}\n",
      "90 Frank\n",
      "87 Allen\n",
      "76 Cathy\n",
      "75 Janice\n",
      "73 Hilary\n",
      "69 Ivan\n",
      "66 Emily\n",
      "64 David\n",
      "55 Gary\n",
      "45 Bob\n"
     ]
    }
   ],
   "source": [
    "# list students in order of their exam marks in the following list\n",
    "marks = [87,45,76,64,66,90,55,73,69,75]\n",
    "\n",
    "studentsAndMarks = dict(zip(marks, students))\n",
    "print(f\"Students and their marks: \\n {studentsAndMarks}\")\n",
    "\n",
    "for key in sorted(studentsAndMarks.keys(), reverse=True):\n",
    "    print(\"%s %s\" % (key, studentsAndMarks[key]))\n"
   ]
  },
  {
   "cell_type": "code",
   "execution_count": 0,
   "metadata": {
    "colab": {},
    "colab_type": "code",
    "id": "9d9QrXRo182c"
   },
   "outputs": [],
   "source": []
  }
 ],
 "metadata": {
  "colab": {
   "collapsed_sections": [],
   "name": "Lab01.ipynb",
   "provenance": []
  },
  "kernelspec": {
   "display_name": "Python 3",
   "language": "python",
   "name": "python3"
  },
  "language_info": {
   "codemirror_mode": {
    "name": "ipython",
    "version": 3
   },
   "file_extension": ".py",
   "mimetype": "text/x-python",
   "name": "python",
   "nbconvert_exporter": "python",
   "pygments_lexer": "ipython3",
   "version": "3.7.4"
  }
 },
 "nbformat": 4,
 "nbformat_minor": 1
}
