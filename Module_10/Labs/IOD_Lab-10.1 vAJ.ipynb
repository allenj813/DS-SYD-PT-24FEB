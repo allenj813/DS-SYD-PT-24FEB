{
 "cells": [
  {
   "cell_type": "markdown",
   "metadata": {
    "colab_type": "text",
    "id": "gn3SG1yo1KdV"
   },
   "source": [
    "<div>\n",
    "<img src=https://www.institutedata.com/wp-content/uploads/2019/10/iod_h_tp_primary_c.svg width=\"300\">\n",
    "</div>"
   ]
  },
  {
   "cell_type": "markdown",
   "metadata": {
    "colab_type": "text",
    "id": "g-SD7a9X1KdY"
   },
   "source": [
    "# Lab 10.1: NN with Keras\n",
    "INSTRUCTIONS:\n",
    "- Read the guides and hints, then create the necessary analysis and code to find an answer and conclusion for the task below.\n",
    "- **NOTE**: This is a Regression problem. Consider the appropriate:\n",
    "    - Activation function\n",
    "    - Loss/Cost Function\n",
    "    - Metrics\n",
    "    - This is a regression problem, as opposed to a classification problem (on the demo)"
   ]
  },
  {
   "cell_type": "markdown",
   "metadata": {
    "colab_type": "text",
    "id": "ENgfRnvL1Kdc"
   },
   "source": [
    "### Import libraries"
   ]
  },
  {
   "cell_type": "code",
   "execution_count": 6,
   "metadata": {
    "colab": {},
    "colab_type": "code",
    "id": "Z9H465X-1Kde"
   },
   "outputs": [],
   "source": [
    "## Import libraries\n",
    "import tensorflow as tf\n",
    "from tensorflow import keras\n",
    "import numpy as np\n",
    "import pandas as pd\n",
    "\n",
    "%matplotlib inline\n",
    "import matplotlib.pyplot as plt\n",
    "\n",
    "from sklearn import datasets\n",
    "from sklearn.metrics import confusion_matrix\n",
    "from sklearn.model_selection import train_test_split\n",
    "\n",
    "# import keras\n",
    "from keras.models import Sequential\n",
    "from keras.layers import Dense\n",
    "from keras.layers import Conv2D\n",
    "from keras.layers import Flatten\n",
    "from keras.utils import to_categorical"
   ]
  },
  {
   "cell_type": "code",
   "execution_count": 7,
   "metadata": {},
   "outputs": [
    {
     "name": "stdout",
     "output_type": "stream",
     "text": [
      "2.3.0-tf\n"
     ]
    }
   ],
   "source": [
    "print(keras.__version__)\n",
    "print(keras.__version__)"
   ]
  },
  {
   "cell_type": "markdown",
   "metadata": {
    "colab_type": "text",
    "id": "5FHh910J1Kdm"
   },
   "source": [
    "### Load data\n",
    "Load the Diabetes dataset from **SciKit-Learn**."
   ]
  },
  {
   "cell_type": "code",
   "execution_count": 10,
   "metadata": {
    "colab": {},
    "colab_type": "code",
    "id": "MWu8SlQF1Kdo"
   },
   "outputs": [],
   "source": [
    "# insert code here\n",
    "from sklearn.datasets import load_diabetes\n",
    "diabetes = load_diabetes()"
   ]
  },
  {
   "cell_type": "code",
   "execution_count": 11,
   "metadata": {},
   "outputs": [
    {
     "name": "stdout",
     "output_type": "stream",
     "text": [
      ".. _diabetes_dataset:\n",
      "\n",
      "Diabetes dataset\n",
      "----------------\n",
      "\n",
      "Ten baseline variables, age, sex, body mass index, average blood\n",
      "pressure, and six blood serum measurements were obtained for each of n =\n",
      "442 diabetes patients, as well as the response of interest, a\n",
      "quantitative measure of disease progression one year after baseline.\n",
      "\n",
      "**Data Set Characteristics:**\n",
      "\n",
      "  :Number of Instances: 442\n",
      "\n",
      "  :Number of Attributes: First 10 columns are numeric predictive values\n",
      "\n",
      "  :Target: Column 11 is a quantitative measure of disease progression one year after baseline\n",
      "\n",
      "  :Attribute Information:\n",
      "      - age     age in years\n",
      "      - sex\n",
      "      - bmi     body mass index\n",
      "      - bp      average blood pressure\n",
      "      - s1      tc, T-Cells (a type of white blood cells)\n",
      "      - s2      ldl, low-density lipoproteins\n",
      "      - s3      hdl, high-density lipoproteins\n",
      "      - s4      tch, thyroid stimulating hormone\n",
      "      - s5      ltg, lamotrigine\n",
      "      - s6      glu, blood sugar level\n",
      "\n",
      "Note: Each of these 10 feature variables have been mean centered and scaled by the standard deviation times `n_samples` (i.e. the sum of squares of each column totals 1).\n",
      "\n",
      "Source URL:\n",
      "https://www4.stat.ncsu.edu/~boos/var.select/diabetes.html\n",
      "\n",
      "For more information see:\n",
      "Bradley Efron, Trevor Hastie, Iain Johnstone and Robert Tibshirani (2004) \"Least Angle Regression,\" Annals of Statistics (with discussion), 407-499.\n",
      "(https://web.stanford.edu/~hastie/Papers/LARS/LeastAngle_2002.pdf)\n"
     ]
    }
   ],
   "source": [
    "print(diabetes.DESCR)"
   ]
  },
  {
   "cell_type": "markdown",
   "metadata": {
    "colab_type": "text",
    "id": "xR_yLpR01Kdr"
   },
   "source": [
    "### Prepare input data"
   ]
  },
  {
   "cell_type": "code",
   "execution_count": 13,
   "metadata": {
    "colab": {},
    "colab_type": "code",
    "id": "Sp2mf2bB1Kds"
   },
   "outputs": [],
   "source": [
    "# Insert code here\n",
    "# Using only one feature\n",
    "X = diabetes.data\n",
    "n_cols = X.shape[1]\n",
    "\n",
    "# Output\n",
    "y = diabetes.target"
   ]
  },
  {
   "cell_type": "code",
   "execution_count": 29,
   "metadata": {},
   "outputs": [
    {
     "data": {
      "text/plain": [
       "(442, 10)"
      ]
     },
     "execution_count": 29,
     "metadata": {},
     "output_type": "execute_result"
    }
   ],
   "source": [
    "X.shape"
   ]
  },
  {
   "cell_type": "markdown",
   "metadata": {
    "colab_type": "text",
    "id": "j1Vsh6cm1Kdv"
   },
   "source": [
    "### Split the data (training/test)"
   ]
  },
  {
   "cell_type": "code",
   "execution_count": 14,
   "metadata": {
    "colab": {},
    "colab_type": "code",
    "id": "O341llJz1Kdw"
   },
   "outputs": [],
   "source": [
    "# insert code here\n",
    "X_train, X_test, y_train, y_test = train_test_split(\n",
    "    X, y,\n",
    "    test_size = 0.3)"
   ]
  },
  {
   "cell_type": "markdown",
   "metadata": {
    "colab_type": "text",
    "id": "o4dJViJD1Kd0"
   },
   "source": [
    "### Create the model's architecture"
   ]
  },
  {
   "cell_type": "code",
   "execution_count": 25,
   "metadata": {
    "colab": {},
    "colab_type": "code",
    "id": "Tkgf_BLl1Kd1"
   },
   "outputs": [],
   "source": [
    "# insert code here\n",
    "model = Sequential()\n",
    "\n",
    "# Add first hidden layer, 15 is arbitrary and hyperparameters\n",
    "model.add(Dense(15, activation = 'relu', input_shape = (n_cols, )))\n",
    "\n",
    "# Add second hidden layer, 5 is arbitrary and hyperparameters\n",
    "model.add(Dense(5, activation = 'relu'))\n",
    "\n",
    "# Add output layer, use linear because it is regression\n",
    "model.add(Dense(1, activation = 'linear'))"
   ]
  },
  {
   "cell_type": "code",
   "execution_count": 26,
   "metadata": {},
   "outputs": [
    {
     "name": "stdout",
     "output_type": "stream",
     "text": [
      "Model: \"sequential_5\"\n",
      "_________________________________________________________________\n",
      "Layer (type)                 Output Shape              Param #   \n",
      "=================================================================\n",
      "dense_12 (Dense)             (None, 15)                165       \n",
      "_________________________________________________________________\n",
      "dense_13 (Dense)             (None, 5)                 80        \n",
      "_________________________________________________________________\n",
      "dense_14 (Dense)             (None, 1)                 6         \n",
      "=================================================================\n",
      "Total params: 251\n",
      "Trainable params: 251\n",
      "Non-trainable params: 0\n",
      "_________________________________________________________________\n",
      "None\n"
     ]
    }
   ],
   "source": [
    "print(model.summary())"
   ]
  },
  {
   "cell_type": "markdown",
   "metadata": {
    "colab_type": "text",
    "id": "5hQTS42V1Kd4"
   },
   "source": [
    "### Compile the model"
   ]
  },
  {
   "cell_type": "code",
   "execution_count": 27,
   "metadata": {
    "colab": {},
    "colab_type": "code",
    "id": "BvLsoanF1Kd5"
   },
   "outputs": [],
   "source": [
    "# Optimizer tries to minimize the loss function after every epoch\n",
    "# Depends on if regression, classification, etc\n",
    "\n",
    "model.compile(\n",
    "    optimizer = 'adam',\n",
    "    loss = 'mse',\n",
    "    metrics = ['mse'])"
   ]
  },
  {
   "cell_type": "markdown",
   "metadata": {
    "colab_type": "text",
    "id": "6KPQbnEj1Kd7"
   },
   "source": [
    "### Fit the training data"
   ]
  },
  {
   "cell_type": "code",
   "execution_count": null,
   "metadata": {},
   "outputs": [],
   "source": [
    "# Shuffle training data\n",
    "# from sklearn.utils import shuffle\n",
    "# X_train2"
   ]
  },
  {
   "cell_type": "code",
   "execution_count": 31,
   "metadata": {
    "colab": {},
    "colab_type": "code",
    "id": "-oiuHjEj1Kd8"
   },
   "outputs": [
    {
     "name": "stdout",
     "output_type": "stream",
     "text": [
      "Epoch 1/100\n",
      "12/12 [==============================] - 0s 4ms/step - loss: 3148.0967 - mse: 3148.0967 - val_loss: 3054.0188 - val_mse: 3054.0188\n",
      "Epoch 2/100\n",
      "12/12 [==============================] - 0s 5ms/step - loss: 3143.2349 - mse: 3143.2354 - val_loss: 3052.6655 - val_mse: 3052.6658\n",
      "Epoch 3/100\n",
      "12/12 [==============================] - 0s 4ms/step - loss: 3139.1565 - mse: 3139.1565 - val_loss: 3051.8376 - val_mse: 3051.8376\n",
      "Epoch 4/100\n",
      "12/12 [==============================] - 0s 4ms/step - loss: 3132.7542 - mse: 3132.7542 - val_loss: 3046.4062 - val_mse: 3046.4062\n",
      "Epoch 5/100\n",
      "12/12 [==============================] - 0s 5ms/step - loss: 3128.2344 - mse: 3128.2344 - val_loss: 3043.3257 - val_mse: 3043.3257\n",
      "Epoch 6/100\n",
      "12/12 [==============================] - 0s 4ms/step - loss: 3125.1934 - mse: 3125.1934 - val_loss: 3034.8088 - val_mse: 3034.8088\n",
      "Epoch 7/100\n",
      "12/12 [==============================] - 0s 5ms/step - loss: 3118.8728 - mse: 3118.8728 - val_loss: 3031.7771 - val_mse: 3031.7771\n",
      "Epoch 8/100\n",
      "12/12 [==============================] - 0s 4ms/step - loss: 3113.9495 - mse: 3113.9495 - val_loss: 3030.5195 - val_mse: 3030.5195\n",
      "Epoch 9/100\n",
      "12/12 [==============================] - 0s 4ms/step - loss: 3109.6589 - mse: 3109.6589 - val_loss: 3028.2944 - val_mse: 3028.2944\n",
      "Epoch 10/100\n",
      "12/12 [==============================] - 0s 4ms/step - loss: 3105.5649 - mse: 3105.5649 - val_loss: 3025.8777 - val_mse: 3025.8777\n",
      "Epoch 11/100\n",
      "12/12 [==============================] - 0s 3ms/step - loss: 3100.6860 - mse: 3100.6860 - val_loss: 3023.1758 - val_mse: 3023.1758\n",
      "Epoch 12/100\n",
      "12/12 [==============================] - 0s 4ms/step - loss: 3096.8215 - mse: 3096.8215 - val_loss: 3022.6675 - val_mse: 3022.6675\n",
      "Epoch 13/100\n",
      "12/12 [==============================] - 0s 4ms/step - loss: 3092.0730 - mse: 3092.0730 - val_loss: 3018.7537 - val_mse: 3018.7537\n",
      "Epoch 14/100\n",
      "12/12 [==============================] - 0s 5ms/step - loss: 3087.4829 - mse: 3087.4829 - val_loss: 3014.7603 - val_mse: 3014.7603\n",
      "Epoch 15/100\n",
      "12/12 [==============================] - 0s 4ms/step - loss: 3082.8828 - mse: 3082.8828 - val_loss: 3012.5408 - val_mse: 3012.5408\n",
      "Epoch 16/100\n",
      "12/12 [==============================] - 0s 4ms/step - loss: 3079.2349 - mse: 3079.2349 - val_loss: 3010.3528 - val_mse: 3010.3528\n",
      "Epoch 17/100\n",
      "12/12 [==============================] - 0s 4ms/step - loss: 3075.5630 - mse: 3075.5630 - val_loss: 3005.2327 - val_mse: 3005.2327\n",
      "Epoch 18/100\n",
      "12/12 [==============================] - 0s 4ms/step - loss: 3071.6353 - mse: 3071.6353 - val_loss: 3001.4939 - val_mse: 3001.4939\n",
      "Epoch 19/100\n",
      "12/12 [==============================] - 0s 5ms/step - loss: 3066.3167 - mse: 3066.3169 - val_loss: 3001.0769 - val_mse: 3001.0769\n",
      "Epoch 20/100\n",
      "12/12 [==============================] - 0s 6ms/step - loss: 3061.5469 - mse: 3061.5469 - val_loss: 2998.1365 - val_mse: 2998.1365\n",
      "Epoch 21/100\n",
      "12/12 [==============================] - 0s 5ms/step - loss: 3057.7510 - mse: 3057.7510 - val_loss: 2995.3657 - val_mse: 2995.3657\n",
      "Epoch 22/100\n",
      "12/12 [==============================] - 0s 5ms/step - loss: 3053.6792 - mse: 3053.6792 - val_loss: 2994.4565 - val_mse: 2994.4563\n",
      "Epoch 23/100\n",
      "12/12 [==============================] - 0s 5ms/step - loss: 3049.7561 - mse: 3049.7561 - val_loss: 2990.5273 - val_mse: 2990.5273\n",
      "Epoch 24/100\n",
      "12/12 [==============================] - 0s 5ms/step - loss: 3045.0117 - mse: 3045.0115 - val_loss: 2989.3979 - val_mse: 2989.3979\n",
      "Epoch 25/100\n",
      "12/12 [==============================] - 0s 4ms/step - loss: 3043.8311 - mse: 3043.8311 - val_loss: 2983.7517 - val_mse: 2983.7517\n",
      "Epoch 26/100\n",
      "12/12 [==============================] - 0s 5ms/step - loss: 3036.5996 - mse: 3036.5996 - val_loss: 2984.2776 - val_mse: 2984.2776\n",
      "Epoch 27/100\n",
      "12/12 [==============================] - 0s 5ms/step - loss: 3033.5059 - mse: 3033.5059 - val_loss: 2982.2302 - val_mse: 2982.2302\n",
      "Epoch 28/100\n",
      "12/12 [==============================] - 0s 6ms/step - loss: 3030.8801 - mse: 3030.8801 - val_loss: 2977.5012 - val_mse: 2977.5012\n",
      "Epoch 29/100\n",
      "12/12 [==============================] - 0s 4ms/step - loss: 3024.9534 - mse: 3024.9531 - val_loss: 2976.1536 - val_mse: 2976.1536\n",
      "Epoch 30/100\n",
      "12/12 [==============================] - 0s 4ms/step - loss: 3024.2598 - mse: 3024.2598 - val_loss: 2970.9456 - val_mse: 2970.9456\n",
      "Epoch 31/100\n",
      "12/12 [==============================] - 0s 5ms/step - loss: 3017.4089 - mse: 3017.4089 - val_loss: 2970.1919 - val_mse: 2970.1919\n",
      "Epoch 32/100\n",
      "12/12 [==============================] - 0s 4ms/step - loss: 3016.7747 - mse: 3016.7747 - val_loss: 2971.1077 - val_mse: 2971.1077\n",
      "Epoch 33/100\n",
      "12/12 [==============================] - 0s 5ms/step - loss: 3010.1189 - mse: 3010.1189 - val_loss: 2967.1101 - val_mse: 2967.1101\n",
      "Epoch 34/100\n",
      "12/12 [==============================] - 0s 4ms/step - loss: 3006.6135 - mse: 3006.6135 - val_loss: 2965.1433 - val_mse: 2965.1433\n",
      "Epoch 35/100\n",
      "12/12 [==============================] - 0s 4ms/step - loss: 3003.8896 - mse: 3003.8896 - val_loss: 2965.1240 - val_mse: 2965.1240\n",
      "Epoch 36/100\n",
      "12/12 [==============================] - 0s 5ms/step - loss: 3000.1511 - mse: 3000.1511 - val_loss: 2960.3259 - val_mse: 2960.3259\n",
      "Epoch 37/100\n",
      "12/12 [==============================] - 0s 5ms/step - loss: 2996.2805 - mse: 2996.2805 - val_loss: 2959.8040 - val_mse: 2959.8040\n",
      "Epoch 38/100\n",
      "12/12 [==============================] - 0s 3ms/step - loss: 2993.0073 - mse: 2993.0073 - val_loss: 2958.4651 - val_mse: 2958.4651\n",
      "Epoch 39/100\n",
      "12/12 [==============================] - 0s 3ms/step - loss: 2989.1504 - mse: 2989.1504 - val_loss: 2954.1250 - val_mse: 2954.1250\n",
      "Epoch 40/100\n",
      "12/12 [==============================] - 0s 4ms/step - loss: 2985.2825 - mse: 2985.2825 - val_loss: 2951.7629 - val_mse: 2951.7629\n",
      "Epoch 41/100\n",
      "12/12 [==============================] - 0s 3ms/step - loss: 2982.2222 - mse: 2982.2222 - val_loss: 2950.0935 - val_mse: 2950.0935\n",
      "Epoch 42/100\n",
      "12/12 [==============================] - 0s 3ms/step - loss: 2979.0991 - mse: 2979.0991 - val_loss: 2947.9148 - val_mse: 2947.9148\n",
      "Epoch 43/100\n",
      "12/12 [==============================] - 0s 5ms/step - loss: 2975.5242 - mse: 2975.5242 - val_loss: 2946.5303 - val_mse: 2946.5303\n",
      "Epoch 44/100\n",
      "12/12 [==============================] - 0s 5ms/step - loss: 2972.4875 - mse: 2972.4875 - val_loss: 2946.0063 - val_mse: 2946.0063\n",
      "Epoch 45/100\n",
      "12/12 [==============================] - 0s 4ms/step - loss: 2968.9514 - mse: 2968.9514 - val_loss: 2943.3213 - val_mse: 2943.3213\n",
      "Epoch 46/100\n",
      "12/12 [==============================] - 0s 3ms/step - loss: 2966.1670 - mse: 2966.1670 - val_loss: 2941.1162 - val_mse: 2941.1162\n",
      "Epoch 47/100\n",
      "12/12 [==============================] - 0s 3ms/step - loss: 2962.3730 - mse: 2962.3730 - val_loss: 2939.8684 - val_mse: 2939.8684\n",
      "Epoch 48/100\n",
      "12/12 [==============================] - 0s 3ms/step - loss: 2959.4883 - mse: 2959.4883 - val_loss: 2938.0239 - val_mse: 2938.0239\n",
      "Epoch 49/100\n",
      "12/12 [==============================] - 0s 3ms/step - loss: 2956.7107 - mse: 2956.7107 - val_loss: 2935.1777 - val_mse: 2935.1777\n",
      "Epoch 50/100\n",
      "12/12 [==============================] - 0s 3ms/step - loss: 2953.4944 - mse: 2953.4944 - val_loss: 2933.3445 - val_mse: 2933.3445\n",
      "Epoch 51/100\n",
      "12/12 [==============================] - 0s 3ms/step - loss: 2951.1733 - mse: 2951.1733 - val_loss: 2932.4055 - val_mse: 2932.4055\n",
      "Epoch 52/100\n",
      "12/12 [==============================] - 0s 4ms/step - loss: 2947.4485 - mse: 2947.4485 - val_loss: 2930.9580 - val_mse: 2930.9578\n",
      "Epoch 53/100\n",
      "12/12 [==============================] - 0s 3ms/step - loss: 2946.5103 - mse: 2946.5103 - val_loss: 2928.9397 - val_mse: 2928.9397\n",
      "Epoch 54/100\n",
      "12/12 [==============================] - 0s 3ms/step - loss: 2942.1824 - mse: 2942.1824 - val_loss: 2927.7402 - val_mse: 2927.7402\n",
      "Epoch 55/100\n",
      "12/12 [==============================] - 0s 4ms/step - loss: 2938.0269 - mse: 2938.0269 - val_loss: 2923.3132 - val_mse: 2923.3132\n",
      "Epoch 56/100\n",
      "12/12 [==============================] - 0s 3ms/step - loss: 2937.6726 - mse: 2937.6726 - val_loss: 2919.1523 - val_mse: 2919.1523\n",
      "Epoch 57/100\n",
      "12/12 [==============================] - 0s 3ms/step - loss: 2933.8853 - mse: 2933.8853 - val_loss: 2917.7461 - val_mse: 2917.7461\n"
     ]
    },
    {
     "name": "stdout",
     "output_type": "stream",
     "text": [
      "Epoch 58/100\n",
      "12/12 [==============================] - 0s 3ms/step - loss: 2930.6621 - mse: 2930.6621 - val_loss: 2915.1667 - val_mse: 2915.1667\n",
      "Epoch 59/100\n",
      "12/12 [==============================] - 0s 3ms/step - loss: 2928.5161 - mse: 2928.5161 - val_loss: 2916.1218 - val_mse: 2916.1218\n",
      "Epoch 60/100\n",
      "12/12 [==============================] - 0s 3ms/step - loss: 2924.1123 - mse: 2924.1123 - val_loss: 2913.4844 - val_mse: 2913.4844\n",
      "Epoch 61/100\n",
      "12/12 [==============================] - 0s 3ms/step - loss: 2921.7646 - mse: 2921.7646 - val_loss: 2912.8782 - val_mse: 2912.8782\n",
      "Epoch 62/100\n",
      "12/12 [==============================] - 0s 4ms/step - loss: 2918.8191 - mse: 2918.8191 - val_loss: 2911.1855 - val_mse: 2911.1855\n",
      "Epoch 63/100\n",
      "12/12 [==============================] - 0s 3ms/step - loss: 2915.6548 - mse: 2915.6548 - val_loss: 2911.5911 - val_mse: 2911.5911\n",
      "Epoch 64/100\n",
      "12/12 [==============================] - 0s 3ms/step - loss: 2913.0491 - mse: 2913.0491 - val_loss: 2910.6179 - val_mse: 2910.6179\n",
      "Epoch 65/100\n",
      "12/12 [==============================] - 0s 3ms/step - loss: 2910.8171 - mse: 2910.8171 - val_loss: 2910.5442 - val_mse: 2910.5442\n",
      "Epoch 66/100\n",
      "12/12 [==============================] - 0s 3ms/step - loss: 2908.3008 - mse: 2908.3008 - val_loss: 2907.5032 - val_mse: 2907.5032\n",
      "Epoch 67/100\n",
      "12/12 [==============================] - 0s 3ms/step - loss: 2907.2461 - mse: 2907.2461 - val_loss: 2908.2393 - val_mse: 2908.2395\n",
      "Epoch 68/100\n",
      "12/12 [==============================] - 0s 3ms/step - loss: 2902.8623 - mse: 2902.8623 - val_loss: 2905.1631 - val_mse: 2905.1631\n",
      "Epoch 69/100\n",
      "12/12 [==============================] - 0s 3ms/step - loss: 2899.2532 - mse: 2899.2532 - val_loss: 2902.6423 - val_mse: 2902.6423\n",
      "Epoch 70/100\n",
      "12/12 [==============================] - 0s 3ms/step - loss: 2896.7253 - mse: 2896.7253 - val_loss: 2901.1213 - val_mse: 2901.1211\n",
      "Epoch 71/100\n",
      "12/12 [==============================] - 0s 4ms/step - loss: 2895.0535 - mse: 2895.0535 - val_loss: 2900.1160 - val_mse: 2900.1160\n",
      "Epoch 72/100\n",
      "12/12 [==============================] - 0s 13ms/step - loss: 2893.0217 - mse: 2893.0217 - val_loss: 2897.7949 - val_mse: 2897.7949\n",
      "Epoch 73/100\n",
      "12/12 [==============================] - 0s 3ms/step - loss: 2889.6584 - mse: 2889.6584 - val_loss: 2898.2515 - val_mse: 2898.2515\n",
      "Epoch 74/100\n",
      "12/12 [==============================] - 0s 3ms/step - loss: 2886.7417 - mse: 2886.7417 - val_loss: 2897.7881 - val_mse: 2897.7881\n",
      "Epoch 75/100\n",
      "12/12 [==============================] - 0s 3ms/step - loss: 2885.6125 - mse: 2885.6125 - val_loss: 2894.9368 - val_mse: 2894.9368\n",
      "Epoch 76/100\n",
      "12/12 [==============================] - 0s 3ms/step - loss: 2880.9424 - mse: 2880.9424 - val_loss: 2895.1355 - val_mse: 2895.1355\n",
      "Epoch 77/100\n",
      "12/12 [==============================] - 0s 3ms/step - loss: 2879.3403 - mse: 2879.3403 - val_loss: 2894.7141 - val_mse: 2894.7141\n",
      "Epoch 78/100\n",
      "12/12 [==============================] - 0s 3ms/step - loss: 2880.2117 - mse: 2880.2117 - val_loss: 2897.9434 - val_mse: 2897.9434\n",
      "Epoch 79/100\n",
      "12/12 [==============================] - 0s 3ms/step - loss: 2875.1843 - mse: 2875.1843 - val_loss: 2893.3699 - val_mse: 2893.3699\n",
      "Epoch 80/100\n",
      "12/12 [==============================] - 0s 3ms/step - loss: 2872.7617 - mse: 2872.7617 - val_loss: 2890.9299 - val_mse: 2890.9299\n",
      "Epoch 81/100\n",
      "12/12 [==============================] - 0s 4ms/step - loss: 2870.6248 - mse: 2870.6248 - val_loss: 2888.4590 - val_mse: 2888.4590\n",
      "Epoch 82/100\n",
      "12/12 [==============================] - 0s 3ms/step - loss: 2868.8604 - mse: 2868.8604 - val_loss: 2886.9861 - val_mse: 2886.9861\n",
      "Epoch 83/100\n",
      "12/12 [==============================] - 0s 3ms/step - loss: 2866.2917 - mse: 2866.2917 - val_loss: 2885.0276 - val_mse: 2885.0276\n",
      "Epoch 84/100\n",
      "12/12 [==============================] - 0s 3ms/step - loss: 2863.7568 - mse: 2863.7568 - val_loss: 2885.3264 - val_mse: 2885.3264\n",
      "Epoch 85/100\n",
      "12/12 [==============================] - 0s 3ms/step - loss: 2861.2432 - mse: 2861.2432 - val_loss: 2884.5881 - val_mse: 2884.5881\n",
      "Epoch 86/100\n",
      "12/12 [==============================] - 0s 3ms/step - loss: 2860.1035 - mse: 2860.1035 - val_loss: 2885.6177 - val_mse: 2885.6177\n",
      "Epoch 87/100\n",
      "12/12 [==============================] - 0s 3ms/step - loss: 2857.0032 - mse: 2857.0032 - val_loss: 2885.7537 - val_mse: 2885.7537\n",
      "Epoch 88/100\n",
      "12/12 [==============================] - 0s 3ms/step - loss: 2856.4534 - mse: 2856.4534 - val_loss: 2882.0701 - val_mse: 2882.0701\n",
      "Epoch 89/100\n",
      "12/12 [==============================] - 0s 3ms/step - loss: 2853.5391 - mse: 2853.5391 - val_loss: 2878.9441 - val_mse: 2878.9441\n",
      "Epoch 90/100\n",
      "12/12 [==============================] - 0s 3ms/step - loss: 2851.0349 - mse: 2851.0349 - val_loss: 2879.0032 - val_mse: 2879.0032\n",
      "Epoch 91/100\n",
      "12/12 [==============================] - 0s 3ms/step - loss: 2851.3179 - mse: 2851.3181 - val_loss: 2876.9756 - val_mse: 2876.9756\n",
      "Epoch 92/100\n",
      "12/12 [==============================] - 0s 3ms/step - loss: 2847.0845 - mse: 2847.0845 - val_loss: 2878.3506 - val_mse: 2878.3506\n",
      "Epoch 93/100\n",
      "12/12 [==============================] - 0s 4ms/step - loss: 2845.2646 - mse: 2845.2646 - val_loss: 2876.0952 - val_mse: 2876.0952\n",
      "Epoch 94/100\n",
      "12/12 [==============================] - 0s 3ms/step - loss: 2842.4150 - mse: 2842.4150 - val_loss: 2874.6113 - val_mse: 2874.6118\n",
      "Epoch 95/100\n",
      "12/12 [==============================] - 0s 3ms/step - loss: 2840.5505 - mse: 2840.5505 - val_loss: 2871.5442 - val_mse: 2871.5442\n",
      "Epoch 96/100\n",
      "12/12 [==============================] - 0s 3ms/step - loss: 2840.6006 - mse: 2840.6006 - val_loss: 2868.7695 - val_mse: 2868.7695\n",
      "Epoch 97/100\n",
      "12/12 [==============================] - 0s 3ms/step - loss: 2836.4221 - mse: 2836.4221 - val_loss: 2868.9644 - val_mse: 2868.9644\n",
      "Epoch 98/100\n",
      "12/12 [==============================] - 0s 3ms/step - loss: 2834.2202 - mse: 2834.2202 - val_loss: 2869.3870 - val_mse: 2869.3870\n",
      "Epoch 99/100\n",
      "12/12 [==============================] - 0s 3ms/step - loss: 2835.5151 - mse: 2835.5151 - val_loss: 2873.0430 - val_mse: 2873.0430\n",
      "Epoch 100/100\n",
      "12/12 [==============================] - 0s 4ms/step - loss: 2831.3342 - mse: 2831.3342 - val_loss: 2871.8025 - val_mse: 2871.8025\n",
      "CPU times: user 5.18 s, sys: 531 ms, total: 5.71 s\n",
      "Wall time: 4.88 s\n"
     ]
    }
   ],
   "source": [
    "%%time\n",
    "# insert code here\n",
    "# Fit the model\n",
    "history = model.fit(\n",
    "    X_train,\n",
    "    y_train,\n",
    "    validation_split = 0.25,\n",
    "    batch_size = 20,\n",
    "    epochs = 100,\n",
    "    verbose = 1)"
   ]
  },
  {
   "cell_type": "markdown",
   "metadata": {
    "colab_type": "text",
    "id": "CR-kCu3c1Kd-"
   },
   "source": [
    "### Create predictions"
   ]
  },
  {
   "cell_type": "code",
   "execution_count": 32,
   "metadata": {
    "colab": {},
    "colab_type": "code",
    "id": "wkywKqPg1Kd-"
   },
   "outputs": [
    {
     "data": {
      "text/plain": [
       "array([[210.42567 ],\n",
       "       [145.6131  ],\n",
       "       [169.23341 ],\n",
       "       [189.04912 ],\n",
       "       [161.34827 ],\n",
       "       [ 87.5759  ],\n",
       "       [182.45155 ],\n",
       "       [148.08649 ],\n",
       "       [ 99.77563 ],\n",
       "       [138.84152 ],\n",
       "       [179.25928 ],\n",
       "       [104.21896 ],\n",
       "       [ 99.39872 ],\n",
       "       [225.84064 ],\n",
       "       [117.65791 ],\n",
       "       [ 66.32758 ],\n",
       "       [ 76.43023 ],\n",
       "       [200.17012 ],\n",
       "       [143.34363 ],\n",
       "       [ 85.95102 ],\n",
       "       [236.3037  ],\n",
       "       [161.0139  ],\n",
       "       [178.36728 ],\n",
       "       [185.36942 ],\n",
       "       [177.53143 ],\n",
       "       [ 61.87175 ],\n",
       "       [180.43655 ],\n",
       "       [185.1445  ],\n",
       "       [216.78984 ],\n",
       "       [176.34483 ],\n",
       "       [170.96346 ],\n",
       "       [143.32849 ],\n",
       "       [151.74376 ],\n",
       "       [140.00726 ],\n",
       "       [243.33179 ],\n",
       "       [125.31685 ],\n",
       "       [122.28822 ],\n",
       "       [194.52815 ],\n",
       "       [266.62564 ],\n",
       "       [119.96097 ],\n",
       "       [241.65417 ],\n",
       "       [162.26573 ],\n",
       "       [ 96.06256 ],\n",
       "       [150.22458 ],\n",
       "       [ 89.097   ],\n",
       "       [141.04297 ],\n",
       "       [210.04454 ],\n",
       "       [231.74791 ],\n",
       "       [122.52232 ],\n",
       "       [123.43916 ],\n",
       "       [139.72368 ],\n",
       "       [148.91943 ],\n",
       "       [252.00984 ],\n",
       "       [ 59.04235 ],\n",
       "       [157.56508 ],\n",
       "       [113.26722 ],\n",
       "       [186.7178  ],\n",
       "       [168.1835  ],\n",
       "       [128.61736 ],\n",
       "       [136.26913 ],\n",
       "       [ 69.98303 ],\n",
       "       [158.24544 ],\n",
       "       [213.04787 ],\n",
       "       [178.35698 ],\n",
       "       [128.39542 ],\n",
       "       [156.16484 ],\n",
       "       [ 78.964424],\n",
       "       [ 82.128555],\n",
       "       [203.44731 ],\n",
       "       [174.93484 ],\n",
       "       [157.73863 ],\n",
       "       [122.64813 ],\n",
       "       [106.09696 ],\n",
       "       [235.56721 ],\n",
       "       [ 84.5948  ],\n",
       "       [141.63368 ],\n",
       "       [136.87103 ],\n",
       "       [110.47799 ],\n",
       "       [194.74422 ],\n",
       "       [172.12138 ],\n",
       "       [ 43.774963],\n",
       "       [ 93.11319 ],\n",
       "       [102.504814],\n",
       "       [128.37721 ],\n",
       "       [172.78401 ],\n",
       "       [178.21964 ],\n",
       "       [162.17583 ],\n",
       "       [163.65974 ],\n",
       "       [108.227936],\n",
       "       [146.20183 ],\n",
       "       [ 92.11781 ],\n",
       "       [139.32768 ],\n",
       "       [272.70987 ],\n",
       "       [236.73398 ],\n",
       "       [167.49617 ],\n",
       "       [131.88998 ],\n",
       "       [186.32607 ],\n",
       "       [132.0398  ],\n",
       "       [132.93642 ],\n",
       "       [179.45291 ],\n",
       "       [144.83095 ],\n",
       "       [148.7232  ],\n",
       "       [107.643326],\n",
       "       [ 64.89329 ],\n",
       "       [183.1093  ],\n",
       "       [224.02802 ],\n",
       "       [ 71.20629 ],\n",
       "       [162.72998 ],\n",
       "       [203.19316 ],\n",
       "       [177.1191  ],\n",
       "       [133.47493 ],\n",
       "       [139.71864 ],\n",
       "       [138.23326 ],\n",
       "       [ 80.5244  ],\n",
       "       [ 64.70475 ],\n",
       "       [209.8505  ],\n",
       "       [173.39052 ],\n",
       "       [176.36201 ],\n",
       "       [ 69.07983 ],\n",
       "       [ 98.147484],\n",
       "       [116.41551 ],\n",
       "       [120.41748 ],\n",
       "       [108.927124],\n",
       "       [120.06943 ],\n",
       "       [ 92.18634 ],\n",
       "       [160.98419 ],\n",
       "       [177.87462 ],\n",
       "       [220.44261 ],\n",
       "       [ 80.169975],\n",
       "       [181.43909 ],\n",
       "       [142.55357 ],\n",
       "       [161.35567 ],\n",
       "       [202.69237 ]], dtype=float32)"
      ]
     },
     "execution_count": 32,
     "metadata": {},
     "output_type": "execute_result"
    }
   ],
   "source": [
    "# insert code here\n",
    "predictions = model.predict(X_test)\n",
    "predictions"
   ]
  },
  {
   "cell_type": "markdown",
   "metadata": {
    "colab_type": "text",
    "id": "-unEmrGo1KeA"
   },
   "source": [
    "### Evaluate the model"
   ]
  },
  {
   "cell_type": "code",
   "execution_count": 33,
   "metadata": {
    "colab": {},
    "colab_type": "code",
    "id": "QCIVpVrG1KeB"
   },
   "outputs": [
    {
     "name": "stdout",
     "output_type": "stream",
     "text": [
      "5/5 [==============================] - 0s 814us/step - loss: 3378.2874 - mse: 3378.2874\n"
     ]
    }
   ],
   "source": [
    "# insert code here\n",
    "score = model.evaluate(X_test, y_test)"
   ]
  },
  {
   "cell_type": "code",
   "execution_count": 35,
   "metadata": {},
   "outputs": [
    {
     "data": {
      "text/plain": [
       "58.12303634115844"
      ]
     },
     "execution_count": 35,
     "metadata": {},
     "output_type": "execute_result"
    }
   ],
   "source": [
    "# Find RMSE\n",
    "score[0] ** (1/2)"
   ]
  },
  {
   "cell_type": "code",
   "execution_count": 37,
   "metadata": {},
   "outputs": [
    {
     "data": {
      "text/plain": [
       "152.13348416289594"
      ]
     },
     "execution_count": 37,
     "metadata": {},
     "output_type": "execute_result"
    }
   ],
   "source": [
    "y.mean()"
   ]
  },
  {
   "cell_type": "code",
   "execution_count": 44,
   "metadata": {},
   "outputs": [
    {
     "name": "stdout",
     "output_type": "stream",
     "text": [
      "25.0\n",
      "346.0\n"
     ]
    }
   ],
   "source": [
    "print(y.min())\n",
    "print(y.max())"
   ]
  },
  {
   "cell_type": "markdown",
   "metadata": {
    "colab_type": "text",
    "id": "sSlqjs7e1KeD"
   },
   "source": [
    "### Visualisation of cost"
   ]
  },
  {
   "cell_type": "code",
   "execution_count": 48,
   "metadata": {},
   "outputs": [
    {
     "data": {
      "text/plain": [
       "{'loss': [3148.0966796875,\n",
       "  3143.23486328125,\n",
       "  3139.156494140625,\n",
       "  3132.754150390625,\n",
       "  3128.234375,\n",
       "  3125.193359375,\n",
       "  3118.872802734375,\n",
       "  3113.949462890625,\n",
       "  3109.658935546875,\n",
       "  3105.56494140625,\n",
       "  3100.68603515625,\n",
       "  3096.821533203125,\n",
       "  3092.072998046875,\n",
       "  3087.48291015625,\n",
       "  3082.8828125,\n",
       "  3079.23486328125,\n",
       "  3075.56298828125,\n",
       "  3071.63525390625,\n",
       "  3066.316650390625,\n",
       "  3061.546875,\n",
       "  3057.7509765625,\n",
       "  3053.67919921875,\n",
       "  3049.756103515625,\n",
       "  3045.01171875,\n",
       "  3043.8310546875,\n",
       "  3036.599609375,\n",
       "  3033.505859375,\n",
       "  3030.880126953125,\n",
       "  3024.953369140625,\n",
       "  3024.259765625,\n",
       "  3017.408935546875,\n",
       "  3016.774658203125,\n",
       "  3010.118896484375,\n",
       "  3006.613525390625,\n",
       "  3003.8896484375,\n",
       "  3000.151123046875,\n",
       "  2996.280517578125,\n",
       "  2993.00732421875,\n",
       "  2989.150390625,\n",
       "  2985.282470703125,\n",
       "  2982.22216796875,\n",
       "  2979.09912109375,\n",
       "  2975.524169921875,\n",
       "  2972.487548828125,\n",
       "  2968.951416015625,\n",
       "  2966.1669921875,\n",
       "  2962.373046875,\n",
       "  2959.48828125,\n",
       "  2956.710693359375,\n",
       "  2953.494384765625,\n",
       "  2951.17333984375,\n",
       "  2947.448486328125,\n",
       "  2946.51025390625,\n",
       "  2942.182373046875,\n",
       "  2938.02685546875,\n",
       "  2937.672607421875,\n",
       "  2933.88525390625,\n",
       "  2930.662109375,\n",
       "  2928.51611328125,\n",
       "  2924.1123046875,\n",
       "  2921.7646484375,\n",
       "  2918.819091796875,\n",
       "  2915.65478515625,\n",
       "  2913.049072265625,\n",
       "  2910.817138671875,\n",
       "  2908.30078125,\n",
       "  2907.24609375,\n",
       "  2902.8623046875,\n",
       "  2899.253173828125,\n",
       "  2896.725341796875,\n",
       "  2895.053466796875,\n",
       "  2893.021728515625,\n",
       "  2889.658447265625,\n",
       "  2886.74169921875,\n",
       "  2885.612548828125,\n",
       "  2880.9423828125,\n",
       "  2879.34033203125,\n",
       "  2880.211669921875,\n",
       "  2875.184326171875,\n",
       "  2872.76171875,\n",
       "  2870.624755859375,\n",
       "  2868.8603515625,\n",
       "  2866.291748046875,\n",
       "  2863.7568359375,\n",
       "  2861.2431640625,\n",
       "  2860.103515625,\n",
       "  2857.003173828125,\n",
       "  2856.453369140625,\n",
       "  2853.5390625,\n",
       "  2851.034912109375,\n",
       "  2851.31787109375,\n",
       "  2847.08447265625,\n",
       "  2845.2646484375,\n",
       "  2842.4150390625,\n",
       "  2840.550537109375,\n",
       "  2840.6005859375,\n",
       "  2836.422119140625,\n",
       "  2834.22021484375,\n",
       "  2835.51513671875,\n",
       "  2831.334228515625],\n",
       " 'mse': [3148.0966796875,\n",
       "  3143.2353515625,\n",
       "  3139.156494140625,\n",
       "  3132.754150390625,\n",
       "  3128.234375,\n",
       "  3125.193359375,\n",
       "  3118.872802734375,\n",
       "  3113.949462890625,\n",
       "  3109.658935546875,\n",
       "  3105.56494140625,\n",
       "  3100.68603515625,\n",
       "  3096.821533203125,\n",
       "  3092.072998046875,\n",
       "  3087.48291015625,\n",
       "  3082.8828125,\n",
       "  3079.23486328125,\n",
       "  3075.56298828125,\n",
       "  3071.63525390625,\n",
       "  3066.31689453125,\n",
       "  3061.546875,\n",
       "  3057.7509765625,\n",
       "  3053.67919921875,\n",
       "  3049.756103515625,\n",
       "  3045.011474609375,\n",
       "  3043.8310546875,\n",
       "  3036.599609375,\n",
       "  3033.505859375,\n",
       "  3030.880126953125,\n",
       "  3024.953125,\n",
       "  3024.259765625,\n",
       "  3017.408935546875,\n",
       "  3016.774658203125,\n",
       "  3010.118896484375,\n",
       "  3006.613525390625,\n",
       "  3003.8896484375,\n",
       "  3000.151123046875,\n",
       "  2996.280517578125,\n",
       "  2993.00732421875,\n",
       "  2989.150390625,\n",
       "  2985.282470703125,\n",
       "  2982.22216796875,\n",
       "  2979.09912109375,\n",
       "  2975.524169921875,\n",
       "  2972.487548828125,\n",
       "  2968.951416015625,\n",
       "  2966.1669921875,\n",
       "  2962.373046875,\n",
       "  2959.48828125,\n",
       "  2956.710693359375,\n",
       "  2953.494384765625,\n",
       "  2951.17333984375,\n",
       "  2947.448486328125,\n",
       "  2946.51025390625,\n",
       "  2942.182373046875,\n",
       "  2938.02685546875,\n",
       "  2937.672607421875,\n",
       "  2933.88525390625,\n",
       "  2930.662109375,\n",
       "  2928.51611328125,\n",
       "  2924.1123046875,\n",
       "  2921.7646484375,\n",
       "  2918.819091796875,\n",
       "  2915.65478515625,\n",
       "  2913.049072265625,\n",
       "  2910.817138671875,\n",
       "  2908.30078125,\n",
       "  2907.24609375,\n",
       "  2902.8623046875,\n",
       "  2899.253173828125,\n",
       "  2896.725341796875,\n",
       "  2895.053466796875,\n",
       "  2893.021728515625,\n",
       "  2889.658447265625,\n",
       "  2886.74169921875,\n",
       "  2885.612548828125,\n",
       "  2880.9423828125,\n",
       "  2879.34033203125,\n",
       "  2880.211669921875,\n",
       "  2875.184326171875,\n",
       "  2872.76171875,\n",
       "  2870.624755859375,\n",
       "  2868.8603515625,\n",
       "  2866.291748046875,\n",
       "  2863.7568359375,\n",
       "  2861.2431640625,\n",
       "  2860.103515625,\n",
       "  2857.003173828125,\n",
       "  2856.453369140625,\n",
       "  2853.5390625,\n",
       "  2851.034912109375,\n",
       "  2851.318115234375,\n",
       "  2847.08447265625,\n",
       "  2845.2646484375,\n",
       "  2842.4150390625,\n",
       "  2840.550537109375,\n",
       "  2840.6005859375,\n",
       "  2836.422119140625,\n",
       "  2834.22021484375,\n",
       "  2835.51513671875,\n",
       "  2831.334228515625],\n",
       " 'val_loss': [3054.018798828125,\n",
       "  3052.66552734375,\n",
       "  3051.837646484375,\n",
       "  3046.40625,\n",
       "  3043.32568359375,\n",
       "  3034.808837890625,\n",
       "  3031.777099609375,\n",
       "  3030.51953125,\n",
       "  3028.29443359375,\n",
       "  3025.877685546875,\n",
       "  3023.17578125,\n",
       "  3022.66748046875,\n",
       "  3018.753662109375,\n",
       "  3014.76025390625,\n",
       "  3012.540771484375,\n",
       "  3010.352783203125,\n",
       "  3005.232666015625,\n",
       "  3001.493896484375,\n",
       "  3001.076904296875,\n",
       "  2998.136474609375,\n",
       "  2995.36572265625,\n",
       "  2994.45654296875,\n",
       "  2990.52734375,\n",
       "  2989.39794921875,\n",
       "  2983.751708984375,\n",
       "  2984.277587890625,\n",
       "  2982.230224609375,\n",
       "  2977.501220703125,\n",
       "  2976.153564453125,\n",
       "  2970.945556640625,\n",
       "  2970.19189453125,\n",
       "  2971.107666015625,\n",
       "  2967.110107421875,\n",
       "  2965.143310546875,\n",
       "  2965.1240234375,\n",
       "  2960.325927734375,\n",
       "  2959.803955078125,\n",
       "  2958.465087890625,\n",
       "  2954.125,\n",
       "  2951.762939453125,\n",
       "  2950.093505859375,\n",
       "  2947.914794921875,\n",
       "  2946.5302734375,\n",
       "  2946.00634765625,\n",
       "  2943.3212890625,\n",
       "  2941.1162109375,\n",
       "  2939.868408203125,\n",
       "  2938.02392578125,\n",
       "  2935.177734375,\n",
       "  2933.344482421875,\n",
       "  2932.405517578125,\n",
       "  2930.9580078125,\n",
       "  2928.939697265625,\n",
       "  2927.740234375,\n",
       "  2923.313232421875,\n",
       "  2919.15234375,\n",
       "  2917.74609375,\n",
       "  2915.166748046875,\n",
       "  2916.121826171875,\n",
       "  2913.484375,\n",
       "  2912.878173828125,\n",
       "  2911.185546875,\n",
       "  2911.591064453125,\n",
       "  2910.617919921875,\n",
       "  2910.544189453125,\n",
       "  2907.503173828125,\n",
       "  2908.2392578125,\n",
       "  2905.1630859375,\n",
       "  2902.642333984375,\n",
       "  2901.121337890625,\n",
       "  2900.115966796875,\n",
       "  2897.794921875,\n",
       "  2898.25146484375,\n",
       "  2897.7880859375,\n",
       "  2894.936767578125,\n",
       "  2895.135498046875,\n",
       "  2894.714111328125,\n",
       "  2897.943359375,\n",
       "  2893.369873046875,\n",
       "  2890.929931640625,\n",
       "  2888.458984375,\n",
       "  2886.986083984375,\n",
       "  2885.027587890625,\n",
       "  2885.326416015625,\n",
       "  2884.588134765625,\n",
       "  2885.61767578125,\n",
       "  2885.753662109375,\n",
       "  2882.070068359375,\n",
       "  2878.944091796875,\n",
       "  2879.003173828125,\n",
       "  2876.9755859375,\n",
       "  2878.3505859375,\n",
       "  2876.09521484375,\n",
       "  2874.611328125,\n",
       "  2871.544189453125,\n",
       "  2868.76953125,\n",
       "  2868.96435546875,\n",
       "  2869.386962890625,\n",
       "  2873.04296875,\n",
       "  2871.802490234375],\n",
       " 'val_mse': [3054.018798828125,\n",
       "  3052.665771484375,\n",
       "  3051.837646484375,\n",
       "  3046.40625,\n",
       "  3043.32568359375,\n",
       "  3034.808837890625,\n",
       "  3031.777099609375,\n",
       "  3030.51953125,\n",
       "  3028.29443359375,\n",
       "  3025.877685546875,\n",
       "  3023.17578125,\n",
       "  3022.66748046875,\n",
       "  3018.753662109375,\n",
       "  3014.76025390625,\n",
       "  3012.540771484375,\n",
       "  3010.352783203125,\n",
       "  3005.232666015625,\n",
       "  3001.493896484375,\n",
       "  3001.076904296875,\n",
       "  2998.136474609375,\n",
       "  2995.36572265625,\n",
       "  2994.456298828125,\n",
       "  2990.52734375,\n",
       "  2989.39794921875,\n",
       "  2983.751708984375,\n",
       "  2984.277587890625,\n",
       "  2982.230224609375,\n",
       "  2977.501220703125,\n",
       "  2976.153564453125,\n",
       "  2970.945556640625,\n",
       "  2970.19189453125,\n",
       "  2971.107666015625,\n",
       "  2967.110107421875,\n",
       "  2965.143310546875,\n",
       "  2965.1240234375,\n",
       "  2960.325927734375,\n",
       "  2959.803955078125,\n",
       "  2958.465087890625,\n",
       "  2954.125,\n",
       "  2951.762939453125,\n",
       "  2950.093505859375,\n",
       "  2947.914794921875,\n",
       "  2946.5302734375,\n",
       "  2946.00634765625,\n",
       "  2943.3212890625,\n",
       "  2941.1162109375,\n",
       "  2939.868408203125,\n",
       "  2938.02392578125,\n",
       "  2935.177734375,\n",
       "  2933.344482421875,\n",
       "  2932.405517578125,\n",
       "  2930.957763671875,\n",
       "  2928.939697265625,\n",
       "  2927.740234375,\n",
       "  2923.313232421875,\n",
       "  2919.15234375,\n",
       "  2917.74609375,\n",
       "  2915.166748046875,\n",
       "  2916.121826171875,\n",
       "  2913.484375,\n",
       "  2912.878173828125,\n",
       "  2911.185546875,\n",
       "  2911.591064453125,\n",
       "  2910.617919921875,\n",
       "  2910.544189453125,\n",
       "  2907.503173828125,\n",
       "  2908.239501953125,\n",
       "  2905.1630859375,\n",
       "  2902.642333984375,\n",
       "  2901.12109375,\n",
       "  2900.115966796875,\n",
       "  2897.794921875,\n",
       "  2898.25146484375,\n",
       "  2897.7880859375,\n",
       "  2894.936767578125,\n",
       "  2895.135498046875,\n",
       "  2894.714111328125,\n",
       "  2897.943359375,\n",
       "  2893.369873046875,\n",
       "  2890.929931640625,\n",
       "  2888.458984375,\n",
       "  2886.986083984375,\n",
       "  2885.027587890625,\n",
       "  2885.326416015625,\n",
       "  2884.588134765625,\n",
       "  2885.61767578125,\n",
       "  2885.753662109375,\n",
       "  2882.070068359375,\n",
       "  2878.944091796875,\n",
       "  2879.003173828125,\n",
       "  2876.9755859375,\n",
       "  2878.3505859375,\n",
       "  2876.09521484375,\n",
       "  2874.61181640625,\n",
       "  2871.544189453125,\n",
       "  2868.76953125,\n",
       "  2868.96435546875,\n",
       "  2869.386962890625,\n",
       "  2873.04296875,\n",
       "  2871.802490234375]}"
      ]
     },
     "execution_count": 48,
     "metadata": {},
     "output_type": "execute_result"
    }
   ],
   "source": [
    "history.history"
   ]
  },
  {
   "cell_type": "code",
   "execution_count": 52,
   "metadata": {},
   "outputs": [
    {
     "data": {
      "image/png": "[encoded data removed]",
      "text/plain": [
       "<Figure size 1296x432 with 2 Axes>"
      ]
     },
     "metadata": {
      "needs_background": "light"
     },
     "output_type": "display_data"
    }
   ],
   "source": [
    "fig, ax = plt.subplots(1, 2, figsize = (18, 6))\n",
    "fig.subplots_adjust(left = 0.02, right = 0.98, wspace = 0.2)\n",
    "\n",
    "plt.rcParams.update({'font.size': 18})\n",
    "\n",
    "# Plot training & validation accuracy values\n",
    "ax[0].plot(history.history['mse'], label = 'Training')\n",
    "ax[0].plot(history.history['val_mse'], label = 'Validation')\n",
    "ax[0].set_title('Model MSE')\n",
    "ax[0].set_ylabel('MSE')\n",
    "ax[0].set_xlabel('Epoch')\n",
    "ax[0].legend()\n",
    "\n",
    "# Plot training & validation loss values\n",
    "ax[1].plot(history.history['loss'], label = 'Training')\n",
    "ax[1].plot(history.history['val_loss'], label = 'Validation')\n",
    "ax[1].set_title('Model loss')\n",
    "ax[1].set_ylabel('Loss')\n",
    "ax[1].set_xlabel('Epoch')\n",
    "ax[1].legend()\n",
    "\n",
    "plt.show()"
   ]
  },
  {
   "cell_type": "code",
   "execution_count": 45,
   "metadata": {
    "colab": {},
    "colab_type": "code",
    "id": "1F6hYpNh1KeE",
    "scrolled": true
   },
   "outputs": [],
   "source": [
    "# insert code here\n",
    "def print_cm(cm):\n",
    "    c = '%%%dd ' % len('%d' % cm.max())\n",
    "    s = ' | '\n",
    "    s += ''.join([c % i for i in range(len(cm[0]))])\n",
    "    print(s)\n",
    "    print('-' * len(s))\n",
    "    for i, r in enumerate(cm):\n",
    "        s = '%d| ' % i\n",
    "        s += c * len(r)\n",
    "        print(s % tuple(r))"
   ]
  },
  {
   "cell_type": "code",
   "execution_count": 46,
   "metadata": {},
   "outputs": [
    {
     "ename": "ValueError",
     "evalue": "Classification metrics can't handle a mix of binary and continuous targets",
     "output_type": "error",
     "traceback": [
      "\u001b[0;31m---------------------------------------------------------------------------\u001b[0m",
      "\u001b[0;31mValueError\u001b[0m                                Traceback (most recent call last)",
      "\u001b[0;32m<ipython-input-46-2757b274890f>\u001b[0m in \u001b[0;36m<module>\u001b[0;34m\u001b[0m\n\u001b[1;32m      1\u001b[0m \u001b[0my_test_target\u001b[0m \u001b[0;34m=\u001b[0m \u001b[0mnp\u001b[0m\u001b[0;34m.\u001b[0m\u001b[0marray\u001b[0m\u001b[0;34m(\u001b[0m\u001b[0;34m[\u001b[0m\u001b[0mx\u001b[0m\u001b[0;34m.\u001b[0m\u001b[0margmax\u001b[0m\u001b[0;34m(\u001b[0m\u001b[0;34m)\u001b[0m \u001b[0;32mfor\u001b[0m \u001b[0mx\u001b[0m \u001b[0;32min\u001b[0m \u001b[0my_test\u001b[0m\u001b[0;34m]\u001b[0m\u001b[0;34m)\u001b[0m\u001b[0;34m\u001b[0m\u001b[0;34m\u001b[0m\u001b[0m\n\u001b[0;32m----> 2\u001b[0;31m \u001b[0mcm\u001b[0m \u001b[0;34m=\u001b[0m \u001b[0mconfusion_matrix\u001b[0m\u001b[0;34m(\u001b[0m\u001b[0my_test_target\u001b[0m\u001b[0;34m,\u001b[0m \u001b[0mpredictions\u001b[0m\u001b[0;34m)\u001b[0m\u001b[0;34m\u001b[0m\u001b[0;34m\u001b[0m\u001b[0m\n\u001b[0m\u001b[1;32m      3\u001b[0m \u001b[0mprint_cm\u001b[0m\u001b[0;34m(\u001b[0m\u001b[0mcm\u001b[0m\u001b[0;34m)\u001b[0m\u001b[0;34m\u001b[0m\u001b[0;34m\u001b[0m\u001b[0m\n",
      "\u001b[0;32m~/opt/anaconda3/lib/python3.7/site-packages/sklearn/utils/validation.py\u001b[0m in \u001b[0;36minner_f\u001b[0;34m(*args, **kwargs)\u001b[0m\n\u001b[1;32m     71\u001b[0m                           FutureWarning)\n\u001b[1;32m     72\u001b[0m         \u001b[0mkwargs\u001b[0m\u001b[0;34m.\u001b[0m\u001b[0mupdate\u001b[0m\u001b[0;34m(\u001b[0m\u001b[0;34m{\u001b[0m\u001b[0mk\u001b[0m\u001b[0;34m:\u001b[0m \u001b[0marg\u001b[0m \u001b[0;32mfor\u001b[0m \u001b[0mk\u001b[0m\u001b[0;34m,\u001b[0m \u001b[0marg\u001b[0m \u001b[0;32min\u001b[0m \u001b[0mzip\u001b[0m\u001b[0;34m(\u001b[0m\u001b[0msig\u001b[0m\u001b[0;34m.\u001b[0m\u001b[0mparameters\u001b[0m\u001b[0;34m,\u001b[0m \u001b[0margs\u001b[0m\u001b[0;34m)\u001b[0m\u001b[0;34m}\u001b[0m\u001b[0;34m)\u001b[0m\u001b[0;34m\u001b[0m\u001b[0;34m\u001b[0m\u001b[0m\n\u001b[0;32m---> 73\u001b[0;31m         \u001b[0;32mreturn\u001b[0m \u001b[0mf\u001b[0m\u001b[0;34m(\u001b[0m\u001b[0;34m**\u001b[0m\u001b[0mkwargs\u001b[0m\u001b[0;34m)\u001b[0m\u001b[0;34m\u001b[0m\u001b[0;34m\u001b[0m\u001b[0m\n\u001b[0m\u001b[1;32m     74\u001b[0m     \u001b[0;32mreturn\u001b[0m \u001b[0minner_f\u001b[0m\u001b[0;34m\u001b[0m\u001b[0;34m\u001b[0m\u001b[0m\n\u001b[1;32m     75\u001b[0m \u001b[0;34m\u001b[0m\u001b[0m\n",
      "\u001b[0;32m~/opt/anaconda3/lib/python3.7/site-packages/sklearn/metrics/_classification.py\u001b[0m in \u001b[0;36mconfusion_matrix\u001b[0;34m(y_true, y_pred, labels, sample_weight, normalize)\u001b[0m\n\u001b[1;32m    274\u001b[0m \u001b[0;34m\u001b[0m\u001b[0m\n\u001b[1;32m    275\u001b[0m     \"\"\"\n\u001b[0;32m--> 276\u001b[0;31m     \u001b[0my_type\u001b[0m\u001b[0;34m,\u001b[0m \u001b[0my_true\u001b[0m\u001b[0;34m,\u001b[0m \u001b[0my_pred\u001b[0m \u001b[0;34m=\u001b[0m \u001b[0m_check_targets\u001b[0m\u001b[0;34m(\u001b[0m\u001b[0my_true\u001b[0m\u001b[0;34m,\u001b[0m \u001b[0my_pred\u001b[0m\u001b[0;34m)\u001b[0m\u001b[0;34m\u001b[0m\u001b[0;34m\u001b[0m\u001b[0m\n\u001b[0m\u001b[1;32m    277\u001b[0m     \u001b[0;32mif\u001b[0m \u001b[0my_type\u001b[0m \u001b[0;32mnot\u001b[0m \u001b[0;32min\u001b[0m \u001b[0;34m(\u001b[0m\u001b[0;34m\"binary\"\u001b[0m\u001b[0;34m,\u001b[0m \u001b[0;34m\"multiclass\"\u001b[0m\u001b[0;34m)\u001b[0m\u001b[0;34m:\u001b[0m\u001b[0;34m\u001b[0m\u001b[0;34m\u001b[0m\u001b[0m\n\u001b[1;32m    278\u001b[0m         \u001b[0;32mraise\u001b[0m \u001b[0mValueError\u001b[0m\u001b[0;34m(\u001b[0m\u001b[0;34m\"%s is not supported\"\u001b[0m \u001b[0;34m%\u001b[0m \u001b[0my_type\u001b[0m\u001b[0;34m)\u001b[0m\u001b[0;34m\u001b[0m\u001b[0;34m\u001b[0m\u001b[0m\n",
      "\u001b[0;32m~/opt/anaconda3/lib/python3.7/site-packages/sklearn/metrics/_classification.py\u001b[0m in \u001b[0;36m_check_targets\u001b[0;34m(y_true, y_pred)\u001b[0m\n\u001b[1;32m     89\u001b[0m     \u001b[0;32mif\u001b[0m \u001b[0mlen\u001b[0m\u001b[0;34m(\u001b[0m\u001b[0my_type\u001b[0m\u001b[0;34m)\u001b[0m \u001b[0;34m>\u001b[0m \u001b[0;36m1\u001b[0m\u001b[0;34m:\u001b[0m\u001b[0;34m\u001b[0m\u001b[0;34m\u001b[0m\u001b[0m\n\u001b[1;32m     90\u001b[0m         raise ValueError(\"Classification metrics can't handle a mix of {0} \"\n\u001b[0;32m---> 91\u001b[0;31m                          \"and {1} targets\".format(type_true, type_pred))\n\u001b[0m\u001b[1;32m     92\u001b[0m \u001b[0;34m\u001b[0m\u001b[0m\n\u001b[1;32m     93\u001b[0m     \u001b[0;31m# We can't have more than one value on y_type => The set is no more needed\u001b[0m\u001b[0;34m\u001b[0m\u001b[0;34m\u001b[0m\u001b[0;34m\u001b[0m\u001b[0m\n",
      "\u001b[0;31mValueError\u001b[0m: Classification metrics can't handle a mix of binary and continuous targets"
     ]
    }
   ],
   "source": [
    "y_test_target = np.array([x.argmax() for x in y_test])\n",
    "cm = confusion_matrix(y_test_target, predictions)\n",
    "print_cm(cm)"
   ]
  },
  {
   "cell_type": "markdown",
   "metadata": {
    "colab_type": "text",
    "id": "vQLzMZTM1KeG"
   },
   "source": [
    "### Visualisation of residuals"
   ]
  },
  {
   "cell_type": "code",
   "execution_count": 0,
   "metadata": {
    "colab": {},
    "colab_type": "code",
    "id": "opIulVSw1KeH"
   },
   "outputs": [],
   "source": [
    "# insert code here"
   ]
  },
  {
   "cell_type": "markdown",
   "metadata": {
    "colab_type": "text",
    "id": "IS5Tc4z9FoYy"
   },
   "source": [
    ">"
   ]
  },
  {
   "cell_type": "markdown",
   "metadata": {
    "colab_type": "text",
    "id": "mxI2We9OFpfs"
   },
   "source": [
    ">"
   ]
  },
  {
   "cell_type": "markdown",
   "metadata": {
    "colab_type": "text",
    "id": "81DoNxN1FqGN"
   },
   "source": [
    ">"
   ]
  },
  {
   "cell_type": "markdown",
   "metadata": {
    "colab_type": "text",
    "id": "RERADKgNFq9T"
   },
   "source": [
    "\n",
    "\n",
    "---\n",
    "\n",
    "\n",
    "\n",
    "---\n",
    "\n",
    "\n",
    "\n",
    "> > > > > > > > > © 2019 Institute of Data\n",
    "\n",
    "\n",
    "---\n",
    "\n",
    "\n",
    "\n",
    "---\n",
    "\n",
    "\n",
    "\n"
   ]
  }
 ],
 "metadata": {
  "colab": {
   "collapsed_sections": [],
   "name": "DSIA Lab-10_1.ipynb",
   "provenance": []
  },
  "kernelspec": {
   "display_name": "Python 3",
   "language": "python",
   "name": "python3"
  },
  "language_info": {
   "codemirror_mode": {
    "name": "ipython",
    "version": 3
   },
   "file_extension": ".py",
   "mimetype": "text/x-python",
   "name": "python",
   "nbconvert_exporter": "python",
   "pygments_lexer": "ipython3",
   "version": "3.7.4"
  }
 },
 "nbformat": 4,
 "nbformat_minor": 1
}
