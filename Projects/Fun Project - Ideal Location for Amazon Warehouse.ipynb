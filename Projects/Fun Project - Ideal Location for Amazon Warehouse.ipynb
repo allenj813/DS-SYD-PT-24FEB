{
 "cells": [
  {
   "cell_type": "markdown",
   "metadata": {},
   "source": [
    "# If Amazon wanted to dominate the world and build a central warehouse across the world, where it the optimal place to do so?"
   ]
  },
  {
   "cell_type": "code",
   "execution_count": 1,
   "metadata": {},
   "outputs": [],
   "source": [
    "# Import libraries\n",
    "from sklearn import metrics\n",
    "import numpy as np\n",
    "import pandas as pd\n",
    "import seaborn as sns\n",
    "import matplotlib.pyplot as plt\n",
    "from sklearn.cluster import KMeans\n",
    "from scipy.spatial.distance import cdist\n",
    "import folium\n",
    "import datetime as dt\n",
    "import webbrowser"
   ]
  },
  {
   "cell_type": "code",
   "execution_count": 2,
   "metadata": {},
   "outputs": [
    {
     "data": {
      "text/html": [
       "<div>\n",
       "<style scoped>\n",
       "    .dataframe tbody tr th:only-of-type {\n",
       "        vertical-align: middle;\n",
       "    }\n",
       "\n",
       "    .dataframe tbody tr th {\n",
       "        vertical-align: top;\n",
       "    }\n",
       "\n",
       "    .dataframe thead th {\n",
       "        text-align: right;\n",
       "    }\n",
       "</style>\n",
       "<table border=\"1\" class=\"dataframe\">\n",
       "  <thead>\n",
       "    <tr style=\"text-align: right;\">\n",
       "      <th></th>\n",
       "      <th>city</th>\n",
       "      <th>city_ascii</th>\n",
       "      <th>lat</th>\n",
       "      <th>lng</th>\n",
       "      <th>country</th>\n",
       "      <th>iso2</th>\n",
       "      <th>iso3</th>\n",
       "      <th>admin_name</th>\n",
       "      <th>capital</th>\n",
       "      <th>population</th>\n",
       "      <th>id</th>\n",
       "    </tr>\n",
       "  </thead>\n",
       "  <tbody>\n",
       "    <tr>\n",
       "      <td>0</td>\n",
       "      <td>Tokyo</td>\n",
       "      <td>Tokyo</td>\n",
       "      <td>35.6850</td>\n",
       "      <td>139.7514</td>\n",
       "      <td>Japan</td>\n",
       "      <td>JP</td>\n",
       "      <td>JPN</td>\n",
       "      <td>Tōkyō</td>\n",
       "      <td>primary</td>\n",
       "      <td>35676000.0</td>\n",
       "      <td>1392685764</td>\n",
       "    </tr>\n",
       "    <tr>\n",
       "      <td>1</td>\n",
       "      <td>New York</td>\n",
       "      <td>New York</td>\n",
       "      <td>40.6943</td>\n",
       "      <td>-73.9249</td>\n",
       "      <td>United States</td>\n",
       "      <td>US</td>\n",
       "      <td>USA</td>\n",
       "      <td>New York</td>\n",
       "      <td>NaN</td>\n",
       "      <td>19354922.0</td>\n",
       "      <td>1840034016</td>\n",
       "    </tr>\n",
       "    <tr>\n",
       "      <td>2</td>\n",
       "      <td>Mexico City</td>\n",
       "      <td>Mexico City</td>\n",
       "      <td>19.4424</td>\n",
       "      <td>-99.1310</td>\n",
       "      <td>Mexico</td>\n",
       "      <td>MX</td>\n",
       "      <td>MEX</td>\n",
       "      <td>Ciudad de México</td>\n",
       "      <td>primary</td>\n",
       "      <td>19028000.0</td>\n",
       "      <td>1484247881</td>\n",
       "    </tr>\n",
       "    <tr>\n",
       "      <td>3</td>\n",
       "      <td>Mumbai</td>\n",
       "      <td>Mumbai</td>\n",
       "      <td>19.0170</td>\n",
       "      <td>72.8570</td>\n",
       "      <td>India</td>\n",
       "      <td>IN</td>\n",
       "      <td>IND</td>\n",
       "      <td>Mahārāshtra</td>\n",
       "      <td>admin</td>\n",
       "      <td>18978000.0</td>\n",
       "      <td>1356226629</td>\n",
       "    </tr>\n",
       "    <tr>\n",
       "      <td>4</td>\n",
       "      <td>São Paulo</td>\n",
       "      <td>Sao Paulo</td>\n",
       "      <td>-23.5587</td>\n",
       "      <td>-46.6250</td>\n",
       "      <td>Brazil</td>\n",
       "      <td>BR</td>\n",
       "      <td>BRA</td>\n",
       "      <td>São Paulo</td>\n",
       "      <td>admin</td>\n",
       "      <td>18845000.0</td>\n",
       "      <td>1076532519</td>\n",
       "    </tr>\n",
       "  </tbody>\n",
       "</table>\n",
       "</div>"
      ],
      "text/plain": [
       "          city   city_ascii      lat       lng        country iso2 iso3  \\\n",
       "0        Tokyo        Tokyo  35.6850  139.7514          Japan   JP  JPN   \n",
       "1     New York     New York  40.6943  -73.9249  United States   US  USA   \n",
       "2  Mexico City  Mexico City  19.4424  -99.1310         Mexico   MX  MEX   \n",
       "3       Mumbai       Mumbai  19.0170   72.8570          India   IN  IND   \n",
       "4    São Paulo    Sao Paulo -23.5587  -46.6250         Brazil   BR  BRA   \n",
       "\n",
       "         admin_name  capital  population          id  \n",
       "0             Tōkyō  primary  35676000.0  1392685764  \n",
       "1          New York      NaN  19354922.0  1840034016  \n",
       "2  Ciudad de México  primary  19028000.0  1484247881  \n",
       "3       Mahārāshtra    admin  18978000.0  1356226629  \n",
       "4         São Paulo    admin  18845000.0  1076532519  "
      ]
     },
     "execution_count": 2,
     "metadata": {},
     "output_type": "execute_result"
    }
   ],
   "source": [
    "# Explore the data\n",
    "data = pd.read_csv('../Data/worldcities.csv')\n",
    "data.head()"
   ]
  },
  {
   "cell_type": "code",
   "execution_count": 3,
   "metadata": {},
   "outputs": [
    {
     "name": "stdout",
     "output_type": "stream",
     "text": [
      "(15493, 11)\n",
      "                lat           lng    population            id\n",
      "count  15493.000000  15493.000000  1.380800e+04  1.549300e+04\n",
      "mean      29.633315    -29.834189  1.812480e+05  1.623208e+09\n",
      "std       22.414727     76.340457  7.947989e+05  2.826451e+08\n",
      "min      -54.933300   -179.590000  0.000000e+00  1.004003e+09\n",
      "25%       22.305000    -86.324200  9.167500e+03  1.404601e+09\n",
      "50%       37.756200    -71.916700  2.349650e+04  1.826644e+09\n",
      "75%       42.444200     25.582100  9.030625e+04  1.840015e+09\n",
      "max       82.483300    179.383300  3.567600e+07  1.934000e+09\n",
      "<bound method DataFrame.info of               city   city_ascii      lat       lng        country iso2 iso3  \\\n",
      "0            Tokyo        Tokyo  35.6850  139.7514          Japan   JP  JPN   \n",
      "1         New York     New York  40.6943  -73.9249  United States   US  USA   \n",
      "2      Mexico City  Mexico City  19.4424  -99.1310         Mexico   MX  MEX   \n",
      "3           Mumbai       Mumbai  19.0170   72.8570          India   IN  IND   \n",
      "4        São Paulo    Sao Paulo -23.5587  -46.6250         Brazil   BR  BRA   \n",
      "...            ...          ...      ...       ...            ...  ...  ...   \n",
      "15488  Timmiarmiut  Timmiarmiut  62.5333  -42.2167      Greenland   GL  GRL   \n",
      "15489  Cheremoshna  Cheremoshna  51.3894   30.0989        Ukraine   UA  UKR   \n",
      "15490    Ambarchik    Ambarchik  69.6510  162.3336         Russia   RU  RUS   \n",
      "15491      Nordvik      Nordvik  74.0165  111.5100         Russia   RU  RUS   \n",
      "15492      Ennadai      Ennadai  61.1333 -100.8833         Canada   CA  CAN   \n",
      "\n",
      "               admin_name  capital  population          id  \n",
      "0                   Tōkyō  primary  35676000.0  1392685764  \n",
      "1                New York      NaN  19354922.0  1840034016  \n",
      "2        Ciudad de México  primary  19028000.0  1484247881  \n",
      "3             Mahārāshtra    admin  18978000.0  1356226629  \n",
      "4               São Paulo    admin  18845000.0  1076532519  \n",
      "...                   ...      ...         ...         ...  \n",
      "15488            Kujalleq      NaN        10.0  1304206491  \n",
      "15489   Kyyivs’ka Oblast’      NaN         0.0  1804043438  \n",
      "15490    Sakha (Yakutiya)      NaN         0.0  1643739159  \n",
      "15491  Krasnoyarskiy Kray      NaN         0.0  1643587468  \n",
      "15492             Nunavut      NaN         0.0  1124019423  \n",
      "\n",
      "[15493 rows x 11 columns]>\n"
     ]
    }
   ],
   "source": [
    "print(data.shape)\n",
    "print(data.describe())\n",
    "print(data.info)"
   ]
  },
  {
   "cell_type": "code",
   "execution_count": 4,
   "metadata": {},
   "outputs": [
    {
     "name": "stdout",
     "output_type": "stream",
     "text": [
      "city              0\n",
      "city_ascii        0\n",
      "lat               0\n",
      "lng               0\n",
      "country           0\n",
      "iso2             31\n",
      "iso3              0\n",
      "admin_name      191\n",
      "capital       10247\n",
      "population     1685\n",
      "id                0\n",
      "dtype: int64\n"
     ]
    }
   ],
   "source": [
    "print(data.isnull().sum())"
   ]
  },
  {
   "cell_type": "code",
   "execution_count": 5,
   "metadata": {},
   "outputs": [],
   "source": [
    "data['population'].fillna((data['population'].mean()), inplace=True)"
   ]
  },
  {
   "cell_type": "code",
   "execution_count": 6,
   "metadata": {},
   "outputs": [
    {
     "name": "stdout",
     "output_type": "stream",
     "text": [
      "city              0\n",
      "city_ascii        0\n",
      "lat               0\n",
      "lng               0\n",
      "country           0\n",
      "iso2             31\n",
      "iso3              0\n",
      "admin_name      191\n",
      "capital       10247\n",
      "population        0\n",
      "id                0\n",
      "dtype: int64\n"
     ]
    }
   ],
   "source": [
    "print(data.isnull().sum())"
   ]
  },
  {
   "cell_type": "code",
   "execution_count": 7,
   "metadata": {},
   "outputs": [
    {
     "name": "stdout",
     "output_type": "stream",
     "text": [
      "city           object\n",
      "city_ascii     object\n",
      "lat           float64\n",
      "lng           float64\n",
      "country        object\n",
      "iso2           object\n",
      "iso3           object\n",
      "admin_name     object\n",
      "capital        object\n",
      "population    float64\n",
      "id              int64\n",
      "dtype: object\n"
     ]
    }
   ],
   "source": [
    "print(data.dtypes)"
   ]
  },
  {
   "cell_type": "code",
   "execution_count": 8,
   "metadata": {},
   "outputs": [
    {
     "data": {
      "text/plain": [
       "<matplotlib.collections.PathCollection at 0x1a237aaad0>"
      ]
     },
     "execution_count": 8,
     "metadata": {},
     "output_type": "execute_result"
    },
    {
     "data": {
      "image/png": "[encoded data removed]",
      "text/plain": [
       "<Figure size 432x288 with 1 Axes>"
      ]
     },
     "metadata": {
      "needs_background": "light"
     },
     "output_type": "display_data"
    }
   ],
   "source": [
    "# Plot\n",
    "plt.scatter(data['lat'], data['lng'], s= 20)"
   ]
  },
  {
   "cell_type": "code",
   "execution_count": 9,
   "metadata": {},
   "outputs": [
    {
     "name": "stdout",
     "output_type": "stream",
     "text": [
      "           lat       lng\n",
      "0      35.6850  139.7514\n",
      "1      40.6943  -73.9249\n",
      "2      19.4424  -99.1310\n",
      "3      19.0170   72.8570\n",
      "4     -23.5587  -46.6250\n",
      "...        ...       ...\n",
      "15488  62.5333  -42.2167\n",
      "15489  51.3894   30.0989\n",
      "15490  69.6510  162.3336\n",
      "15491  74.0165  111.5100\n",
      "15492  61.1333 -100.8833\n",
      "\n",
      "[15493 rows x 2 columns]\n"
     ]
    }
   ],
   "source": [
    "df = pd.DataFrame(data, columns = ['lat', 'lng'])\n",
    "print(df)"
   ]
  },
  {
   "cell_type": "code",
   "execution_count": null,
   "metadata": {},
   "outputs": [],
   "source": []
  },
  {
   "cell_type": "code",
   "execution_count": 10,
   "metadata": {},
   "outputs": [
    {
     "data": {
      "image/png": "[encoded data removed]",
      "text/plain": [
       "<Figure size 432x288 with 1 Axes>"
      ]
     },
     "metadata": {
      "needs_background": "light"
     },
     "output_type": "display_data"
    }
   ],
   "source": [
    "data2 = data[['lat', 'lng']]\n",
    "\n",
    "kmeans = KMeans(n_clusters = 150)\n",
    "kmeans.fit(data2)\n",
    "y_means = kmeans.predict(data2)\n",
    "plt.scatter(data['lat'], data['lng'], c=y_means, s=20, cmap='viridis')\n",
    "centers = kmeans.cluster_centers_\n",
    "plt.scatter(centers[:,0], centers[:,1], c='black', s=200, alpha=0.5)\n",
    "plt.xlabel('lbm')\n",
    "plt.ylabel('pcBfat')\n",
    "plt.show()"
   ]
  },
  {
   "cell_type": "code",
   "execution_count": 11,
   "metadata": {},
   "outputs": [
    {
     "data": {
      "text/plain": [
       "0        139.7514\n",
       "1        -73.9249\n",
       "2        -99.1310\n",
       "3         72.8570\n",
       "4        -46.6250\n",
       "           ...   \n",
       "15488    -42.2167\n",
       "15489     30.0989\n",
       "15490    162.3336\n",
       "15491    111.5100\n",
       "15492   -100.8833\n",
       "Name: lng, Length: 15493, dtype: float64"
      ]
     },
     "execution_count": 11,
     "metadata": {},
     "output_type": "execute_result"
    }
   ],
   "source": [
    "data['lng']"
   ]
  },
  {
   "cell_type": "code",
   "execution_count": 12,
   "metadata": {},
   "outputs": [],
   "source": [
    "import os\n",
    "os.environ['PROJ_LIB'] = '/Users/allenj/opt/anaconda3/share/proj'"
   ]
  },
  {
   "cell_type": "code",
   "execution_count": 13,
   "metadata": {},
   "outputs": [
    {
     "data": {
      "text/plain": [
       "array([[  31.29231054,  -97.23599784],\n",
       "       [  34.54608989,   68.20422022],\n",
       "       [  43.21328187,   20.92578654],\n",
       "       [  -3.93114528,  -46.61140189],\n",
       "       [  27.20309306,  119.81684722],\n",
       "       [ -31.470496  ,   18.348944  ],\n",
       "       [  42.85499062,  -71.14917974],\n",
       "       [  34.05485514, -117.60701351],\n",
       "       [ -20.88086875,  143.70653438],\n",
       "       [  15.90218837,   35.66981628],\n",
       "       [ -34.62026962,  -60.39471392],\n",
       "       [  56.5525735 ,   -6.10898547],\n",
       "       [  42.41072624,  -88.01260665],\n",
       "       [   7.17687639,   -7.25041944],\n",
       "       [  64.67800625,  138.22565   ],\n",
       "       [   7.75300306,  -72.62846224],\n",
       "       [  -3.08318636,   29.42166477],\n",
       "       [  47.015635  ,   40.41648333],\n",
       "       [  34.99828931,  -80.44874182],\n",
       "       [  52.30594638,   86.68378261],\n",
       "       [  21.13502364, -157.48044364],\n",
       "       [  45.56745842,  127.36059406],\n",
       "       [  19.28086512,   96.34235581],\n",
       "       [  64.69234186,   31.34563721],\n",
       "       [ -40.545542  ,  173.689196  ],\n",
       "       [  47.2972825 , -116.07502125],\n",
       "       [ -21.12389412,  -48.7417951 ],\n",
       "       [  62.02938095, -149.44679524],\n",
       "       [  -7.73612391,  125.33993043],\n",
       "       [  16.33628824,  -90.25699216],\n",
       "       [  53.5761137 ,    8.74930959],\n",
       "       [  34.50081897,    2.27619655],\n",
       "       [ -33.64543667,  138.28131667],\n",
       "       [  59.42752656,   60.13620781],\n",
       "       [   7.95948971,   76.90740588],\n",
       "       [  36.1786    ,   55.18648611],\n",
       "       [  51.22537949, -102.5212359 ],\n",
       "       [ -16.62524737, -170.98201579],\n",
       "       [ -21.19346226,   30.68079811],\n",
       "       [ -11.84596863,  -74.55529216],\n",
       "       [  40.34523667,  -74.95108978],\n",
       "       [  12.33884225,  106.39934507],\n",
       "       [  13.34845   ,   -2.0257    ],\n",
       "       [  15.74303043,  -24.05760435],\n",
       "       [  56.54777478,   24.49626593],\n",
       "       [  -6.59456563,   16.04860781],\n",
       "       [  65.22774615,  168.76512308],\n",
       "       [  27.57018747,  -81.38615928],\n",
       "       [  69.43961111,  -53.27460556],\n",
       "       [ -29.14224865,  117.35709189],\n",
       "       [  68.48601333,  108.48424   ],\n",
       "       [  36.369792  ,  137.918756  ],\n",
       "       [  25.60568958,   88.70345104],\n",
       "       [   1.36395132,   32.75257961],\n",
       "       [  35.80286457,   13.09412126],\n",
       "       [   7.49378784,  123.74698919],\n",
       "       [  40.17434203,   26.94685797],\n",
       "       [   7.96176164,  -59.59141918],\n",
       "       [  39.14047598, -105.12547765],\n",
       "       [  41.38296102,  -82.06470751],\n",
       "       [  18.41368447,  -67.62417087],\n",
       "       [  32.86329661,  112.92224237],\n",
       "       [ -48.29521786,  -69.11478214],\n",
       "       [   8.13060123,    4.37285062],\n",
       "       [  31.95540784, -109.89616078],\n",
       "       [  13.33083962,   45.67826981],\n",
       "       [  37.26456463,   36.48470732],\n",
       "       [ -29.34452545,  151.35189273],\n",
       "       [  38.04340937, -121.52227764],\n",
       "       [  37.57795363,  -90.17406573],\n",
       "       [ -24.68791846,  -57.33720615],\n",
       "       [  43.25316327,   -0.20488367],\n",
       "       [   9.4891    ,  154.72935   ],\n",
       "       [  61.864     ,  -93.53462667],\n",
       "       [  -5.10824386,  111.11835789],\n",
       "       [  30.96769577,  -90.58523803],\n",
       "       [  14.04286709,  -13.90882658],\n",
       "       [ -17.40236   ,   56.3255    ],\n",
       "       [  18.79320694,   76.60855278],\n",
       "       [  22.4467985 , -100.35567744],\n",
       "       [  53.29948085,   72.51161489],\n",
       "       [  -2.71220349,  -78.61786395],\n",
       "       [ -13.393725  ,   35.29772344],\n",
       "       [  47.286325  ,    7.9211475 ],\n",
       "       [  40.44059783,   46.25632391],\n",
       "       [ -16.56737738,  -65.09041429],\n",
       "       [  44.67329252,  -93.65462717],\n",
       "       [  34.3810439 ,  103.28289512],\n",
       "       [  47.35630909,  140.48193333],\n",
       "       [  41.14187323, -111.79546929],\n",
       "       [  -7.67586667,  -38.10746349],\n",
       "       [  49.32411351,  -60.24256757],\n",
       "       [   3.74689756,   20.27068537],\n",
       "       [  48.44222609,   58.75159783],\n",
       "       [  -6.031475  ,  147.67409375],\n",
       "       [  36.35235441,   -8.48605882],\n",
       "       [  51.28461702,  103.87233191],\n",
       "       [ -13.98311364,  168.15849091],\n",
       "       [  46.73662509, -122.46253039],\n",
       "       [ -37.06675844,  -71.19912208],\n",
       "       [  52.06894974,   -1.34375436],\n",
       "       [  66.24494286,   80.81215238],\n",
       "       [  37.78509502,  -95.77206833],\n",
       "       [  43.67204158,  -77.66370789],\n",
       "       [  29.02803103,   77.09815172],\n",
       "       [  10.98725577,  -83.92351154],\n",
       "       [ -25.28932881,  -67.16174407],\n",
       "       [  66.7316    , -174.10861667],\n",
       "       [  39.22074325,  -84.99366159],\n",
       "       [  61.571055  , -131.482485  ],\n",
       "       [  29.52706866,   32.90548507],\n",
       "       [  25.27004545,   54.46457818],\n",
       "       [  66.698     ,  -22.49672308],\n",
       "       [  46.50450251,   15.26909467],\n",
       "       [  47.67370202,   28.30315354],\n",
       "       [  55.45734348,   49.10423913],\n",
       "       [  42.25768276,   73.79479655],\n",
       "       [ -28.22010946,   27.58481486],\n",
       "       [   1.92100758,   10.55110758],\n",
       "       [  14.98397344,  121.45857031],\n",
       "       [  41.39624334,  -73.50279069],\n",
       "       [ -12.91693469,   25.75916122],\n",
       "       [  38.31887403,  116.91863506],\n",
       "       [ -18.50345323,  -42.18473871],\n",
       "       [  65.658825  ,  124.15275   ],\n",
       "       [ -30.24578857,  -52.52966857],\n",
       "       [  54.811005  ,   37.74079125],\n",
       "       [ -37.26957091,  146.27620364],\n",
       "       [  19.89688537,  -77.33820976],\n",
       "       [  36.75184143,  127.82213286],\n",
       "       [  59.85549524,  155.02069524],\n",
       "       [  11.00378824,   13.02555686],\n",
       "       [  53.100988  ,  117.12536   ],\n",
       "       [  59.49770435, -114.38126087],\n",
       "       [ -17.91902188,   46.5751375 ],\n",
       "       [  24.6444    ,  112.71107442],\n",
       "       [  11.88897778,   25.16042222],\n",
       "       [  -5.07758929,  -60.05944643],\n",
       "       [  61.2112541 ,   14.29986393],\n",
       "       [   3.92601864,  100.91179492],\n",
       "       [   6.34620444,   40.34246889],\n",
       "       [  38.94270729,  -77.24869408],\n",
       "       [ -18.5179617 ,   16.86745745],\n",
       "       [  -3.33243676,   37.84663971],\n",
       "       [  15.00528082,  101.41070685],\n",
       "       [  27.98141515,   17.20059091],\n",
       "       [  66.25385   ,  -75.77636875],\n",
       "       [  33.77521761,  -85.27262448],\n",
       "       [  22.19125217,  104.65354058],\n",
       "       [  32.33487037,   45.6189463 ]])"
      ]
     },
     "execution_count": 13,
     "metadata": {},
     "output_type": "execute_result"
    }
   ],
   "source": [
    "centers"
   ]
  },
  {
   "cell_type": "code",
   "execution_count": 14,
   "metadata": {},
   "outputs": [
    {
     "data": {
      "text/plain": [
       "array([ 31.29231054,  34.54608989,  43.21328187,  -3.93114528,\n",
       "        27.20309306, -31.470496  ,  42.85499062,  34.05485514,\n",
       "       -20.88086875,  15.90218837, -34.62026962,  56.5525735 ,\n",
       "        42.41072624,   7.17687639,  64.67800625,   7.75300306,\n",
       "        -3.08318636,  47.015635  ,  34.99828931,  52.30594638,\n",
       "        21.13502364,  45.56745842,  19.28086512,  64.69234186,\n",
       "       -40.545542  ,  47.2972825 , -21.12389412,  62.02938095,\n",
       "        -7.73612391,  16.33628824,  53.5761137 ,  34.50081897,\n",
       "       -33.64543667,  59.42752656,   7.95948971,  36.1786    ,\n",
       "        51.22537949, -16.62524737, -21.19346226, -11.84596863,\n",
       "        40.34523667,  12.33884225,  13.34845   ,  15.74303043,\n",
       "        56.54777478,  -6.59456563,  65.22774615,  27.57018747,\n",
       "        69.43961111, -29.14224865,  68.48601333,  36.369792  ,\n",
       "        25.60568958,   1.36395132,  35.80286457,   7.49378784,\n",
       "        40.17434203,   7.96176164,  39.14047598,  41.38296102,\n",
       "        18.41368447,  32.86329661, -48.29521786,   8.13060123,\n",
       "        31.95540784,  13.33083962,  37.26456463, -29.34452545,\n",
       "        38.04340937,  37.57795363, -24.68791846,  43.25316327,\n",
       "         9.4891    ,  61.864     ,  -5.10824386,  30.96769577,\n",
       "        14.04286709, -17.40236   ,  18.79320694,  22.4467985 ,\n",
       "        53.29948085,  -2.71220349, -13.393725  ,  47.286325  ,\n",
       "        40.44059783, -16.56737738,  44.67329252,  34.3810439 ,\n",
       "        47.35630909,  41.14187323,  -7.67586667,  49.32411351,\n",
       "         3.74689756,  48.44222609,  -6.031475  ,  36.35235441,\n",
       "        51.28461702, -13.98311364,  46.73662509, -37.06675844,\n",
       "        52.06894974,  66.24494286,  37.78509502,  43.67204158,\n",
       "        29.02803103,  10.98725577, -25.28932881,  66.7316    ,\n",
       "        39.22074325,  61.571055  ,  29.52706866,  25.27004545,\n",
       "        66.698     ,  46.50450251,  47.67370202,  55.45734348,\n",
       "        42.25768276, -28.22010946,   1.92100758,  14.98397344,\n",
       "        41.39624334, -12.91693469,  38.31887403, -18.50345323,\n",
       "        65.658825  , -30.24578857,  54.811005  , -37.26957091,\n",
       "        19.89688537,  36.75184143,  59.85549524,  11.00378824,\n",
       "        53.100988  ,  59.49770435, -17.91902188,  24.6444    ,\n",
       "        11.88897778,  -5.07758929,  61.2112541 ,   3.92601864,\n",
       "         6.34620444,  38.94270729, -18.5179617 ,  -3.33243676,\n",
       "        15.00528082,  27.98141515,  66.25385   ,  33.77521761,\n",
       "        22.19125217,  32.33487037])"
      ]
     },
     "execution_count": 14,
     "metadata": {},
     "output_type": "execute_result"
    }
   ],
   "source": [
    "centers[:,0]"
   ]
  },
  {
   "cell_type": "code",
   "execution_count": 15,
   "metadata": {},
   "outputs": [
    {
     "name": "stdout",
     "output_type": "stream",
     "text": [
      "             0\n",
      "0    31.292311\n",
      "1    34.546090\n",
      "2    43.213282\n",
      "3    -3.931145\n",
      "4    27.203093\n",
      "..         ...\n",
      "145  27.981415\n",
      "146  66.253850\n",
      "147  33.775218\n",
      "148  22.191252\n",
      "149  32.334870\n",
      "\n",
      "[150 rows x 1 columns]\n"
     ]
    }
   ],
   "source": [
    "list = pd.DataFrame(centers[:,0])\n",
    "print(list)"
   ]
  },
  {
   "cell_type": "code",
   "execution_count": 16,
   "metadata": {},
   "outputs": [
    {
     "data": {
      "text/plain": [
       "0        139.7514\n",
       "1        -73.9249\n",
       "2        -99.1310\n",
       "3         72.8570\n",
       "4        -46.6250\n",
       "           ...   \n",
       "15488    -42.2167\n",
       "15489     30.0989\n",
       "15490    162.3336\n",
       "15491    111.5100\n",
       "15492   -100.8833\n",
       "Name: lng, Length: 15493, dtype: float64"
      ]
     },
     "execution_count": 16,
     "metadata": {},
     "output_type": "execute_result"
    }
   ],
   "source": [
    "data['lng']"
   ]
  },
  {
   "cell_type": "code",
   "execution_count": 17,
   "metadata": {},
   "outputs": [],
   "source": [
    "import pandas as pd\n",
    "import plotly.graph_objects as go\n",
    "df = data\n",
    "df.head()\n",
    "\n",
    "fig = go.Figure(data = go.Scattergeo(\n",
    "    lon = df['lng'],\n",
    "    lat = df['lat'],\n",
    "    mode = 'markers',\n",
    "    marker = dict(\n",
    "        size = 3,\n",
    "        opacity = 0.8,\n",
    "        reversescale = True,\n",
    "        autocolorscale = True,\n",
    "        symbol = 'circle',\n",
    "        line = dict(\n",
    "            width = 1,\n",
    "            color = ['rgba(102, 102, 102)']\n",
    "        ),\n",
    "        cmin = 0,\n",
    "        color = y_means,\n",
    "        colorbar_title = \"City Clusters\"\n",
    "    )\n",
    "))\n",
    "\n",
    "fig.add_trace(go.Scattergeo(\n",
    "    lon = centers[:,1],\n",
    "    lat = centers[:,0],\n",
    "    mode = 'markers',\n",
    "    marker = dict(\n",
    "        size = 8,\n",
    "        line = dict(\n",
    "            width = 1,\n",
    "            color = 'orange'\n",
    "        ),\n",
    "        color = 'orange',\n",
    "        colorbar_title = \"Centers\"\n",
    "    )\n",
    "))\n",
    "\n",
    "fig.update_layout(\n",
    "    title = \"Cities Around the World \",\n",
    "    geo = dict(\n",
    "        scope = \"world\",\n",
    "        showland = True,\n",
    "    )\n",
    ")\n",
    "\n",
    "fig.write_html('first_figure.html', auto_open=True)"
   ]
  },
  {
   "cell_type": "code",
   "execution_count": 18,
   "metadata": {},
   "outputs": [],
   "source": [
    "from mpl_toolkits.basemap import Basemap"
   ]
  },
  {
   "cell_type": "code",
   "execution_count": 19,
   "metadata": {},
   "outputs": [],
   "source": [
    "import pandas as pd\n",
    "import plotly.graph_objects as go\n",
    "df = data\n",
    "df.head()\n",
    "\n",
    "fig = go.Figure(data = go.Scattergeo(\n",
    "    lon = df[\"lng\"],\n",
    "    lat = df[\"lat\"],\n",
    "    text = df[\"population\"],\n",
    "    mode = \"markers\",\n",
    "    marker = dict(\n",
    "        size = 12,\n",
    "        opacity = 0.8,\n",
    "        reversescale = True,\n",
    "        autocolorscale = True,\n",
    "        symbol = 'square',\n",
    "        line = dict(\n",
    "            width = 1,\n",
    "            color = 'rgba(102, 102, 102)'\n",
    "        ),\n",
    "        cmin = 0,\n",
    "        color = y_means,\n",
    "        colorbar_title = \"COVID 19 Reported Cases\"\n",
    "    )\n",
    "))\n",
    "\n",
    "fig.update_layout(\n",
    "    title = \"COVID19 Confirmed Cases Around the World\",\n",
    "    geo = dict(\n",
    "        scope = \"world\",\n",
    "        showland = True,\n",
    "    )\n",
    ")\n",
    "\n",
    "fig.write_html('first_figure.html', auto_open=True)"
   ]
  },
  {
   "cell_type": "code",
   "execution_count": 20,
   "metadata": {},
   "outputs": [
    {
     "ename": "IndentationError",
     "evalue": "unexpected indent (<ipython-input-20-137d0410f014>, line 4)",
     "output_type": "error",
     "traceback": [
      "\u001b[0;36m  File \u001b[0;32m\"<ipython-input-20-137d0410f014>\"\u001b[0;36m, line \u001b[0;32m4\u001b[0m\n\u001b[0;31m    folium.Marker(\u001b[0m\n\u001b[0m    ^\u001b[0m\n\u001b[0;31mIndentationError\u001b[0m\u001b[0;31m:\u001b[0m unexpected indent\n"
     ]
    }
   ],
   "source": [
    "# Comment this out for now because it's large \n",
    "\n",
    "#for i in range(0,len(data)):\n",
    "    folium.Marker(\n",
    "        location=[data.iloc[i]['lat'], data.iloc[i]['lng']],\n",
    "    \n",
    "    ).add_to(base_map)\n",
    "\n",
    "display(base_map)"
   ]
  },
  {
   "cell_type": "code",
   "execution_count": 22,
   "metadata": {},
   "outputs": [
    {
     "ename": "KeyError",
     "evalue": "('lat', 'lng')",
     "output_type": "error",
     "traceback": [
      "\u001b[0;31m---------------------------------------------------------------------------\u001b[0m",
      "\u001b[0;31mKeyError\u001b[0m                                  Traceback (most recent call last)",
      "\u001b[0;32m~/opt/anaconda3/lib/python3.7/site-packages/pandas/core/indexes/base.py\u001b[0m in \u001b[0;36mget_loc\u001b[0;34m(self, key, method, tolerance)\u001b[0m\n\u001b[1;32m   2896\u001b[0m             \u001b[0;32mtry\u001b[0m\u001b[0;34m:\u001b[0m\u001b[0;34m\u001b[0m\u001b[0;34m\u001b[0m\u001b[0m\n\u001b[0;32m-> 2897\u001b[0;31m                 \u001b[0;32mreturn\u001b[0m \u001b[0mself\u001b[0m\u001b[0;34m.\u001b[0m\u001b[0m_engine\u001b[0m\u001b[0;34m.\u001b[0m\u001b[0mget_loc\u001b[0m\u001b[0;34m(\u001b[0m\u001b[0mkey\u001b[0m\u001b[0;34m)\u001b[0m\u001b[0;34m\u001b[0m\u001b[0;34m\u001b[0m\u001b[0m\n\u001b[0m\u001b[1;32m   2898\u001b[0m             \u001b[0;32mexcept\u001b[0m \u001b[0mKeyError\u001b[0m\u001b[0;34m:\u001b[0m\u001b[0;34m\u001b[0m\u001b[0;34m\u001b[0m\u001b[0m\n",
      "\u001b[0;32mpandas/_libs/index.pyx\u001b[0m in \u001b[0;36mpandas._libs.index.IndexEngine.get_loc\u001b[0;34m()\u001b[0m\n",
      "\u001b[0;32mpandas/_libs/index.pyx\u001b[0m in \u001b[0;36mpandas._libs.index.IndexEngine.get_loc\u001b[0;34m()\u001b[0m\n",
      "\u001b[0;32mpandas/_libs/hashtable_class_helper.pxi\u001b[0m in \u001b[0;36mpandas._libs.hashtable.PyObjectHashTable.get_item\u001b[0;34m()\u001b[0m\n",
      "\u001b[0;32mpandas/_libs/hashtable_class_helper.pxi\u001b[0m in \u001b[0;36mpandas._libs.hashtable.PyObjectHashTable.get_item\u001b[0;34m()\u001b[0m\n",
      "\u001b[0;31mKeyError\u001b[0m: ('lat', 'lng')",
      "\nDuring handling of the above exception, another exception occurred:\n",
      "\u001b[0;31mKeyError\u001b[0m                                  Traceback (most recent call last)",
      "\u001b[0;32m<ipython-input-22-22fc2b9d0a2d>\u001b[0m in \u001b[0;36m<module>\u001b[0;34m\u001b[0m\n\u001b[1;32m      3\u001b[0m \u001b[0;34m\u001b[0m\u001b[0m\n\u001b[1;32m      4\u001b[0m \u001b[0;31m# Bild map\u001b[0m\u001b[0;34m\u001b[0m\u001b[0;34m\u001b[0m\u001b[0;34m\u001b[0m\u001b[0m\n\u001b[0;32m----> 5\u001b[0;31m \u001b[0mmap\u001b[0m \u001b[0;34m=\u001b[0m \u001b[0mfolium\u001b[0m\u001b[0;34m.\u001b[0m\u001b[0mMap\u001b[0m\u001b[0;34m(\u001b[0m\u001b[0mlocation\u001b[0m\u001b[0;34m=\u001b[0m\u001b[0mdf\u001b[0m\u001b[0;34m[\u001b[0m\u001b[0;34m'lat'\u001b[0m\u001b[0;34m,\u001b[0m \u001b[0;34m'lng'\u001b[0m\u001b[0;34m]\u001b[0m\u001b[0;34m,\u001b[0m \u001b[0mzoom_start\u001b[0m\u001b[0;34m=\u001b[0m\u001b[0;36m12\u001b[0m\u001b[0;34m)\u001b[0m\u001b[0;34m\u001b[0m\u001b[0;34m\u001b[0m\u001b[0m\n\u001b[0m\u001b[1;32m      6\u001b[0m \u001b[0mmap\u001b[0m\u001b[0;34m\u001b[0m\u001b[0;34m\u001b[0m\u001b[0m\n",
      "\u001b[0;32m~/opt/anaconda3/lib/python3.7/site-packages/pandas/core/frame.py\u001b[0m in \u001b[0;36m__getitem__\u001b[0;34m(self, key)\u001b[0m\n\u001b[1;32m   2978\u001b[0m             \u001b[0;32mif\u001b[0m \u001b[0mself\u001b[0m\u001b[0;34m.\u001b[0m\u001b[0mcolumns\u001b[0m\u001b[0;34m.\u001b[0m\u001b[0mnlevels\u001b[0m \u001b[0;34m>\u001b[0m \u001b[0;36m1\u001b[0m\u001b[0;34m:\u001b[0m\u001b[0;34m\u001b[0m\u001b[0;34m\u001b[0m\u001b[0m\n\u001b[1;32m   2979\u001b[0m                 \u001b[0;32mreturn\u001b[0m \u001b[0mself\u001b[0m\u001b[0;34m.\u001b[0m\u001b[0m_getitem_multilevel\u001b[0m\u001b[0;34m(\u001b[0m\u001b[0mkey\u001b[0m\u001b[0;34m)\u001b[0m\u001b[0;34m\u001b[0m\u001b[0;34m\u001b[0m\u001b[0m\n\u001b[0;32m-> 2980\u001b[0;31m             \u001b[0mindexer\u001b[0m \u001b[0;34m=\u001b[0m \u001b[0mself\u001b[0m\u001b[0;34m.\u001b[0m\u001b[0mcolumns\u001b[0m\u001b[0;34m.\u001b[0m\u001b[0mget_loc\u001b[0m\u001b[0;34m(\u001b[0m\u001b[0mkey\u001b[0m\u001b[0;34m)\u001b[0m\u001b[0;34m\u001b[0m\u001b[0;34m\u001b[0m\u001b[0m\n\u001b[0m\u001b[1;32m   2981\u001b[0m             \u001b[0;32mif\u001b[0m \u001b[0mis_integer\u001b[0m\u001b[0;34m(\u001b[0m\u001b[0mindexer\u001b[0m\u001b[0;34m)\u001b[0m\u001b[0;34m:\u001b[0m\u001b[0;34m\u001b[0m\u001b[0;34m\u001b[0m\u001b[0m\n\u001b[1;32m   2982\u001b[0m                 \u001b[0mindexer\u001b[0m \u001b[0;34m=\u001b[0m \u001b[0;34m[\u001b[0m\u001b[0mindexer\u001b[0m\u001b[0;34m]\u001b[0m\u001b[0;34m\u001b[0m\u001b[0;34m\u001b[0m\u001b[0m\n",
      "\u001b[0;32m~/opt/anaconda3/lib/python3.7/site-packages/pandas/core/indexes/base.py\u001b[0m in \u001b[0;36mget_loc\u001b[0;34m(self, key, method, tolerance)\u001b[0m\n\u001b[1;32m   2897\u001b[0m                 \u001b[0;32mreturn\u001b[0m \u001b[0mself\u001b[0m\u001b[0;34m.\u001b[0m\u001b[0m_engine\u001b[0m\u001b[0;34m.\u001b[0m\u001b[0mget_loc\u001b[0m\u001b[0;34m(\u001b[0m\u001b[0mkey\u001b[0m\u001b[0;34m)\u001b[0m\u001b[0;34m\u001b[0m\u001b[0;34m\u001b[0m\u001b[0m\n\u001b[1;32m   2898\u001b[0m             \u001b[0;32mexcept\u001b[0m \u001b[0mKeyError\u001b[0m\u001b[0;34m:\u001b[0m\u001b[0;34m\u001b[0m\u001b[0;34m\u001b[0m\u001b[0m\n\u001b[0;32m-> 2899\u001b[0;31m                 \u001b[0;32mreturn\u001b[0m \u001b[0mself\u001b[0m\u001b[0;34m.\u001b[0m\u001b[0m_engine\u001b[0m\u001b[0;34m.\u001b[0m\u001b[0mget_loc\u001b[0m\u001b[0;34m(\u001b[0m\u001b[0mself\u001b[0m\u001b[0;34m.\u001b[0m\u001b[0m_maybe_cast_indexer\u001b[0m\u001b[0;34m(\u001b[0m\u001b[0mkey\u001b[0m\u001b[0;34m)\u001b[0m\u001b[0;34m)\u001b[0m\u001b[0;34m\u001b[0m\u001b[0;34m\u001b[0m\u001b[0m\n\u001b[0m\u001b[1;32m   2900\u001b[0m         \u001b[0mindexer\u001b[0m \u001b[0;34m=\u001b[0m \u001b[0mself\u001b[0m\u001b[0;34m.\u001b[0m\u001b[0mget_indexer\u001b[0m\u001b[0;34m(\u001b[0m\u001b[0;34m[\u001b[0m\u001b[0mkey\u001b[0m\u001b[0;34m]\u001b[0m\u001b[0;34m,\u001b[0m \u001b[0mmethod\u001b[0m\u001b[0;34m=\u001b[0m\u001b[0mmethod\u001b[0m\u001b[0;34m,\u001b[0m \u001b[0mtolerance\u001b[0m\u001b[0;34m=\u001b[0m\u001b[0mtolerance\u001b[0m\u001b[0;34m)\u001b[0m\u001b[0;34m\u001b[0m\u001b[0;34m\u001b[0m\u001b[0m\n\u001b[1;32m   2901\u001b[0m         \u001b[0;32mif\u001b[0m \u001b[0mindexer\u001b[0m\u001b[0;34m.\u001b[0m\u001b[0mndim\u001b[0m \u001b[0;34m>\u001b[0m \u001b[0;36m1\u001b[0m \u001b[0;32mor\u001b[0m \u001b[0mindexer\u001b[0m\u001b[0;34m.\u001b[0m\u001b[0msize\u001b[0m \u001b[0;34m>\u001b[0m \u001b[0;36m1\u001b[0m\u001b[0;34m:\u001b[0m\u001b[0;34m\u001b[0m\u001b[0;34m\u001b[0m\u001b[0m\n",
      "\u001b[0;32mpandas/_libs/index.pyx\u001b[0m in \u001b[0;36mpandas._libs.index.IndexEngine.get_loc\u001b[0;34m()\u001b[0m\n",
      "\u001b[0;32mpandas/_libs/index.pyx\u001b[0m in \u001b[0;36mpandas._libs.index.IndexEngine.get_loc\u001b[0;34m()\u001b[0m\n",
      "\u001b[0;32mpandas/_libs/hashtable_class_helper.pxi\u001b[0m in \u001b[0;36mpandas._libs.hashtable.PyObjectHashTable.get_item\u001b[0;34m()\u001b[0m\n",
      "\u001b[0;32mpandas/_libs/hashtable_class_helper.pxi\u001b[0m in \u001b[0;36mpandas._libs.hashtable.PyObjectHashTable.get_item\u001b[0;34m()\u001b[0m\n",
      "\u001b[0;31mKeyError\u001b[0m: ('lat', 'lng')"
     ]
    }
   ],
   "source": [
    "# Plot on world map\n",
    "start = [40.7128, -74.0059]\n",
    "\n",
    "# Bild map\n",
    "map = folium.Map(location=df['lat', 'lng'], zoom_start=12)\n",
    "map"
   ]
  },
  {
   "cell_type": "code",
   "execution_count": 23,
   "metadata": {},
   "outputs": [
    {
     "data": {
      "text/html": [
       "<div>\n",
       "<style scoped>\n",
       "    .dataframe tbody tr th:only-of-type {\n",
       "        vertical-align: middle;\n",
       "    }\n",
       "\n",
       "    .dataframe tbody tr th {\n",
       "        vertical-align: top;\n",
       "    }\n",
       "\n",
       "    .dataframe thead th {\n",
       "        text-align: right;\n",
       "    }\n",
       "</style>\n",
       "<table border=\"1\" class=\"dataframe\">\n",
       "  <thead>\n",
       "    <tr style=\"text-align: right;\">\n",
       "      <th></th>\n",
       "      <th>city</th>\n",
       "      <th>city_ascii</th>\n",
       "      <th>lat</th>\n",
       "      <th>lng</th>\n",
       "      <th>country</th>\n",
       "      <th>iso2</th>\n",
       "      <th>iso3</th>\n",
       "      <th>admin_name</th>\n",
       "      <th>capital</th>\n",
       "      <th>population</th>\n",
       "      <th>id</th>\n",
       "    </tr>\n",
       "  </thead>\n",
       "  <tbody>\n",
       "    <tr>\n",
       "      <td>0</td>\n",
       "      <td>Tokyo</td>\n",
       "      <td>Tokyo</td>\n",
       "      <td>35.6850</td>\n",
       "      <td>139.7514</td>\n",
       "      <td>Japan</td>\n",
       "      <td>JP</td>\n",
       "      <td>JPN</td>\n",
       "      <td>Tōkyō</td>\n",
       "      <td>primary</td>\n",
       "      <td>35676000.0</td>\n",
       "      <td>1392685764</td>\n",
       "    </tr>\n",
       "    <tr>\n",
       "      <td>1</td>\n",
       "      <td>New York</td>\n",
       "      <td>New York</td>\n",
       "      <td>40.6943</td>\n",
       "      <td>-73.9249</td>\n",
       "      <td>United States</td>\n",
       "      <td>US</td>\n",
       "      <td>USA</td>\n",
       "      <td>New York</td>\n",
       "      <td>NaN</td>\n",
       "      <td>19354922.0</td>\n",
       "      <td>1840034016</td>\n",
       "    </tr>\n",
       "    <tr>\n",
       "      <td>2</td>\n",
       "      <td>Mexico City</td>\n",
       "      <td>Mexico City</td>\n",
       "      <td>19.4424</td>\n",
       "      <td>-99.1310</td>\n",
       "      <td>Mexico</td>\n",
       "      <td>MX</td>\n",
       "      <td>MEX</td>\n",
       "      <td>Ciudad de México</td>\n",
       "      <td>primary</td>\n",
       "      <td>19028000.0</td>\n",
       "      <td>1484247881</td>\n",
       "    </tr>\n",
       "    <tr>\n",
       "      <td>3</td>\n",
       "      <td>Mumbai</td>\n",
       "      <td>Mumbai</td>\n",
       "      <td>19.0170</td>\n",
       "      <td>72.8570</td>\n",
       "      <td>India</td>\n",
       "      <td>IN</td>\n",
       "      <td>IND</td>\n",
       "      <td>Mahārāshtra</td>\n",
       "      <td>admin</td>\n",
       "      <td>18978000.0</td>\n",
       "      <td>1356226629</td>\n",
       "    </tr>\n",
       "    <tr>\n",
       "      <td>4</td>\n",
       "      <td>São Paulo</td>\n",
       "      <td>Sao Paulo</td>\n",
       "      <td>-23.5587</td>\n",
       "      <td>-46.6250</td>\n",
       "      <td>Brazil</td>\n",
       "      <td>BR</td>\n",
       "      <td>BRA</td>\n",
       "      <td>São Paulo</td>\n",
       "      <td>admin</td>\n",
       "      <td>18845000.0</td>\n",
       "      <td>1076532519</td>\n",
       "    </tr>\n",
       "  </tbody>\n",
       "</table>\n",
       "</div>"
      ],
      "text/plain": [
       "          city   city_ascii      lat       lng        country iso2 iso3  \\\n",
       "0        Tokyo        Tokyo  35.6850  139.7514          Japan   JP  JPN   \n",
       "1     New York     New York  40.6943  -73.9249  United States   US  USA   \n",
       "2  Mexico City  Mexico City  19.4424  -99.1310         Mexico   MX  MEX   \n",
       "3       Mumbai       Mumbai  19.0170   72.8570          India   IN  IND   \n",
       "4    São Paulo    Sao Paulo -23.5587  -46.6250         Brazil   BR  BRA   \n",
       "\n",
       "         admin_name  capital  population          id  \n",
       "0             Tōkyō  primary  35676000.0  1392685764  \n",
       "1          New York      NaN  19354922.0  1840034016  \n",
       "2  Ciudad de México  primary  19028000.0  1484247881  \n",
       "3       Mahārāshtra    admin  18978000.0  1356226629  \n",
       "4         São Paulo    admin  18845000.0  1076532519  "
      ]
     },
     "execution_count": 23,
     "metadata": {},
     "output_type": "execute_result"
    }
   ],
   "source": [
    "# How many entries for Brazil\n",
    "data.head()"
   ]
  },
  {
   "cell_type": "code",
   "execution_count": 24,
   "metadata": {},
   "outputs": [
    {
     "data": {
      "text/plain": [
       "city          387\n",
       "city_ascii    387\n",
       "lat           387\n",
       "lng           387\n",
       "country       387\n",
       "iso2          387\n",
       "iso3          387\n",
       "admin_name    387\n",
       "capital        27\n",
       "population    387\n",
       "id            387\n",
       "dtype: int64"
      ]
     },
     "execution_count": 24,
     "metadata": {},
     "output_type": "execute_result"
    }
   ],
   "source": [
    "data.loc[data.country == 'Brazil'].count()"
   ]
  },
  {
   "cell_type": "code",
   "execution_count": 25,
   "metadata": {},
   "outputs": [
    {
     "data": {
      "text/html": [
       "<div>\n",
       "<style scoped>\n",
       "    .dataframe tbody tr th:only-of-type {\n",
       "        vertical-align: middle;\n",
       "    }\n",
       "\n",
       "    .dataframe tbody tr th {\n",
       "        vertical-align: top;\n",
       "    }\n",
       "\n",
       "    .dataframe thead th {\n",
       "        text-align: right;\n",
       "    }\n",
       "</style>\n",
       "<table border=\"1\" class=\"dataframe\">\n",
       "  <thead>\n",
       "    <tr style=\"text-align: right;\">\n",
       "      <th></th>\n",
       "      <th>city</th>\n",
       "      <th>city_ascii</th>\n",
       "      <th>lat</th>\n",
       "      <th>lng</th>\n",
       "      <th>country</th>\n",
       "      <th>iso2</th>\n",
       "      <th>iso3</th>\n",
       "      <th>admin_name</th>\n",
       "      <th>capital</th>\n",
       "      <th>population</th>\n",
       "      <th>id</th>\n",
       "    </tr>\n",
       "  </thead>\n",
       "  <tbody>\n",
       "    <tr>\n",
       "      <td>4</td>\n",
       "      <td>São Paulo</td>\n",
       "      <td>Sao Paulo</td>\n",
       "      <td>-23.5587</td>\n",
       "      <td>-46.6250</td>\n",
       "      <td>Brazil</td>\n",
       "      <td>BR</td>\n",
       "      <td>BRA</td>\n",
       "      <td>São Paulo</td>\n",
       "      <td>admin</td>\n",
       "      <td>18845000.0</td>\n",
       "      <td>1076532519</td>\n",
       "    </tr>\n",
       "    <tr>\n",
       "      <td>13</td>\n",
       "      <td>Rio de Janeiro</td>\n",
       "      <td>Rio de Janeiro</td>\n",
       "      <td>-22.9250</td>\n",
       "      <td>-43.2250</td>\n",
       "      <td>Brazil</td>\n",
       "      <td>BR</td>\n",
       "      <td>BRA</td>\n",
       "      <td>Rio de Janeiro</td>\n",
       "      <td>admin</td>\n",
       "      <td>11748000.0</td>\n",
       "      <td>1076887657</td>\n",
       "    </tr>\n",
       "    <tr>\n",
       "      <td>45</td>\n",
       "      <td>Belo Horizonte</td>\n",
       "      <td>Belo Horizonte</td>\n",
       "      <td>-19.9150</td>\n",
       "      <td>-43.9150</td>\n",
       "      <td>Brazil</td>\n",
       "      <td>BR</td>\n",
       "      <td>BRA</td>\n",
       "      <td>Minas Gerais</td>\n",
       "      <td>admin</td>\n",
       "      <td>5575000.0</td>\n",
       "      <td>1076967355</td>\n",
       "    </tr>\n",
       "    <tr>\n",
       "      <td>75</td>\n",
       "      <td>Porto Alegre</td>\n",
       "      <td>Porto Alegre</td>\n",
       "      <td>-30.0500</td>\n",
       "      <td>-51.2000</td>\n",
       "      <td>Brazil</td>\n",
       "      <td>BR</td>\n",
       "      <td>BRA</td>\n",
       "      <td>Rio Grande do Sul</td>\n",
       "      <td>admin</td>\n",
       "      <td>3917000.0</td>\n",
       "      <td>1076658221</td>\n",
       "    </tr>\n",
       "    <tr>\n",
       "      <td>79</td>\n",
       "      <td>Brasília</td>\n",
       "      <td>Brasilia</td>\n",
       "      <td>-15.7833</td>\n",
       "      <td>-47.9161</td>\n",
       "      <td>Brazil</td>\n",
       "      <td>BR</td>\n",
       "      <td>BRA</td>\n",
       "      <td>Distrito Federal</td>\n",
       "      <td>primary</td>\n",
       "      <td>3716996.0</td>\n",
       "      <td>1076144436</td>\n",
       "    </tr>\n",
       "  </tbody>\n",
       "</table>\n",
       "</div>"
      ],
      "text/plain": [
       "              city      city_ascii      lat      lng country iso2 iso3  \\\n",
       "4        São Paulo       Sao Paulo -23.5587 -46.6250  Brazil   BR  BRA   \n",
       "13  Rio de Janeiro  Rio de Janeiro -22.9250 -43.2250  Brazil   BR  BRA   \n",
       "45  Belo Horizonte  Belo Horizonte -19.9150 -43.9150  Brazil   BR  BRA   \n",
       "75    Porto Alegre    Porto Alegre -30.0500 -51.2000  Brazil   BR  BRA   \n",
       "79        Brasília        Brasilia -15.7833 -47.9161  Brazil   BR  BRA   \n",
       "\n",
       "           admin_name  capital  population          id  \n",
       "4           São Paulo    admin  18845000.0  1076532519  \n",
       "13     Rio de Janeiro    admin  11748000.0  1076887657  \n",
       "45       Minas Gerais    admin   5575000.0  1076967355  \n",
       "75  Rio Grande do Sul    admin   3917000.0  1076658221  \n",
       "79   Distrito Federal  primary   3716996.0  1076144436  "
      ]
     },
     "execution_count": 25,
     "metadata": {},
     "output_type": "execute_result"
    }
   ],
   "source": [
    "brazil = data[data.country.isin(['Brazil'])]\n",
    "brazil.head()"
   ]
  },
  {
   "cell_type": "code",
   "execution_count": 26,
   "metadata": {},
   "outputs": [
    {
     "data": {
      "image/png": "[encoded data removed]",
      "text/plain": [
       "<Figure size 432x288 with 1 Axes>"
      ]
     },
     "metadata": {
      "needs_background": "light"
     },
     "output_type": "display_data"
    }
   ],
   "source": [
    "# Find clusters in Brazil\n",
    "brazil2 = brazil[['lat', 'lng']]\n",
    "\n",
    "kmeans = KMeans(n_clusters = 70)\n",
    "kmeans.fit(brazil2)\n",
    "y_means = kmeans.predict(brazil2)\n",
    "plt.scatter(brazil['lat'], brazil['lng'], c=y_means, s=20, cmap='viridis')\n",
    "centers = kmeans.cluster_centers_\n",
    "plt.scatter(centers[:,0], centers[:,1], c='black', s=200, alpha=0.5)\n",
    "plt.xlabel('lbm')\n",
    "plt.ylabel('pcBfat')\n",
    "plt.show()"
   ]
  },
  {
   "cell_type": "code",
   "execution_count": 28,
   "metadata": {},
   "outputs": [],
   "source": [
    "# Plot on map\n",
    "\n",
    "fig = go.Figure(data = go.Scattergeo(\n",
    "    lon = brazil['lng'],\n",
    "    lat = brazil['lat'],\n",
    "    mode = 'markers',\n",
    "    marker = dict(\n",
    "        size = 11,\n",
    "        opacity = 0.8,\n",
    "        reversescale = True,\n",
    "        autocolorscale = True,\n",
    "        symbol = 'circle',\n",
    "        line = dict(\n",
    "            width = 1,\n",
    "            color = ['rgba(102, 102, 102)']\n",
    "        ),\n",
    "        cmin = 0,\n",
    "        color = y_means,\n",
    "        colorbar_title = \"City Clusters\"\n",
    "    )\n",
    "))\n",
    "\n",
    "fig.add_trace(go.Scattergeo(\n",
    "    lon = centers[:,1],\n",
    "    lat = centers[:,0],\n",
    "    mode = 'markers',\n",
    "    marker = dict(\n",
    "        size = 16,\n",
    "        line = dict(\n",
    "            width = 2,\n",
    "            color = 'black'\n",
    "        ),\n",
    "        cmin = 0,\n",
    "        color = 'orange',\n",
    "        colorbar_title = \"City Clusters\"\n",
    "    )\n",
    "))\n",
    "\n",
    "fig.update_layout(\n",
    "    title = \"Cities Around the World \",\n",
    "    geo = dict(\n",
    "        scope = \"world\",\n",
    "        showland = True,\n",
    "    )\n",
    ")\n",
    "\n",
    "fig.write_html('first_figure.html', auto_open=True)"
   ]
  },
  {
   "cell_type": "code",
   "execution_count": null,
   "metadata": {},
   "outputs": [],
   "source": []
  }
 ],
 "metadata": {
  "kernelspec": {
   "display_name": "Python 3",
   "language": "python",
   "name": "python3"
  },
  "language_info": {
   "codemirror_mode": {
    "name": "ipython",
    "version": 3
   },
   "file_extension": ".py",
   "mimetype": "text/x-python",
   "name": "python",
   "nbconvert_exporter": "python",
   "pygments_lexer": "ipython3",
   "version": "3.7.4"
  }
 },
 "nbformat": 4,
 "nbformat_minor": 2
}
