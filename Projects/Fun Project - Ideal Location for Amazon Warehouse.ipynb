{
 "cells": [
  {
   "cell_type": "markdown",
   "metadata": {},
   "source": [
    "# If Amazon wanted to dominate the world and build a central warehouse across the world, where it the optimal place to do so?"
   ]
  },
  {
   "cell_type": "code",
   "execution_count": 1,
   "metadata": {},
   "outputs": [],
   "source": [
    "# Import libraries\n",
    "from sklearn import metrics\n",
    "import numpy as np\n",
    "import pandas as pd\n",
    "import seaborn as sns\n",
    "import matplotlib.pyplot as plt\n",
    "from sklearn.cluster import KMeans\n",
    "from scipy.spatial.distance import cdist\n",
    "import folium\n",
    "import datetime as dt\n",
    "import webbrowser"
   ]
  },
  {
   "cell_type": "code",
   "execution_count": 2,
   "metadata": {},
   "outputs": [
    {
     "data": {
      "text/html": [
       "<div>\n",
       "<style scoped>\n",
       "    .dataframe tbody tr th:only-of-type {\n",
       "        vertical-align: middle;\n",
       "    }\n",
       "\n",
       "    .dataframe tbody tr th {\n",
       "        vertical-align: top;\n",
       "    }\n",
       "\n",
       "    .dataframe thead th {\n",
       "        text-align: right;\n",
       "    }\n",
       "</style>\n",
       "<table border=\"1\" class=\"dataframe\">\n",
       "  <thead>\n",
       "    <tr style=\"text-align: right;\">\n",
       "      <th></th>\n",
       "      <th>city</th>\n",
       "      <th>city_ascii</th>\n",
       "      <th>lat</th>\n",
       "      <th>lng</th>\n",
       "      <th>country</th>\n",
       "      <th>iso2</th>\n",
       "      <th>iso3</th>\n",
       "      <th>admin_name</th>\n",
       "      <th>capital</th>\n",
       "      <th>population</th>\n",
       "      <th>id</th>\n",
       "    </tr>\n",
       "  </thead>\n",
       "  <tbody>\n",
       "    <tr>\n",
       "      <td>0</td>\n",
       "      <td>Tokyo</td>\n",
       "      <td>Tokyo</td>\n",
       "      <td>35.6850</td>\n",
       "      <td>139.7514</td>\n",
       "      <td>Japan</td>\n",
       "      <td>JP</td>\n",
       "      <td>JPN</td>\n",
       "      <td>Tōkyō</td>\n",
       "      <td>primary</td>\n",
       "      <td>35676000.0</td>\n",
       "      <td>1392685764</td>\n",
       "    </tr>\n",
       "    <tr>\n",
       "      <td>1</td>\n",
       "      <td>New York</td>\n",
       "      <td>New York</td>\n",
       "      <td>40.6943</td>\n",
       "      <td>-73.9249</td>\n",
       "      <td>United States</td>\n",
       "      <td>US</td>\n",
       "      <td>USA</td>\n",
       "      <td>New York</td>\n",
       "      <td>NaN</td>\n",
       "      <td>19354922.0</td>\n",
       "      <td>1840034016</td>\n",
       "    </tr>\n",
       "    <tr>\n",
       "      <td>2</td>\n",
       "      <td>Mexico City</td>\n",
       "      <td>Mexico City</td>\n",
       "      <td>19.4424</td>\n",
       "      <td>-99.1310</td>\n",
       "      <td>Mexico</td>\n",
       "      <td>MX</td>\n",
       "      <td>MEX</td>\n",
       "      <td>Ciudad de México</td>\n",
       "      <td>primary</td>\n",
       "      <td>19028000.0</td>\n",
       "      <td>1484247881</td>\n",
       "    </tr>\n",
       "    <tr>\n",
       "      <td>3</td>\n",
       "      <td>Mumbai</td>\n",
       "      <td>Mumbai</td>\n",
       "      <td>19.0170</td>\n",
       "      <td>72.8570</td>\n",
       "      <td>India</td>\n",
       "      <td>IN</td>\n",
       "      <td>IND</td>\n",
       "      <td>Mahārāshtra</td>\n",
       "      <td>admin</td>\n",
       "      <td>18978000.0</td>\n",
       "      <td>1356226629</td>\n",
       "    </tr>\n",
       "    <tr>\n",
       "      <td>4</td>\n",
       "      <td>São Paulo</td>\n",
       "      <td>Sao Paulo</td>\n",
       "      <td>-23.5587</td>\n",
       "      <td>-46.6250</td>\n",
       "      <td>Brazil</td>\n",
       "      <td>BR</td>\n",
       "      <td>BRA</td>\n",
       "      <td>São Paulo</td>\n",
       "      <td>admin</td>\n",
       "      <td>18845000.0</td>\n",
       "      <td>1076532519</td>\n",
       "    </tr>\n",
       "  </tbody>\n",
       "</table>\n",
       "</div>"
      ],
      "text/plain": [
       "          city   city_ascii      lat       lng        country iso2 iso3  \\\n",
       "0        Tokyo        Tokyo  35.6850  139.7514          Japan   JP  JPN   \n",
       "1     New York     New York  40.6943  -73.9249  United States   US  USA   \n",
       "2  Mexico City  Mexico City  19.4424  -99.1310         Mexico   MX  MEX   \n",
       "3       Mumbai       Mumbai  19.0170   72.8570          India   IN  IND   \n",
       "4    São Paulo    Sao Paulo -23.5587  -46.6250         Brazil   BR  BRA   \n",
       "\n",
       "         admin_name  capital  population          id  \n",
       "0             Tōkyō  primary  35676000.0  1392685764  \n",
       "1          New York      NaN  19354922.0  1840034016  \n",
       "2  Ciudad de México  primary  19028000.0  1484247881  \n",
       "3       Mahārāshtra    admin  18978000.0  1356226629  \n",
       "4         São Paulo    admin  18845000.0  1076532519  "
      ]
     },
     "execution_count": 2,
     "metadata": {},
     "output_type": "execute_result"
    }
   ],
   "source": [
    "# Explore the data\n",
    "data = pd.read_csv('../Data/worldcities.csv')\n",
    "data.head()"
   ]
  },
  {
   "cell_type": "code",
   "execution_count": 3,
   "metadata": {},
   "outputs": [
    {
     "name": "stdout",
     "output_type": "stream",
     "text": [
      "(15493, 11)\n",
      "                lat           lng    population            id\n",
      "count  15493.000000  15493.000000  1.380800e+04  1.549300e+04\n",
      "mean      29.633315    -29.834189  1.812480e+05  1.623208e+09\n",
      "std       22.414727     76.340457  7.947989e+05  2.826451e+08\n",
      "min      -54.933300   -179.590000  0.000000e+00  1.004003e+09\n",
      "25%       22.305000    -86.324200  9.167500e+03  1.404601e+09\n",
      "50%       37.756200    -71.916700  2.349650e+04  1.826644e+09\n",
      "75%       42.444200     25.582100  9.030625e+04  1.840015e+09\n",
      "max       82.483300    179.383300  3.567600e+07  1.934000e+09\n",
      "<bound method DataFrame.info of               city   city_ascii      lat       lng        country iso2 iso3  \\\n",
      "0            Tokyo        Tokyo  35.6850  139.7514          Japan   JP  JPN   \n",
      "1         New York     New York  40.6943  -73.9249  United States   US  USA   \n",
      "2      Mexico City  Mexico City  19.4424  -99.1310         Mexico   MX  MEX   \n",
      "3           Mumbai       Mumbai  19.0170   72.8570          India   IN  IND   \n",
      "4        São Paulo    Sao Paulo -23.5587  -46.6250         Brazil   BR  BRA   \n",
      "...            ...          ...      ...       ...            ...  ...  ...   \n",
      "15488  Timmiarmiut  Timmiarmiut  62.5333  -42.2167      Greenland   GL  GRL   \n",
      "15489  Cheremoshna  Cheremoshna  51.3894   30.0989        Ukraine   UA  UKR   \n",
      "15490    Ambarchik    Ambarchik  69.6510  162.3336         Russia   RU  RUS   \n",
      "15491      Nordvik      Nordvik  74.0165  111.5100         Russia   RU  RUS   \n",
      "15492      Ennadai      Ennadai  61.1333 -100.8833         Canada   CA  CAN   \n",
      "\n",
      "               admin_name  capital  population          id  \n",
      "0                   Tōkyō  primary  35676000.0  1392685764  \n",
      "1                New York      NaN  19354922.0  1840034016  \n",
      "2        Ciudad de México  primary  19028000.0  1484247881  \n",
      "3             Mahārāshtra    admin  18978000.0  1356226629  \n",
      "4               São Paulo    admin  18845000.0  1076532519  \n",
      "...                   ...      ...         ...         ...  \n",
      "15488            Kujalleq      NaN        10.0  1304206491  \n",
      "15489   Kyyivs’ka Oblast’      NaN         0.0  1804043438  \n",
      "15490    Sakha (Yakutiya)      NaN         0.0  1643739159  \n",
      "15491  Krasnoyarskiy Kray      NaN         0.0  1643587468  \n",
      "15492             Nunavut      NaN         0.0  1124019423  \n",
      "\n",
      "[15493 rows x 11 columns]>\n"
     ]
    }
   ],
   "source": [
    "print(data.shape)\n",
    "print(data.describe())\n",
    "print(data.info)"
   ]
  },
  {
   "cell_type": "code",
   "execution_count": 4,
   "metadata": {},
   "outputs": [
    {
     "name": "stdout",
     "output_type": "stream",
     "text": [
      "city              0\n",
      "city_ascii        0\n",
      "lat               0\n",
      "lng               0\n",
      "country           0\n",
      "iso2             31\n",
      "iso3              0\n",
      "admin_name      191\n",
      "capital       10247\n",
      "population     1685\n",
      "id                0\n",
      "dtype: int64\n"
     ]
    }
   ],
   "source": [
    "print(data.isnull().sum())"
   ]
  },
  {
   "cell_type": "code",
   "execution_count": 5,
   "metadata": {},
   "outputs": [],
   "source": [
    "data['population'].fillna((data['population'].mean()), inplace=True)"
   ]
  },
  {
   "cell_type": "code",
   "execution_count": 6,
   "metadata": {},
   "outputs": [
    {
     "name": "stdout",
     "output_type": "stream",
     "text": [
      "city              0\n",
      "city_ascii        0\n",
      "lat               0\n",
      "lng               0\n",
      "country           0\n",
      "iso2             31\n",
      "iso3              0\n",
      "admin_name      191\n",
      "capital       10247\n",
      "population        0\n",
      "id                0\n",
      "dtype: int64\n"
     ]
    }
   ],
   "source": [
    "print(data.isnull().sum())"
   ]
  },
  {
   "cell_type": "code",
   "execution_count": 7,
   "metadata": {},
   "outputs": [
    {
     "name": "stdout",
     "output_type": "stream",
     "text": [
      "city           object\n",
      "city_ascii     object\n",
      "lat           float64\n",
      "lng           float64\n",
      "country        object\n",
      "iso2           object\n",
      "iso3           object\n",
      "admin_name     object\n",
      "capital        object\n",
      "population    float64\n",
      "id              int64\n",
      "dtype: object\n"
     ]
    }
   ],
   "source": [
    "print(data.dtypes)"
   ]
  },
  {
   "cell_type": "code",
   "execution_count": 8,
   "metadata": {},
   "outputs": [
    {
     "data": {
      "text/plain": [
       "<matplotlib.collections.PathCollection at 0x1a1b6caa90>"
      ]
     },
     "execution_count": 8,
     "metadata": {},
     "output_type": "execute_result"
    },
    {
     "data": {
      "image/png": "[encoded data removed]",
      "text/plain": [
       "<Figure size 432x288 with 1 Axes>"
      ]
     },
     "metadata": {
      "needs_background": "light"
     },
     "output_type": "display_data"
    }
   ],
   "source": [
    "# Plot\n",
    "plt.scatter(data['lat'], data['lng'], s= 20)"
   ]
  },
  {
   "cell_type": "code",
   "execution_count": 9,
   "metadata": {},
   "outputs": [
    {
     "name": "stdout",
     "output_type": "stream",
     "text": [
      "           lat       lng\n",
      "0      35.6850  139.7514\n",
      "1      40.6943  -73.9249\n",
      "2      19.4424  -99.1310\n",
      "3      19.0170   72.8570\n",
      "4     -23.5587  -46.6250\n",
      "...        ...       ...\n",
      "15488  62.5333  -42.2167\n",
      "15489  51.3894   30.0989\n",
      "15490  69.6510  162.3336\n",
      "15491  74.0165  111.5100\n",
      "15492  61.1333 -100.8833\n",
      "\n",
      "[15493 rows x 2 columns]\n"
     ]
    }
   ],
   "source": [
    "df = pd.DataFrame(data, columns = ['lat', 'lng'])\n",
    "print(df)"
   ]
  },
  {
   "cell_type": "code",
   "execution_count": null,
   "metadata": {},
   "outputs": [],
   "source": []
  },
  {
   "cell_type": "code",
   "execution_count": 30,
   "metadata": {},
   "outputs": [
    {
     "data": {
      "image/png": "[encoded data removed]",
      "text/plain": [
       "<Figure size 432x288 with 1 Axes>"
      ]
     },
     "metadata": {
      "needs_background": "light"
     },
     "output_type": "display_data"
    }
   ],
   "source": [
    "data2 = data[['lat', 'lng']]\n",
    "\n",
    "kmeans = KMeans(n_clusters = 150)\n",
    "kmeans.fit(data2)\n",
    "y_means = kmeans.predict(data2)\n",
    "plt.scatter(data['lat'], data['lng'], c=y_means, s=20, cmap='viridis')\n",
    "centers = kmeans.cluster_centers_\n",
    "plt.scatter(centers[:,0], centers[:,1], c='black', s=200, alpha=0.5)\n",
    "plt.xlabel('lbm')\n",
    "plt.ylabel('pcBfat')\n",
    "plt.show()"
   ]
  },
  {
   "cell_type": "code",
   "execution_count": 31,
   "metadata": {},
   "outputs": [
    {
     "data": {
      "text/plain": [
       "0        139.7514\n",
       "1        -73.9249\n",
       "2        -99.1310\n",
       "3         72.8570\n",
       "4        -46.6250\n",
       "           ...   \n",
       "15488    -42.2167\n",
       "15489     30.0989\n",
       "15490    162.3336\n",
       "15491    111.5100\n",
       "15492   -100.8833\n",
       "Name: lng, Length: 15493, dtype: float64"
      ]
     },
     "execution_count": 31,
     "metadata": {},
     "output_type": "execute_result"
    }
   ],
   "source": [
    "data['lng']"
   ]
  },
  {
   "cell_type": "code",
   "execution_count": 32,
   "metadata": {},
   "outputs": [],
   "source": [
    "import os\n",
    "os.environ['PROJ_LIB'] = '/Users/allenj/opt/anaconda3/share/proj'"
   ]
  },
  {
   "cell_type": "code",
   "execution_count": 33,
   "metadata": {},
   "outputs": [
    {
     "data": {
      "text/plain": [
       "array([[  38.83291891,  -90.14686975],\n",
       "       [  33.17423012,   70.28882892],\n",
       "       [   7.27156667,   22.17504902],\n",
       "       [ -30.67324286,  -68.43317857],\n",
       "       [  14.98397344,  121.45857031],\n",
       "       [  42.94262093,   21.16629612],\n",
       "       [ -30.76027273,  151.02113939],\n",
       "       [  41.98992345, -112.29785103],\n",
       "       [  40.845004  ,  -74.18791335],\n",
       "       [   5.4055225 ,   41.336495  ],\n",
       "       [  -7.80748684,  -63.93273158],\n",
       "       [  41.65660423,  124.18089859],\n",
       "       [  40.97109718,   -3.50404789],\n",
       "       [  13.71590674,  -13.29351236],\n",
       "       [  27.44925278,  -81.3691078 ],\n",
       "       [  21.13502364, -157.48044364],\n",
       "       [  55.05720405,   59.59930405],\n",
       "       [  25.40549348,   89.3052587 ],\n",
       "       [ -13.42669348,   16.00747826],\n",
       "       [  40.43695395,   45.92630921],\n",
       "       [  50.52196   ,  140.975428  ],\n",
       "       [  29.20881333, -106.02886667],\n",
       "       [   9.46805   ,  -67.58046042],\n",
       "       [ -20.4399    ,  121.05846923],\n",
       "       [ -16.3460907 ,  -51.95477674],\n",
       "       [  38.11674067, -121.55439297],\n",
       "       [  54.37664457,   -5.87120217],\n",
       "       [  46.68290948,   27.97294655],\n",
       "       [ -31.167372  ,   24.77274   ],\n",
       "       [  33.33503063,  -97.2972473 ],\n",
       "       [   4.02661833,  100.87389833],\n",
       "       [  56.33766161,   24.48862321],\n",
       "       [  -3.35226   ,  -48.195488  ],\n",
       "       [  46.58081505,   15.29555799],\n",
       "       [  67.67741538,   93.54111538],\n",
       "       [  62.08843478, -148.55649565],\n",
       "       [ -16.62524737, -170.98201579],\n",
       "       [   5.81930659,    6.8388967 ],\n",
       "       [  19.91006923,   75.33073654],\n",
       "       [ -21.42405882,  144.24321176],\n",
       "       [  41.31998976,  -81.98051195],\n",
       "       [  16.3972871 ,  -89.94796667],\n",
       "       [  22.18232571,  104.87095143],\n",
       "       [  49.18505789,  -60.36039474],\n",
       "       [  29.60212877,   33.07542466],\n",
       "       [ -13.98311364,  168.15849091],\n",
       "       [  34.08551808, -117.74637781],\n",
       "       [  52.30871343,   86.53048358],\n",
       "       [  53.99554583, -112.28442083],\n",
       "       [  39.6161642 , -105.21461591],\n",
       "       [  13.6834037 ,   45.48268333],\n",
       "       [  35.7769528 ,   13.1624664 ],\n",
       "       [  -3.64452239,   37.64170896],\n",
       "       [  66.35396316,  116.14814737],\n",
       "       [ -49.4628913 ,  -69.62944783],\n",
       "       [  33.56102488,  -87.21880922],\n",
       "       [  26.605245  ,  113.27498   ],\n",
       "       [  46.355448  ,    8.686508  ],\n",
       "       [  37.34732075,  138.76424151],\n",
       "       [  32.93133846,   47.78600154],\n",
       "       [   1.16646829,   32.63999512],\n",
       "       [ -40.545542  ,  173.689196  ],\n",
       "       [  35.25947265,  -79.80337837],\n",
       "       [  36.39851935,  115.32656667],\n",
       "       [  55.8877481 ,   38.43123291],\n",
       "       [  42.71553676,  -71.4467547 ],\n",
       "       [  44.88076255,  -93.91774263],\n",
       "       [  -2.158525  ,  -78.99885417],\n",
       "       [  68.68747368,  -50.98144211],\n",
       "       [  46.80139022, -121.89830631],\n",
       "       [ -17.8492027 ,   47.89275405],\n",
       "       [  -6.90504048,  124.79484524],\n",
       "       [  54.20403226,  104.32346774],\n",
       "       [  65.22933571,  168.17475714],\n",
       "       [  11.57021667,   78.81846515],\n",
       "       [ -36.35461571,  142.4582    ],\n",
       "       [  52.76673864,   72.56628864],\n",
       "       [  42.53618612,  -87.82298169],\n",
       "       [ -34.82881928,  -58.46258554],\n",
       "       [  -6.08339118,  147.16135588],\n",
       "       [  19.302944  ,  -75.088898  ],\n",
       "       [ -14.4854717 ,   25.82558113],\n",
       "       [   7.51833966,  -58.42105862],\n",
       "       [  57.89535211,   11.39473944],\n",
       "       [  38.97801552,   61.48665517],\n",
       "       [  52.37817692,  118.71236154],\n",
       "       [  12.75542927,   -0.40631707],\n",
       "       [ -18.59110455,  -42.39460303],\n",
       "       [  25.0805037 ,   54.41497037],\n",
       "       [  37.58513061,   34.79196531],\n",
       "       [  16.79402   ,   98.78068333],\n",
       "       [  -2.70042676,   14.19602676],\n",
       "       [  52.04743242,   -1.3874011 ],\n",
       "       [  66.8117    ,  -75.76762778],\n",
       "       [ -39.08719206,  -70.89068571],\n",
       "       [  15.74303043,  -24.05760435],\n",
       "       [ -10.9893463 ,  -75.80746852],\n",
       "       [  50.49194875,    5.7705425 ],\n",
       "       [  66.85091111,  133.41381667],\n",
       "       [  20.02311628, -100.28837558],\n",
       "       [  61.43732727, -129.02799545],\n",
       "       [ -26.92643061,  -55.85623265],\n",
       "       [  10.27833276,   13.33062586],\n",
       "       [  38.28842234,  -95.42064574],\n",
       "       [ -19.2543902 ,  -66.23643725],\n",
       "       [  33.37969758, -111.50617339],\n",
       "       [ -24.30017857,   16.41850714],\n",
       "       [  66.9005    ,  -19.78549091],\n",
       "       [  14.08481818,   35.01444545],\n",
       "       [  45.15543077,  102.59415   ],\n",
       "       [  13.00688936,  105.71437128],\n",
       "       [ -23.60718851,  -48.75218161],\n",
       "       [  -7.38298286,  -38.53521714],\n",
       "       [  28.16593205,   78.55069615],\n",
       "       [  47.69246984,   39.16355397],\n",
       "       [  66.7316    , -174.10861667],\n",
       "       [  64.97751176,   76.08559412],\n",
       "       [  -5.15159464,  110.97964821],\n",
       "       [  31.26916117,  -91.26275825],\n",
       "       [  33.4917525 ,   -9.615085  ],\n",
       "       [  35.33108039,  129.08342745],\n",
       "       [  46.36450429,  129.38947143],\n",
       "       [  64.08703846,   30.95978462],\n",
       "       [  43.64375153,  -77.6008648 ],\n",
       "       [  28.98320283,  -97.31560425],\n",
       "       [   7.49378784,  123.74698919],\n",
       "       [  33.145     ,  105.17473191],\n",
       "       [  54.0654942 ,   49.50078986],\n",
       "       [  39.09607909,  -77.03063727],\n",
       "       [ -24.51434933,   29.55242933],\n",
       "       [   6.8563    ,   -6.47775753],\n",
       "       [  57.97328667,  -97.07175   ],\n",
       "       [  42.22418596,   73.91838947],\n",
       "       [   3.55870476,   73.23415714],\n",
       "       [  33.99248764,  -83.58554291],\n",
       "       [  64.64931786,   19.06468214],\n",
       "       [  61.59635758,   -6.39542727],\n",
       "       [   9.4891    ,  154.72935   ],\n",
       "       [  27.17507353,  120.03656324],\n",
       "       [ -31.21221034,  117.46662414],\n",
       "       [  -3.78123182,   28.47792614],\n",
       "       [  39.23072962,  -84.95440523],\n",
       "       [  27.98141515,   17.20059091],\n",
       "       [ -14.26029863,   34.85139041],\n",
       "       [  18.23928068,  -66.81226932],\n",
       "       [  60.11112857,  154.4204381 ],\n",
       "       [   6.89781351,  -75.20877568],\n",
       "       [  66.10927895,   59.10188947],\n",
       "       [  11.53948723,  -84.84636383],\n",
       "       [  34.27410556,    2.82362407]])"
      ]
     },
     "execution_count": 33,
     "metadata": {},
     "output_type": "execute_result"
    }
   ],
   "source": [
    "centers"
   ]
  },
  {
   "cell_type": "code",
   "execution_count": 34,
   "metadata": {},
   "outputs": [
    {
     "data": {
      "text/plain": [
       "array([ 38.83291891,  33.17423012,   7.27156667, -30.67324286,\n",
       "        14.98397344,  42.94262093, -30.76027273,  41.98992345,\n",
       "        40.845004  ,   5.4055225 ,  -7.80748684,  41.65660423,\n",
       "        40.97109718,  13.71590674,  27.44925278,  21.13502364,\n",
       "        55.05720405,  25.40549348, -13.42669348,  40.43695395,\n",
       "        50.52196   ,  29.20881333,   9.46805   , -20.4399    ,\n",
       "       -16.3460907 ,  38.11674067,  54.37664457,  46.68290948,\n",
       "       -31.167372  ,  33.33503063,   4.02661833,  56.33766161,\n",
       "        -3.35226   ,  46.58081505,  67.67741538,  62.08843478,\n",
       "       -16.62524737,   5.81930659,  19.91006923, -21.42405882,\n",
       "        41.31998976,  16.3972871 ,  22.18232571,  49.18505789,\n",
       "        29.60212877, -13.98311364,  34.08551808,  52.30871343,\n",
       "        53.99554583,  39.6161642 ,  13.6834037 ,  35.7769528 ,\n",
       "        -3.64452239,  66.35396316, -49.4628913 ,  33.56102488,\n",
       "        26.605245  ,  46.355448  ,  37.34732075,  32.93133846,\n",
       "         1.16646829, -40.545542  ,  35.25947265,  36.39851935,\n",
       "        55.8877481 ,  42.71553676,  44.88076255,  -2.158525  ,\n",
       "        68.68747368,  46.80139022, -17.8492027 ,  -6.90504048,\n",
       "        54.20403226,  65.22933571,  11.57021667, -36.35461571,\n",
       "        52.76673864,  42.53618612, -34.82881928,  -6.08339118,\n",
       "        19.302944  , -14.4854717 ,   7.51833966,  57.89535211,\n",
       "        38.97801552,  52.37817692,  12.75542927, -18.59110455,\n",
       "        25.0805037 ,  37.58513061,  16.79402   ,  -2.70042676,\n",
       "        52.04743242,  66.8117    , -39.08719206,  15.74303043,\n",
       "       -10.9893463 ,  50.49194875,  66.85091111,  20.02311628,\n",
       "        61.43732727, -26.92643061,  10.27833276,  38.28842234,\n",
       "       -19.2543902 ,  33.37969758, -24.30017857,  66.9005    ,\n",
       "        14.08481818,  45.15543077,  13.00688936, -23.60718851,\n",
       "        -7.38298286,  28.16593205,  47.69246984,  66.7316    ,\n",
       "        64.97751176,  -5.15159464,  31.26916117,  33.4917525 ,\n",
       "        35.33108039,  46.36450429,  64.08703846,  43.64375153,\n",
       "        28.98320283,   7.49378784,  33.145     ,  54.0654942 ,\n",
       "        39.09607909, -24.51434933,   6.8563    ,  57.97328667,\n",
       "        42.22418596,   3.55870476,  33.99248764,  64.64931786,\n",
       "        61.59635758,   9.4891    ,  27.17507353, -31.21221034,\n",
       "        -3.78123182,  39.23072962,  27.98141515, -14.26029863,\n",
       "        18.23928068,  60.11112857,   6.89781351,  66.10927895,\n",
       "        11.53948723,  34.27410556])"
      ]
     },
     "execution_count": 34,
     "metadata": {},
     "output_type": "execute_result"
    }
   ],
   "source": [
    "centers[:,0]"
   ]
  },
  {
   "cell_type": "code",
   "execution_count": 35,
   "metadata": {},
   "outputs": [
    {
     "name": "stdout",
     "output_type": "stream",
     "text": [
      "             0\n",
      "0    38.832919\n",
      "1    33.174230\n",
      "2     7.271567\n",
      "3   -30.673243\n",
      "4    14.983973\n",
      "..         ...\n",
      "145  60.111129\n",
      "146   6.897814\n",
      "147  66.109279\n",
      "148  11.539487\n",
      "149  34.274106\n",
      "\n",
      "[150 rows x 1 columns]\n"
     ]
    }
   ],
   "source": [
    "list = pd.DataFrame(centers[:,0])\n",
    "print(list)"
   ]
  },
  {
   "cell_type": "code",
   "execution_count": 36,
   "metadata": {},
   "outputs": [
    {
     "data": {
      "text/plain": [
       "0        139.7514\n",
       "1        -73.9249\n",
       "2        -99.1310\n",
       "3         72.8570\n",
       "4        -46.6250\n",
       "           ...   \n",
       "15488    -42.2167\n",
       "15489     30.0989\n",
       "15490    162.3336\n",
       "15491    111.5100\n",
       "15492   -100.8833\n",
       "Name: lng, Length: 15493, dtype: float64"
      ]
     },
     "execution_count": 36,
     "metadata": {},
     "output_type": "execute_result"
    }
   ],
   "source": [
    "data['lng']"
   ]
  },
  {
   "cell_type": "code",
   "execution_count": 37,
   "metadata": {},
   "outputs": [],
   "source": [
    "import pandas as pd\n",
    "import plotly.graph_objects as go\n",
    "df = data\n",
    "df.head()\n",
    "\n",
    "fig = go.Figure(data = go.Scattergeo(\n",
    "    lon = df['lng'],\n",
    "    lat = df['lat'],\n",
    "    mode = 'markers',\n",
    "    marker = dict(\n",
    "        size = 3,\n",
    "        opacity = 0.8,\n",
    "        reversescale = True,\n",
    "        autocolorscale = True,\n",
    "        symbol = 'circle',\n",
    "        line = dict(\n",
    "            width = 1,\n",
    "            color = ['rgba(102, 102, 102)']\n",
    "        ),\n",
    "        cmin = 0,\n",
    "        color = y_means,\n",
    "        colorbar_title = \"City Clusters\"\n",
    "    )\n",
    "))\n",
    "\n",
    "fig.add_trace(go.Scattergeo(\n",
    "    lon = centers[:,1],\n",
    "    lat = centers[:,0],\n",
    "    mode = 'markers',\n",
    "    marker = dict(\n",
    "        size = 8,\n",
    "        line = dict(\n",
    "            width = 1,\n",
    "            color = 'orange'\n",
    "        ),\n",
    "        color = 'orange',\n",
    "        colorbar_title = \"Centers\"\n",
    "    )\n",
    "))\n",
    "\n",
    "fig.update_layout(\n",
    "    title = \"Cities Around the World \",\n",
    "    geo = dict(\n",
    "        scope = \"world\",\n",
    "        showland = True,\n",
    "    )\n",
    ")\n",
    "\n",
    "fig.write_html('first_figure.html', auto_open=True)"
   ]
  },
  {
   "cell_type": "code",
   "execution_count": 18,
   "metadata": {},
   "outputs": [],
   "source": [
    "from mpl_toolkits.basemap import Basemap"
   ]
  },
  {
   "cell_type": "code",
   "execution_count": 19,
   "metadata": {},
   "outputs": [],
   "source": [
    "import pandas as pd\n",
    "import plotly.graph_objects as go\n",
    "df = data\n",
    "df.head()\n",
    "\n",
    "fig = go.Figure(data = go.Scattergeo(\n",
    "    lon = df[\"lng\"],\n",
    "    lat = df[\"lat\"],\n",
    "    text = df[\"population\"],\n",
    "    mode = \"markers\",\n",
    "    marker = dict(\n",
    "        size = 12,\n",
    "        opacity = 0.8,\n",
    "        reversescale = True,\n",
    "        autocolorscale = True,\n",
    "        symbol = 'square',\n",
    "        line = dict(\n",
    "            width = 1,\n",
    "            color = 'rgba(102, 102, 102)'\n",
    "        ),\n",
    "        cmin = 0,\n",
    "        color = y_means,\n",
    "        colorbar_title = \"COVID 19 Reported Cases\"\n",
    "    )\n",
    "))\n",
    "\n",
    "fig.update_layout(\n",
    "    title = \"COVID19 Confirmed Cases Around the World\",\n",
    "    geo = dict(\n",
    "        scope = \"world\",\n",
    "        showland = True,\n",
    "    )\n",
    ")\n",
    "\n",
    "fig.write_html('first_figure.html', auto_open=True)"
   ]
  },
  {
   "cell_type": "code",
   "execution_count": 20,
   "metadata": {},
   "outputs": [
    {
     "ename": "IndentationError",
     "evalue": "unexpected indent (<ipython-input-20-137d0410f014>, line 4)",
     "output_type": "error",
     "traceback": [
      "\u001b[0;36m  File \u001b[0;32m\"<ipython-input-20-137d0410f014>\"\u001b[0;36m, line \u001b[0;32m4\u001b[0m\n\u001b[0;31m    folium.Marker(\u001b[0m\n\u001b[0m    ^\u001b[0m\n\u001b[0;31mIndentationError\u001b[0m\u001b[0;31m:\u001b[0m unexpected indent\n"
     ]
    }
   ],
   "source": [
    "# Comment this out for now because it's large \n",
    "\n",
    "#for i in range(0,len(data)):\n",
    "#    folium.Marker(\n",
    "#        location=[data.iloc[i]['lat'], data.iloc[i]['lng']],\n",
    "    \n",
    "    ).add_to(base_map)\n",
    "\n",
    "display(base_map)"
   ]
  },
  {
   "cell_type": "code",
   "execution_count": 22,
   "metadata": {},
   "outputs": [
    {
     "ename": "KeyError",
     "evalue": "('lat', 'lng')",
     "output_type": "error",
     "traceback": [
      "\u001b[0;31m---------------------------------------------------------------------------\u001b[0m",
      "\u001b[0;31mKeyError\u001b[0m                                  Traceback (most recent call last)",
      "\u001b[0;32m~/opt/anaconda3/lib/python3.7/site-packages/pandas/core/indexes/base.py\u001b[0m in \u001b[0;36mget_loc\u001b[0;34m(self, key, method, tolerance)\u001b[0m\n\u001b[1;32m   2896\u001b[0m             \u001b[0;32mtry\u001b[0m\u001b[0;34m:\u001b[0m\u001b[0;34m\u001b[0m\u001b[0;34m\u001b[0m\u001b[0m\n\u001b[0;32m-> 2897\u001b[0;31m                 \u001b[0;32mreturn\u001b[0m \u001b[0mself\u001b[0m\u001b[0;34m.\u001b[0m\u001b[0m_engine\u001b[0m\u001b[0;34m.\u001b[0m\u001b[0mget_loc\u001b[0m\u001b[0;34m(\u001b[0m\u001b[0mkey\u001b[0m\u001b[0;34m)\u001b[0m\u001b[0;34m\u001b[0m\u001b[0;34m\u001b[0m\u001b[0m\n\u001b[0m\u001b[1;32m   2898\u001b[0m             \u001b[0;32mexcept\u001b[0m \u001b[0mKeyError\u001b[0m\u001b[0;34m:\u001b[0m\u001b[0;34m\u001b[0m\u001b[0;34m\u001b[0m\u001b[0m\n",
      "\u001b[0;32mpandas/_libs/index.pyx\u001b[0m in \u001b[0;36mpandas._libs.index.IndexEngine.get_loc\u001b[0;34m()\u001b[0m\n",
      "\u001b[0;32mpandas/_libs/index.pyx\u001b[0m in \u001b[0;36mpandas._libs.index.IndexEngine.get_loc\u001b[0;34m()\u001b[0m\n",
      "\u001b[0;32mpandas/_libs/hashtable_class_helper.pxi\u001b[0m in \u001b[0;36mpandas._libs.hashtable.PyObjectHashTable.get_item\u001b[0;34m()\u001b[0m\n",
      "\u001b[0;32mpandas/_libs/hashtable_class_helper.pxi\u001b[0m in \u001b[0;36mpandas._libs.hashtable.PyObjectHashTable.get_item\u001b[0;34m()\u001b[0m\n",
      "\u001b[0;31mKeyError\u001b[0m: ('lat', 'lng')",
      "\nDuring handling of the above exception, another exception occurred:\n",
      "\u001b[0;31mKeyError\u001b[0m                                  Traceback (most recent call last)",
      "\u001b[0;32m<ipython-input-22-22fc2b9d0a2d>\u001b[0m in \u001b[0;36m<module>\u001b[0;34m\u001b[0m\n\u001b[1;32m      3\u001b[0m \u001b[0;34m\u001b[0m\u001b[0m\n\u001b[1;32m      4\u001b[0m \u001b[0;31m# Bild map\u001b[0m\u001b[0;34m\u001b[0m\u001b[0;34m\u001b[0m\u001b[0;34m\u001b[0m\u001b[0m\n\u001b[0;32m----> 5\u001b[0;31m \u001b[0mmap\u001b[0m \u001b[0;34m=\u001b[0m \u001b[0mfolium\u001b[0m\u001b[0;34m.\u001b[0m\u001b[0mMap\u001b[0m\u001b[0;34m(\u001b[0m\u001b[0mlocation\u001b[0m\u001b[0;34m=\u001b[0m\u001b[0mdf\u001b[0m\u001b[0;34m[\u001b[0m\u001b[0;34m'lat'\u001b[0m\u001b[0;34m,\u001b[0m \u001b[0;34m'lng'\u001b[0m\u001b[0;34m]\u001b[0m\u001b[0;34m,\u001b[0m \u001b[0mzoom_start\u001b[0m\u001b[0;34m=\u001b[0m\u001b[0;36m12\u001b[0m\u001b[0;34m)\u001b[0m\u001b[0;34m\u001b[0m\u001b[0;34m\u001b[0m\u001b[0m\n\u001b[0m\u001b[1;32m      6\u001b[0m \u001b[0mmap\u001b[0m\u001b[0;34m\u001b[0m\u001b[0;34m\u001b[0m\u001b[0m\n",
      "\u001b[0;32m~/opt/anaconda3/lib/python3.7/site-packages/pandas/core/frame.py\u001b[0m in \u001b[0;36m__getitem__\u001b[0;34m(self, key)\u001b[0m\n\u001b[1;32m   2978\u001b[0m             \u001b[0;32mif\u001b[0m \u001b[0mself\u001b[0m\u001b[0;34m.\u001b[0m\u001b[0mcolumns\u001b[0m\u001b[0;34m.\u001b[0m\u001b[0mnlevels\u001b[0m \u001b[0;34m>\u001b[0m \u001b[0;36m1\u001b[0m\u001b[0;34m:\u001b[0m\u001b[0;34m\u001b[0m\u001b[0;34m\u001b[0m\u001b[0m\n\u001b[1;32m   2979\u001b[0m                 \u001b[0;32mreturn\u001b[0m \u001b[0mself\u001b[0m\u001b[0;34m.\u001b[0m\u001b[0m_getitem_multilevel\u001b[0m\u001b[0;34m(\u001b[0m\u001b[0mkey\u001b[0m\u001b[0;34m)\u001b[0m\u001b[0;34m\u001b[0m\u001b[0;34m\u001b[0m\u001b[0m\n\u001b[0;32m-> 2980\u001b[0;31m             \u001b[0mindexer\u001b[0m \u001b[0;34m=\u001b[0m \u001b[0mself\u001b[0m\u001b[0;34m.\u001b[0m\u001b[0mcolumns\u001b[0m\u001b[0;34m.\u001b[0m\u001b[0mget_loc\u001b[0m\u001b[0;34m(\u001b[0m\u001b[0mkey\u001b[0m\u001b[0;34m)\u001b[0m\u001b[0;34m\u001b[0m\u001b[0;34m\u001b[0m\u001b[0m\n\u001b[0m\u001b[1;32m   2981\u001b[0m             \u001b[0;32mif\u001b[0m \u001b[0mis_integer\u001b[0m\u001b[0;34m(\u001b[0m\u001b[0mindexer\u001b[0m\u001b[0;34m)\u001b[0m\u001b[0;34m:\u001b[0m\u001b[0;34m\u001b[0m\u001b[0;34m\u001b[0m\u001b[0m\n\u001b[1;32m   2982\u001b[0m                 \u001b[0mindexer\u001b[0m \u001b[0;34m=\u001b[0m \u001b[0;34m[\u001b[0m\u001b[0mindexer\u001b[0m\u001b[0;34m]\u001b[0m\u001b[0;34m\u001b[0m\u001b[0;34m\u001b[0m\u001b[0m\n",
      "\u001b[0;32m~/opt/anaconda3/lib/python3.7/site-packages/pandas/core/indexes/base.py\u001b[0m in \u001b[0;36mget_loc\u001b[0;34m(self, key, method, tolerance)\u001b[0m\n\u001b[1;32m   2897\u001b[0m                 \u001b[0;32mreturn\u001b[0m \u001b[0mself\u001b[0m\u001b[0;34m.\u001b[0m\u001b[0m_engine\u001b[0m\u001b[0;34m.\u001b[0m\u001b[0mget_loc\u001b[0m\u001b[0;34m(\u001b[0m\u001b[0mkey\u001b[0m\u001b[0;34m)\u001b[0m\u001b[0;34m\u001b[0m\u001b[0;34m\u001b[0m\u001b[0m\n\u001b[1;32m   2898\u001b[0m             \u001b[0;32mexcept\u001b[0m \u001b[0mKeyError\u001b[0m\u001b[0;34m:\u001b[0m\u001b[0;34m\u001b[0m\u001b[0;34m\u001b[0m\u001b[0m\n\u001b[0;32m-> 2899\u001b[0;31m                 \u001b[0;32mreturn\u001b[0m \u001b[0mself\u001b[0m\u001b[0;34m.\u001b[0m\u001b[0m_engine\u001b[0m\u001b[0;34m.\u001b[0m\u001b[0mget_loc\u001b[0m\u001b[0;34m(\u001b[0m\u001b[0mself\u001b[0m\u001b[0;34m.\u001b[0m\u001b[0m_maybe_cast_indexer\u001b[0m\u001b[0;34m(\u001b[0m\u001b[0mkey\u001b[0m\u001b[0;34m)\u001b[0m\u001b[0;34m)\u001b[0m\u001b[0;34m\u001b[0m\u001b[0;34m\u001b[0m\u001b[0m\n\u001b[0m\u001b[1;32m   2900\u001b[0m         \u001b[0mindexer\u001b[0m \u001b[0;34m=\u001b[0m \u001b[0mself\u001b[0m\u001b[0;34m.\u001b[0m\u001b[0mget_indexer\u001b[0m\u001b[0;34m(\u001b[0m\u001b[0;34m[\u001b[0m\u001b[0mkey\u001b[0m\u001b[0;34m]\u001b[0m\u001b[0;34m,\u001b[0m \u001b[0mmethod\u001b[0m\u001b[0;34m=\u001b[0m\u001b[0mmethod\u001b[0m\u001b[0;34m,\u001b[0m \u001b[0mtolerance\u001b[0m\u001b[0;34m=\u001b[0m\u001b[0mtolerance\u001b[0m\u001b[0;34m)\u001b[0m\u001b[0;34m\u001b[0m\u001b[0;34m\u001b[0m\u001b[0m\n\u001b[1;32m   2901\u001b[0m         \u001b[0;32mif\u001b[0m \u001b[0mindexer\u001b[0m\u001b[0;34m.\u001b[0m\u001b[0mndim\u001b[0m \u001b[0;34m>\u001b[0m \u001b[0;36m1\u001b[0m \u001b[0;32mor\u001b[0m \u001b[0mindexer\u001b[0m\u001b[0;34m.\u001b[0m\u001b[0msize\u001b[0m \u001b[0;34m>\u001b[0m \u001b[0;36m1\u001b[0m\u001b[0;34m:\u001b[0m\u001b[0;34m\u001b[0m\u001b[0;34m\u001b[0m\u001b[0m\n",
      "\u001b[0;32mpandas/_libs/index.pyx\u001b[0m in \u001b[0;36mpandas._libs.index.IndexEngine.get_loc\u001b[0;34m()\u001b[0m\n",
      "\u001b[0;32mpandas/_libs/index.pyx\u001b[0m in \u001b[0;36mpandas._libs.index.IndexEngine.get_loc\u001b[0;34m()\u001b[0m\n",
      "\u001b[0;32mpandas/_libs/hashtable_class_helper.pxi\u001b[0m in \u001b[0;36mpandas._libs.hashtable.PyObjectHashTable.get_item\u001b[0;34m()\u001b[0m\n",
      "\u001b[0;32mpandas/_libs/hashtable_class_helper.pxi\u001b[0m in \u001b[0;36mpandas._libs.hashtable.PyObjectHashTable.get_item\u001b[0;34m()\u001b[0m\n",
      "\u001b[0;31mKeyError\u001b[0m: ('lat', 'lng')"
     ]
    }
   ],
   "source": [
    "# Plot on world map\n",
    "start = [40.7128, -74.0059]\n",
    "\n",
    "# Bild map\n",
    "map = folium.Map(location=df['lat', 'lng'], zoom_start=12)\n",
    "map"
   ]
  },
  {
   "cell_type": "code",
   "execution_count": 23,
   "metadata": {},
   "outputs": [
    {
     "data": {
      "text/html": [
       "<div>\n",
       "<style scoped>\n",
       "    .dataframe tbody tr th:only-of-type {\n",
       "        vertical-align: middle;\n",
       "    }\n",
       "\n",
       "    .dataframe tbody tr th {\n",
       "        vertical-align: top;\n",
       "    }\n",
       "\n",
       "    .dataframe thead th {\n",
       "        text-align: right;\n",
       "    }\n",
       "</style>\n",
       "<table border=\"1\" class=\"dataframe\">\n",
       "  <thead>\n",
       "    <tr style=\"text-align: right;\">\n",
       "      <th></th>\n",
       "      <th>city</th>\n",
       "      <th>city_ascii</th>\n",
       "      <th>lat</th>\n",
       "      <th>lng</th>\n",
       "      <th>country</th>\n",
       "      <th>iso2</th>\n",
       "      <th>iso3</th>\n",
       "      <th>admin_name</th>\n",
       "      <th>capital</th>\n",
       "      <th>population</th>\n",
       "      <th>id</th>\n",
       "    </tr>\n",
       "  </thead>\n",
       "  <tbody>\n",
       "    <tr>\n",
       "      <td>0</td>\n",
       "      <td>Tokyo</td>\n",
       "      <td>Tokyo</td>\n",
       "      <td>35.6850</td>\n",
       "      <td>139.7514</td>\n",
       "      <td>Japan</td>\n",
       "      <td>JP</td>\n",
       "      <td>JPN</td>\n",
       "      <td>Tōkyō</td>\n",
       "      <td>primary</td>\n",
       "      <td>35676000.0</td>\n",
       "      <td>1392685764</td>\n",
       "    </tr>\n",
       "    <tr>\n",
       "      <td>1</td>\n",
       "      <td>New York</td>\n",
       "      <td>New York</td>\n",
       "      <td>40.6943</td>\n",
       "      <td>-73.9249</td>\n",
       "      <td>United States</td>\n",
       "      <td>US</td>\n",
       "      <td>USA</td>\n",
       "      <td>New York</td>\n",
       "      <td>NaN</td>\n",
       "      <td>19354922.0</td>\n",
       "      <td>1840034016</td>\n",
       "    </tr>\n",
       "    <tr>\n",
       "      <td>2</td>\n",
       "      <td>Mexico City</td>\n",
       "      <td>Mexico City</td>\n",
       "      <td>19.4424</td>\n",
       "      <td>-99.1310</td>\n",
       "      <td>Mexico</td>\n",
       "      <td>MX</td>\n",
       "      <td>MEX</td>\n",
       "      <td>Ciudad de México</td>\n",
       "      <td>primary</td>\n",
       "      <td>19028000.0</td>\n",
       "      <td>1484247881</td>\n",
       "    </tr>\n",
       "    <tr>\n",
       "      <td>3</td>\n",
       "      <td>Mumbai</td>\n",
       "      <td>Mumbai</td>\n",
       "      <td>19.0170</td>\n",
       "      <td>72.8570</td>\n",
       "      <td>India</td>\n",
       "      <td>IN</td>\n",
       "      <td>IND</td>\n",
       "      <td>Mahārāshtra</td>\n",
       "      <td>admin</td>\n",
       "      <td>18978000.0</td>\n",
       "      <td>1356226629</td>\n",
       "    </tr>\n",
       "    <tr>\n",
       "      <td>4</td>\n",
       "      <td>São Paulo</td>\n",
       "      <td>Sao Paulo</td>\n",
       "      <td>-23.5587</td>\n",
       "      <td>-46.6250</td>\n",
       "      <td>Brazil</td>\n",
       "      <td>BR</td>\n",
       "      <td>BRA</td>\n",
       "      <td>São Paulo</td>\n",
       "      <td>admin</td>\n",
       "      <td>18845000.0</td>\n",
       "      <td>1076532519</td>\n",
       "    </tr>\n",
       "  </tbody>\n",
       "</table>\n",
       "</div>"
      ],
      "text/plain": [
       "          city   city_ascii      lat       lng        country iso2 iso3  \\\n",
       "0        Tokyo        Tokyo  35.6850  139.7514          Japan   JP  JPN   \n",
       "1     New York     New York  40.6943  -73.9249  United States   US  USA   \n",
       "2  Mexico City  Mexico City  19.4424  -99.1310         Mexico   MX  MEX   \n",
       "3       Mumbai       Mumbai  19.0170   72.8570          India   IN  IND   \n",
       "4    São Paulo    Sao Paulo -23.5587  -46.6250         Brazil   BR  BRA   \n",
       "\n",
       "         admin_name  capital  population          id  \n",
       "0             Tōkyō  primary  35676000.0  1392685764  \n",
       "1          New York      NaN  19354922.0  1840034016  \n",
       "2  Ciudad de México  primary  19028000.0  1484247881  \n",
       "3       Mahārāshtra    admin  18978000.0  1356226629  \n",
       "4         São Paulo    admin  18845000.0  1076532519  "
      ]
     },
     "execution_count": 23,
     "metadata": {},
     "output_type": "execute_result"
    }
   ],
   "source": [
    "# How many entries for Brazil\n",
    "data.head()"
   ]
  },
  {
   "cell_type": "code",
   "execution_count": 24,
   "metadata": {},
   "outputs": [
    {
     "data": {
      "text/plain": [
       "city          387\n",
       "city_ascii    387\n",
       "lat           387\n",
       "lng           387\n",
       "country       387\n",
       "iso2          387\n",
       "iso3          387\n",
       "admin_name    387\n",
       "capital        27\n",
       "population    387\n",
       "id            387\n",
       "dtype: int64"
      ]
     },
     "execution_count": 24,
     "metadata": {},
     "output_type": "execute_result"
    }
   ],
   "source": [
    "data.loc[data.country == 'Brazil'].count()"
   ]
  },
  {
   "cell_type": "code",
   "execution_count": 25,
   "metadata": {},
   "outputs": [
    {
     "data": {
      "text/html": [
       "<div>\n",
       "<style scoped>\n",
       "    .dataframe tbody tr th:only-of-type {\n",
       "        vertical-align: middle;\n",
       "    }\n",
       "\n",
       "    .dataframe tbody tr th {\n",
       "        vertical-align: top;\n",
       "    }\n",
       "\n",
       "    .dataframe thead th {\n",
       "        text-align: right;\n",
       "    }\n",
       "</style>\n",
       "<table border=\"1\" class=\"dataframe\">\n",
       "  <thead>\n",
       "    <tr style=\"text-align: right;\">\n",
       "      <th></th>\n",
       "      <th>city</th>\n",
       "      <th>city_ascii</th>\n",
       "      <th>lat</th>\n",
       "      <th>lng</th>\n",
       "      <th>country</th>\n",
       "      <th>iso2</th>\n",
       "      <th>iso3</th>\n",
       "      <th>admin_name</th>\n",
       "      <th>capital</th>\n",
       "      <th>population</th>\n",
       "      <th>id</th>\n",
       "    </tr>\n",
       "  </thead>\n",
       "  <tbody>\n",
       "    <tr>\n",
       "      <td>4</td>\n",
       "      <td>São Paulo</td>\n",
       "      <td>Sao Paulo</td>\n",
       "      <td>-23.5587</td>\n",
       "      <td>-46.6250</td>\n",
       "      <td>Brazil</td>\n",
       "      <td>BR</td>\n",
       "      <td>BRA</td>\n",
       "      <td>São Paulo</td>\n",
       "      <td>admin</td>\n",
       "      <td>18845000.0</td>\n",
       "      <td>1076532519</td>\n",
       "    </tr>\n",
       "    <tr>\n",
       "      <td>13</td>\n",
       "      <td>Rio de Janeiro</td>\n",
       "      <td>Rio de Janeiro</td>\n",
       "      <td>-22.9250</td>\n",
       "      <td>-43.2250</td>\n",
       "      <td>Brazil</td>\n",
       "      <td>BR</td>\n",
       "      <td>BRA</td>\n",
       "      <td>Rio de Janeiro</td>\n",
       "      <td>admin</td>\n",
       "      <td>11748000.0</td>\n",
       "      <td>1076887657</td>\n",
       "    </tr>\n",
       "    <tr>\n",
       "      <td>45</td>\n",
       "      <td>Belo Horizonte</td>\n",
       "      <td>Belo Horizonte</td>\n",
       "      <td>-19.9150</td>\n",
       "      <td>-43.9150</td>\n",
       "      <td>Brazil</td>\n",
       "      <td>BR</td>\n",
       "      <td>BRA</td>\n",
       "      <td>Minas Gerais</td>\n",
       "      <td>admin</td>\n",
       "      <td>5575000.0</td>\n",
       "      <td>1076967355</td>\n",
       "    </tr>\n",
       "    <tr>\n",
       "      <td>75</td>\n",
       "      <td>Porto Alegre</td>\n",
       "      <td>Porto Alegre</td>\n",
       "      <td>-30.0500</td>\n",
       "      <td>-51.2000</td>\n",
       "      <td>Brazil</td>\n",
       "      <td>BR</td>\n",
       "      <td>BRA</td>\n",
       "      <td>Rio Grande do Sul</td>\n",
       "      <td>admin</td>\n",
       "      <td>3917000.0</td>\n",
       "      <td>1076658221</td>\n",
       "    </tr>\n",
       "    <tr>\n",
       "      <td>79</td>\n",
       "      <td>Brasília</td>\n",
       "      <td>Brasilia</td>\n",
       "      <td>-15.7833</td>\n",
       "      <td>-47.9161</td>\n",
       "      <td>Brazil</td>\n",
       "      <td>BR</td>\n",
       "      <td>BRA</td>\n",
       "      <td>Distrito Federal</td>\n",
       "      <td>primary</td>\n",
       "      <td>3716996.0</td>\n",
       "      <td>1076144436</td>\n",
       "    </tr>\n",
       "  </tbody>\n",
       "</table>\n",
       "</div>"
      ],
      "text/plain": [
       "              city      city_ascii      lat      lng country iso2 iso3  \\\n",
       "4        São Paulo       Sao Paulo -23.5587 -46.6250  Brazil   BR  BRA   \n",
       "13  Rio de Janeiro  Rio de Janeiro -22.9250 -43.2250  Brazil   BR  BRA   \n",
       "45  Belo Horizonte  Belo Horizonte -19.9150 -43.9150  Brazil   BR  BRA   \n",
       "75    Porto Alegre    Porto Alegre -30.0500 -51.2000  Brazil   BR  BRA   \n",
       "79        Brasília        Brasilia -15.7833 -47.9161  Brazil   BR  BRA   \n",
       "\n",
       "           admin_name  capital  population          id  \n",
       "4           São Paulo    admin  18845000.0  1076532519  \n",
       "13     Rio de Janeiro    admin  11748000.0  1076887657  \n",
       "45       Minas Gerais    admin   5575000.0  1076967355  \n",
       "75  Rio Grande do Sul    admin   3917000.0  1076658221  \n",
       "79   Distrito Federal  primary   3716996.0  1076144436  "
      ]
     },
     "execution_count": 25,
     "metadata": {},
     "output_type": "execute_result"
    }
   ],
   "source": [
    "brazil = data[data.country.isin(['Brazil'])]\n",
    "brazil.head()"
   ]
  },
  {
   "cell_type": "code",
   "execution_count": 28,
   "metadata": {},
   "outputs": [
    {
     "data": {
      "image/png": "[encoded data removed]",
      "text/plain": [
       "<Figure size 432x288 with 1 Axes>"
      ]
     },
     "metadata": {
      "needs_background": "light"
     },
     "output_type": "display_data"
    }
   ],
   "source": [
    "# Find clusters in Brazil\n",
    "brazil2 = brazil[['lat', 'lng']]\n",
    "\n",
    "kmeans = KMeans(n_clusters = 10)\n",
    "kmeans.fit(brazil2)\n",
    "y_means = kmeans.predict(brazil2)\n",
    "plt.scatter(brazil['lat'], brazil['lng'], c=y_means, s=20, cmap='viridis')\n",
    "centers = kmeans.cluster_centers_\n",
    "plt.scatter(centers[:,0], centers[:,1], c='black', s=200, alpha=0.5)\n",
    "plt.xlabel('lbm')\n",
    "plt.ylabel('pcBfat')\n",
    "plt.show()"
   ]
  },
  {
   "cell_type": "code",
   "execution_count": 29,
   "metadata": {},
   "outputs": [],
   "source": [
    "# Plot on map\n",
    "\n",
    "fig = go.Figure(data = go.Scattergeo(\n",
    "    lon = brazil['lng'],\n",
    "    lat = brazil['lat'],\n",
    "    mode = 'markers',\n",
    "    marker = dict(\n",
    "        size = 11,\n",
    "        opacity = 0.8,\n",
    "        reversescale = True,\n",
    "        autocolorscale = True,\n",
    "        symbol = 'circle',\n",
    "        line = dict(\n",
    "            width = 1,\n",
    "            color = ['rgba(102, 102, 102)']\n",
    "        ),\n",
    "        cmin = 0,\n",
    "        color = y_means,\n",
    "        colorbar_title = \"City Clusters\"\n",
    "    )\n",
    "))\n",
    "\n",
    "fig.add_trace(go.Scattergeo(\n",
    "    lon = centers[:,1],\n",
    "    lat = centers[:,0],\n",
    "    mode = 'markers',\n",
    "    marker = dict(\n",
    "        size = 16,\n",
    "        line = dict(\n",
    "            width = 2,\n",
    "            color = 'black'\n",
    "        ),\n",
    "        cmin = 0,\n",
    "        color = 'orange',\n",
    "        colorbar_title = \"City Clusters\"\n",
    "    )\n",
    "))\n",
    "\n",
    "fig.update_layout(\n",
    "    title = \"Cities Around the World \",\n",
    "    geo = dict(\n",
    "        scope = \"world\",\n",
    "        showland = True,\n",
    "    )\n",
    ")\n",
    "\n",
    "fig.write_html('first_figure.html', auto_open=True)"
   ]
  },
  {
   "cell_type": "code",
   "execution_count": null,
   "metadata": {},
   "outputs": [],
   "source": []
  }
 ],
 "metadata": {
  "kernelspec": {
   "display_name": "Python 3",
   "language": "python",
   "name": "python3"
  },
  "language_info": {
   "codemirror_mode": {
    "name": "ipython",
    "version": 3
   },
   "file_extension": ".py",
   "mimetype": "text/x-python",
   "name": "python",
   "nbconvert_exporter": "python",
   "pygments_lexer": "ipython3",
   "version": "3.7.4"
  }
 },
 "nbformat": 4,
 "nbformat_minor": 2
}
