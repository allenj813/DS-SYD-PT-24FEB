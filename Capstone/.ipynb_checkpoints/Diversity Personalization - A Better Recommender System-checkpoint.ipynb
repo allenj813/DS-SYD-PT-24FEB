{
 "cells": [
  {
   "cell_type": "markdown",
   "metadata": {},
   "source": [
    "# Recommender System for Diversity Personalization"
   ]
  },
  {
   "cell_type": "code",
   "execution_count": null,
   "metadata": {},
   "outputs": [],
   "source": [
    "# Import libraries\n",
    "import numpy as np \n",
    "import pandas as pd \n",
    "import seaborn as sns\n",
    "import matplotlib\n",
    "import matplotlib.pyplot as plt\n",
    "import matplotlib.pyplot as plt\n",
    "import os\n",
    "from sklearn.feature_extraction.text import TfidfVectorizer\n",
    "from sklearn.metrics.pairwise import linear_kernel"
   ]
  },
  {
   "cell_type": "markdown",
   "metadata": {},
   "source": [
    "### Data analysis"
   ]
  },
  {
   "cell_type": "code",
   "execution_count": null,
   "metadata": {},
   "outputs": [],
   "source": [
    "# Load book data from csv\n",
    "books = pd.read_csv('../data/books.csv')\n",
    "books"
   ]
  },
  {
   "cell_type": "code",
   "execution_count": null,
   "metadata": {},
   "outputs": [],
   "source": [
    "books.columns"
   ]
  },
  {
   "cell_type": "code",
   "execution_count": null,
   "metadata": {},
   "outputs": [],
   "source": [
    "# books = books.drop(columns=['isbn', 'isbn13', 'image_url', 'small_image_url'])\n",
    "# books"
   ]
  },
  {
   "cell_type": "code",
   "execution_count": null,
   "metadata": {},
   "outputs": [],
   "source": [
    "# Load ratings data from csv\n",
    "ratings = pd.read_csv('../data/ratings.csv')\n",
    "ratings"
   ]
  },
  {
   "cell_type": "code",
   "execution_count": null,
   "metadata": {},
   "outputs": [],
   "source": [
    "# Load book_tags data from csv\n",
    "book_tags = pd.read_csv('../data/book_tags.csv')\n",
    "book_tags"
   ]
  },
  {
   "cell_type": "code",
   "execution_count": null,
   "metadata": {},
   "outputs": [],
   "source": [
    "# Load tag data from csv\n",
    "tags = pd.read_csv('../data/tags.csv')\n",
    "tags"
   ]
  },
  {
   "cell_type": "code",
   "execution_count": null,
   "metadata": {},
   "outputs": [],
   "source": [
    "# Merge book_tags and tags \n",
    "tags_join = pd.merge(book_tags, tags, left_on='tag_id', right_on='tag_id', how='inner')\n",
    "tags_join"
   ]
  },
  {
   "cell_type": "code",
   "execution_count": null,
   "metadata": {},
   "outputs": [],
   "source": [
    "# Sort by book\n",
    "tags_join.sort_values(by=['goodreads_book_id'])"
   ]
  },
  {
   "cell_type": "code",
   "execution_count": null,
   "metadata": {},
   "outputs": [],
   "source": [
    "# Load to_read data from csv. This shows which book a user has tagged as 'to read'.\n",
    "to_read = pd.read_csv('../data/to_read.csv')\n",
    "to_read"
   ]
  },
  {
   "cell_type": "code",
   "execution_count": null,
   "metadata": {},
   "outputs": [],
   "source": [
    "# Merge tags_join and books\n",
    "books_with_tags = pd.merge(books, tags_join, left_on='book_id', right_on='goodreads_book_id', how='inner')\n",
    "books_with_tags"
   ]
  },
  {
   "cell_type": "code",
   "execution_count": null,
   "metadata": {},
   "outputs": [],
   "source": [
    "# Display non-truncated columns\n",
    "pd.reset_option('display.max_colwidth', -1)"
   ]
  },
  {
   "cell_type": "code",
   "execution_count": null,
   "metadata": {},
   "outputs": [],
   "source": [
    "# Store tags into the same book id row\n",
    "temp_df = books_with_tags.groupby('book_id')['tag_name'].apply(' '.join).reset_index()\n",
    "temp_df.head(5)"
   ]
  },
  {
   "cell_type": "code",
   "execution_count": null,
   "metadata": {},
   "outputs": [],
   "source": [
    "# Merge tag_names back into books\n",
    "books = pd.merge(books, temp_df, left_on='book_id', right_on='book_id', how='inner')"
   ]
  },
  {
   "cell_type": "code",
   "execution_count": null,
   "metadata": {},
   "outputs": [],
   "source": [
    "books"
   ]
  },
  {
   "cell_type": "code",
   "execution_count": null,
   "metadata": {},
   "outputs": [],
   "source": [
    "books.columns"
   ]
  },
  {
   "cell_type": "markdown",
   "metadata": {},
   "source": [
    "### Feature engineering and machine learning algorithm\n",
    "\n",
    "* Use TfidVectorizer to transform text to feature vectors\n",
    "* Use Cosine Similarity to calculate numeric values that denote the similarity between books"
   ]
  },
  {
   "cell_type": "code",
   "execution_count": null,
   "metadata": {},
   "outputs": [],
   "source": [
    "# Use TfidVectorizer to transform text to feature vectors\n",
    "tf = TfidfVectorizer(analyzer='word',ngram_range=(1, 2),min_df=0, stop_words='english')\n",
    "tfidf_matrix = tf.fit_transform(books['tag_name'])"
   ]
  },
  {
   "cell_type": "code",
   "execution_count": null,
   "metadata": {},
   "outputs": [],
   "source": [
    "tfidf_matrix"
   ]
  },
  {
   "cell_type": "code",
   "execution_count": null,
   "metadata": {},
   "outputs": [],
   "source": [
    "# Use Cosine Similarity to calculate numeric values that denote the similarity between books\n",
    "cosine_sim = linear_kernel(tfidf_matrix, tfidf_matrix)\n",
    "cosine_sim"
   ]
  },
  {
   "cell_type": "code",
   "execution_count": null,
   "metadata": {},
   "outputs": [],
   "source": [
    "# Build a 1-dimensional array with book titles\n",
    "titles = books['title']\n",
    "tag_name = books['tag_name']\n",
    "indices = pd.Series(books.index, index=books['title'])\n",
    "\n",
    "# Function that gets book recommendations based on the cosine similarity score of book tags\n",
    "def tags_recommendations(title):\n",
    "    idx = indices[title]\n",
    "    sim_scores = list(enumerate(cosine_sim[idx]))\n",
    "    sim_scores = sorted(sim_scores, key=lambda x: x[1], reverse=True)\n",
    "    sim_scores = sim_scores[1:10] # How many results to display\n",
    "    book_indices = [i[0] for i in sim_scores]\n",
    "    title_df = pd.DataFrame({'title': titles.iloc[book_indices].tolist(),\n",
    "                           'similarity': [i[1] for i in sim_scores],\n",
    "                            'tag_name': tag_name.iloc[book_indices].tolist()}, # Maybe remove\n",
    "                           index=book_indices)\n",
    "    return title_df\n",
    "\n",
    "# Function that gets book book tags and stats\n",
    "def recommend_stats(target_book_title):\n",
    "    \n",
    "    # Get recommended books\n",
    "    rec_df = tags_recommendations(target_book_title)\n",
    "    \n",
    "    # Get tags of the target book\n",
    "    rec_book_tags = books_with_tags[books_with_tags['title'] == target_book_title]['tag_name'].to_list()\n",
    "    \n",
    "    # Create dictionary of tag lists by book title\n",
    "    book_tag_dict = {}\n",
    "    for title in rec_df['title'].tolist():\n",
    "        book_tag_dict[title] = books_with_tags[books_with_tags['title'] == title]['tag_name'].to_list()\n",
    "    \n",
    "    # Create dictionary of tag statistics by book title\n",
    "    tags_stats = {}\n",
    "    for book, tags in book_tag_dict.items():\n",
    "        tags_stats[book] = {}\n",
    "        tags_stats[book]['total_tags'] = len(tags)\n",
    "        same_tags = set(rec_book_tags).intersection(set(tags)) # Get tags in recommended book that are also in target book\n",
    "        tags_stats[book]['%_common_tags'] = (len(same_tags) / len(tags)) * 100\n",
    "    \n",
    "    # Convert dictionary to dataframe\n",
    "    tags_stats_df = pd.DataFrame.from_dict(tags_stats, orient='index').reset_index().rename(columns={'index': 'title'})\n",
    "    \n",
    "    # Merge tag statistics dataframe to recommended books dataframe\n",
    "    all_stats_df = pd.merge(rec_df, tags_stats_df, on='title')\n",
    "    return all_stats_df"
   ]
  },
  {
   "cell_type": "code",
   "execution_count": null,
   "metadata": {},
   "outputs": [],
   "source": [
    "# Displays all rows without truncating\n",
    "# pd.set_option('display.max_rows', None)\n",
    "\n",
    "# Display all columns with/without truncating (use \"set\" or \"reset\")\n",
    "pd.reset_option('display.max_colwidth')"
   ]
  },
  {
   "cell_type": "code",
   "execution_count": null,
   "metadata": {},
   "outputs": [],
   "source": [
    "lor_recs = recommend_stats('The Fellowship of the Ring (The Lord of the Rings, #1)')"
   ]
  },
  {
   "cell_type": "code",
   "execution_count": null,
   "metadata": {},
   "outputs": [],
   "source": [
    "lor_recs"
   ]
  },
  {
   "cell_type": "code",
   "execution_count": null,
   "metadata": {},
   "outputs": [],
   "source": [
    "lor_recs.describe()"
   ]
  },
  {
   "cell_type": "code",
   "execution_count": null,
   "metadata": {
    "scrolled": true
   },
   "outputs": [],
   "source": [
    "lor_recs.boxplot(column=['similarity'])\n",
    "plt.show()"
   ]
  },
  {
   "cell_type": "code",
   "execution_count": null,
   "metadata": {},
   "outputs": [],
   "source": [
    "lor_recs.boxplot(column=['%_common_tags'])\n",
    "plt.show()"
   ]
  },
  {
   "cell_type": "markdown",
   "metadata": {},
   "source": [
    "### Reverse engineer"
   ]
  },
  {
   "cell_type": "code",
   "execution_count": null,
   "metadata": {},
   "outputs": [],
   "source": [
    "# Select rows with similarity values between 0.035 to 0.045 and % common tags between 20 to 25\n",
    "# Zero to One: similarity 0.040449, % common tags 23\n",
    "\n",
    "# lor_recs_filter = lor_recs.loc[(lor_recs['similarity'] >= 0.010575) & (lor_recs['similarity'] <= 0.0.045) & (lor_recs['%_common_tags'] >= 4) & (lor_recs['%_common_tags'] <= 25)]\n",
    "# lor_recs_filter"
   ]
  },
  {
   "cell_type": "code",
   "execution_count": null,
   "metadata": {},
   "outputs": [],
   "source": [
    "# Merge recommendations with ratings\n",
    "recs_merge = pd.merge(books, lor_recs, left_on='title', right_on='title', how='inner')\n",
    "recs_merge"
   ]
  },
  {
   "cell_type": "code",
   "execution_count": null,
   "metadata": {},
   "outputs": [],
   "source": [
    "recs_merge = recs_merge.drop(columns=['best_book_id', 'work_id', 'isbn', 'isbn13', 'image_url', 'small_image_url', 'tag_name_y'])\n",
    "recs_merge"
   ]
  },
  {
   "cell_type": "code",
   "execution_count": null,
   "metadata": {},
   "outputs": [],
   "source": [
    "# Filter tags unlike most frequent book tag (in this case: 'non-fiction', 'economics' and 'entrepreneurial')\n",
    "lor_recs_filter = recs_merge[(recs_merge['tag_name_x'].str.contains('non-fiction')) & (recs_merge['tag_name_x'].str.contains('economics')) & (recs_merge['tag_name_x'].str.contains('entrepreneurial'))] "
   ]
  },
  {
   "cell_type": "code",
   "execution_count": null,
   "metadata": {},
   "outputs": [],
   "source": [
    "# pd.reset_option('display.max_colwidth')\n",
    "pd.set_option('display.max_rows', 400)\n",
    "lor_recs_filter = lor_recs_filter.sort_values(by=['average_rating'], ascending=False)\n",
    "lor_recs_filter"
   ]
  },
  {
   "cell_type": "markdown",
   "metadata": {},
   "source": [
    "### Explore the book data"
   ]
  },
  {
   "cell_type": "code",
   "execution_count": null,
   "metadata": {},
   "outputs": [],
   "source": [
    "# Book tags for Lord of the Rings\n",
    "lord_of_the_rings_tags = pd.DataFrame(books_with_tags[books_with_tags['title']=='The Fellowship of the Ring (The Lord of the Rings, #1)']['tag_name'])\n",
    "lord_of_the_rings_tags"
   ]
  },
  {
   "cell_type": "code",
   "execution_count": null,
   "metadata": {},
   "outputs": [],
   "source": [
    "# Find most frequent word used in tags\n",
    "import nltk\n",
    "\n",
    "top_N = 100\n",
    "txt = lord_of_the_rings_tags.tag_name.str.lower().str.replace(r'-', ' ').str.cat(sep=' ') # Remove hyphens\n",
    "words = nltk.tokenize.word_tokenize(txt)\n",
    "word_dist = nltk.FreqDist(words)\n",
    "\n",
    "stopwords = nltk.corpus.stopwords.words('english')\n",
    "words_except_stop_dist = nltk.FreqDist(w for w in words if w not in stopwords) \n",
    "print('All frequencies, including STOPWORDS:')\n",
    "print('=' * 60)\n",
    "lor_rslt = pd.DataFrame(word_dist.most_common(top_N),\n",
    "                    columns=['Word', 'Frequency'])\n",
    "print(lor_rslt)\n",
    "print('=' * 60)\n",
    "lor_rslt = pd.DataFrame(words_except_stop_dist.most_common(top_N),\n",
    "                    columns=['Word', 'Frequency']).set_index('Word')\n",
    "matplotlib.style.use('ggplot')\n",
    "\n",
    "lor_rslt.plot.bar(rot=0)\n",
    "plt.show()"
   ]
  },
  {
   "cell_type": "code",
   "execution_count": null,
   "metadata": {},
   "outputs": [],
   "source": [
    "zero_rslt"
   ]
  },
  {
   "cell_type": "code",
   "execution_count": null,
   "metadata": {},
   "outputs": [],
   "source": [
    "top_N = 50\n",
    "\n",
    "txt = lor_recs.tag_name.str.lower().str.replace(r'-', ' ').str.cat(sep=' ') # Remove hyphens\n",
    "words = nltk.tokenize.word_tokenize(txt)\n",
    "word_dist = nltk.FreqDist(words)\n",
    "\n",
    "stopwords = nltk.corpus.stopwords.words('english')\n",
    "words_except_stop_dist = nltk.FreqDist(w for w in words if w not in stopwords) \n",
    "\n",
    "print('All frequencies, including STOPWORDS:')\n",
    "print('=' * 60)\n",
    "rslt = pd.DataFrame(word_dist.most_common(top_N),\n",
    "                    columns=['Word', 'Frequency'])\n",
    "print(rslt)\n",
    "print('=' * 60)\n",
    "\n",
    "rslt = pd.DataFrame(words_except_stop_dist.most_common(top_N),\n",
    "                    columns=['Word', 'Frequency']).set_index('Word')\n",
    "\n",
    "matplotlib.style.use('ggplot')\n",
    "\n",
    "rslt.plot.bar(rot=0)\n",
    "plt.show()"
   ]
  },
  {
   "cell_type": "code",
   "execution_count": null,
   "metadata": {},
   "outputs": [],
   "source": [
    "lord_of_the_rings_tags.tag_name.mode()"
   ]
  },
  {
   "cell_type": "code",
   "execution_count": null,
   "metadata": {},
   "outputs": [],
   "source": [
    "# Book tags for Zero to One\n",
    "zero_to_one_tags = pd.DataFrame(books_with_tags[books_with_tags['title']=='Zero to One: Notes on Startups, or How to Build the Future']['tag_name'])\n",
    "zero_to_one_tags"
   ]
  },
  {
   "cell_type": "code",
   "execution_count": null,
   "metadata": {},
   "outputs": [],
   "source": [
    "# Find most frequent word used in tags\n",
    "import nltk\n",
    "\n",
    "top_N = 100\n",
    "txt = zero_to_one_tags.tag_name.str.lower().str.replace(r'-', ' ').str.cat(sep=' ') # Remove hyphens\n",
    "words = nltk.tokenize.word_tokenize(txt)\n",
    "word_dist = nltk.FreqDist(words)\n",
    "\n",
    "stopwords = nltk.corpus.stopwords.words('english')\n",
    "words_except_stop_dist = nltk.FreqDist(w for w in words if w not in stopwords) \n",
    "print('All frequencies, including STOPWORDS:')\n",
    "print('=' * 60)\n",
    "zero_rslt = pd.DataFrame(word_dist.most_common(top_N),\n",
    "                    columns=['Word', 'Frequency'])\n",
    "print(zero_rslt)\n",
    "print('=' * 60)\n",
    "zero_rslt = pd.DataFrame(words_except_stop_dist.most_common(top_N),\n",
    "                    columns=['Word', 'Frequency']).set_index('Word')\n",
    "matplotlib.style.use('ggplot')\n",
    "\n",
    "zero_rslt.plot.bar(rot=0)\n",
    "plt.show()"
   ]
  },
  {
   "cell_type": "code",
   "execution_count": null,
   "metadata": {},
   "outputs": [],
   "source": [
    "# Concat \n",
    "\n",
    "df2_concat = pd.concat([lor_rslt,zero_rslt])\n",
    "df2_concat"
   ]
  },
  {
   "cell_type": "code",
   "execution_count": null,
   "metadata": {},
   "outputs": [],
   "source": [
    "# Book tag for other  book\n",
    "startup_tags = pd.DataFrame(books_with_tags[books_with_tags['title']=='Bossypants']['tag_name'])\n",
    "startup_tags"
   ]
  },
  {
   "cell_type": "code",
   "execution_count": null,
   "metadata": {},
   "outputs": [],
   "source": [
    "# Check commonalities and differences within each\n",
    "# False = different\n",
    "# True = common\n",
    "lord_of_the_rings_tags['tag_name'].isin(zero_to_one_tags['tag_name']).value_counts(normalize=True)"
   ]
  },
  {
   "cell_type": "code",
   "execution_count": null,
   "metadata": {},
   "outputs": [],
   "source": [
    "# Concat the two dataframes\n",
    "\n",
    "df_concat = pd.concat([lord_of_the_rings_tags,zero_to_one_tags])\n",
    "df_concat"
   ]
  },
  {
   "cell_type": "code",
   "execution_count": null,
   "metadata": {},
   "outputs": [],
   "source": [
    "df_concat[df_concat.duplicated(['tag_name'], keep=False)]"
   ]
  },
  {
   "cell_type": "code",
   "execution_count": null,
   "metadata": {},
   "outputs": [],
   "source": [
    "# Check commonalities and differences within each\n",
    "# False = different\n",
    "# True = common\n",
    "lord_of_the_rings_tags['tag_name'].isin(startup_tags['tag_name']).value_counts(normalize=True)"
   ]
  },
  {
   "cell_type": "code",
   "execution_count": null,
   "metadata": {},
   "outputs": [],
   "source": [
    "# Concatenate the two dataframes\n",
    "df_diff = pd.concat([lord_of_the_rings_tags,zero_to_one_tags]).drop_duplicates(keep=False)\n",
    "pd.set_option('display.max_rows', 160)\n",
    "df_diff"
   ]
  },
  {
   "cell_type": "code",
   "execution_count": null,
   "metadata": {},
   "outputs": [],
   "source": [
    "df_diff = pd.concat([lord_of_the_rings_tags, zero_to_one_tags]).loc[lord_of_the_rings_tags.index.symmetric_difference(zero_to_one_tags.index)]\n",
    "df_diff.tail(60)"
   ]
  },
  {
   "cell_type": "markdown",
   "metadata": {},
   "source": [
    "### Find opposite of a word"
   ]
  },
  {
   "cell_type": "code",
   "execution_count": null,
   "metadata": {},
   "outputs": [],
   "source": [
    "import nltk \n",
    "from nltk.corpus import wordnet "
   ]
  },
  {
   "cell_type": "code",
   "execution_count": null,
   "metadata": {},
   "outputs": [],
   "source": [
    "synonyms = [] \n",
    "antonyms = [] \n",
    "  \n",
    "for syn in wordnet.synsets('nice'): \n",
    "    for l in syn.lemmas(): \n",
    "        synonyms.append(l.name()) \n",
    "        if l.antonyms(): \n",
    "            antonyms.append(l.antonyms()[0].name()) \n",
    "  \n",
    "print(set(antonyms))"
   ]
  },
  {
   "cell_type": "code",
   "execution_count": null,
   "metadata": {},
   "outputs": [],
   "source": [
    "#Checking antonym for the word \"increase\"\n",
    "from nltk.corpus import wordnet\n",
    "antonyms = []\n",
    "for syn in wordnet.synsets(\"book\"):\n",
    "    for lm in syn.lemmas():\n",
    "        if lm.antonyms():\n",
    "            antonyms.append(lm.antonyms()[0].name()) #adding into antonyms\n",
    "print(set(antonyms))"
   ]
  },
  {
   "cell_type": "markdown",
   "metadata": {},
   "source": [
    "### Filter for opposite of most frequent tag"
   ]
  },
  {
   "cell_type": "code",
   "execution_count": null,
   "metadata": {},
   "outputs": [],
   "source": [
    "# Displays all rows without truncating\n",
    "pd.set_option('display.max_rows', None)\n",
    "# pd.reset_option('display.max_rows', None)\n",
    "\n",
    "pd.DataFrame(books_with_tags[books_with_tags['title']=='The Complete Guide to Middle-Earth']['tag_name'])"
   ]
  },
  {
   "cell_type": "code",
   "execution_count": null,
   "metadata": {},
   "outputs": [],
   "source": [
    "lor_recs_filter_business = lor_recs[lor_recs['tag_name'].str.contains(\"nonfiction\")]\n",
    "lor_recs_filter_business"
   ]
  },
  {
   "cell_type": "code",
   "execution_count": null,
   "metadata": {},
   "outputs": [],
   "source": [
    "newdf = lor_recs[lor_recs['tag_name'] != 'fantasy'"
   ]
  }
 ],
 "metadata": {
  "kernelspec": {
   "display_name": "Python 3",
   "language": "python",
   "name": "python3"
  },
  "language_info": {
   "codemirror_mode": {
    "name": "ipython",
    "version": 3
   },
   "file_extension": ".py",
   "mimetype": "text/x-python",
   "name": "python",
   "nbconvert_exporter": "python",
   "pygments_lexer": "ipython3",
   "version": "3.7.4"
  }
 },
 "nbformat": 4,
 "nbformat_minor": 2
}
