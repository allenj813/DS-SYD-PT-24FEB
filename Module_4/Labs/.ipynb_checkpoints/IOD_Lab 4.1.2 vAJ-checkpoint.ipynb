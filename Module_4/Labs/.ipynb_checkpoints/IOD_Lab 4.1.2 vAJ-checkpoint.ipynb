{
 "cells": [
  {
   "cell_type": "markdown",
   "metadata": {
    "colab_type": "text",
    "id": "fpsJ8d42XWua"
   },
   "source": [
    "<div>\n",
    "<img src=https://www.institutedata.com/wp-content/uploads/2019/10/iod_h_tp_primary_c.svg width=\"300\">\n",
    "</div>"
   ]
  },
  {
   "cell_type": "markdown",
   "metadata": {
    "colab_type": "text",
    "id": "CSHa05-1XWub"
   },
   "source": [
    "# Lab 4.1.2 Linear Regression"
   ]
  },
  {
   "cell_type": "markdown",
   "metadata": {
    "colab_type": "text",
    "id": "lZ0RQEDgXWuc"
   },
   "source": [
    "## Prediction of House Price Using Linear Regression"
   ]
  },
  {
   "cell_type": "markdown",
   "metadata": {
    "colab_type": "text",
    "id": "96_GqGXCXWud"
   },
   "source": [
    "### Data\n",
    "\n",
    "The Sacramento real estate transactions file is a list of 985 real estate transactions in the Sacramento area reported over a five-day period, as reported by the Sacramento Bee."
   ]
  },
  {
   "cell_type": "code",
   "execution_count": 2,
   "metadata": {
    "colab": {},
    "colab_type": "code",
    "id": "l1leeqkAXWug"
   },
   "outputs": [],
   "source": [
    "import pandas as pd\n",
    "import numpy as np\n",
    "\n",
    "%matplotlib inlin"
   ]
  },
  {
   "cell_type": "markdown",
   "metadata": {
    "colab_type": "text",
    "id": "S0zFU75NXWuj"
   },
   "source": [
    "### 1. Explore Data"
   ]
  },
  {
   "cell_type": "markdown",
   "metadata": {
    "colab_type": "text",
    "id": "kaShnXBCXWuk"
   },
   "source": [
    "Perform EDA on this dataset. Find Dependent and Independent Variables to predict house price."
   ]
  },
  {
   "cell_type": "code",
   "execution_count": 3,
   "metadata": {
    "colab": {},
    "colab_type": "code",
    "id": "oj3kd7vqXWul"
   },
   "outputs": [
    {
     "data": {
      "text/html": [
       "<div>\n",
       "<style scoped>\n",
       "    .dataframe tbody tr th:only-of-type {\n",
       "        vertical-align: middle;\n",
       "    }\n",
       "\n",
       "    .dataframe tbody tr th {\n",
       "        vertical-align: top;\n",
       "    }\n",
       "\n",
       "    .dataframe thead th {\n",
       "        text-align: right;\n",
       "    }\n",
       "</style>\n",
       "<table border=\"1\" class=\"dataframe\">\n",
       "  <thead>\n",
       "    <tr style=\"text-align: right;\">\n",
       "      <th></th>\n",
       "      <th>street</th>\n",
       "      <th>city</th>\n",
       "      <th>zip</th>\n",
       "      <th>state</th>\n",
       "      <th>beds</th>\n",
       "      <th>baths</th>\n",
       "      <th>sq__ft</th>\n",
       "      <th>type</th>\n",
       "      <th>sale_date</th>\n",
       "      <th>price</th>\n",
       "      <th>latitude</th>\n",
       "      <th>longitude</th>\n",
       "    </tr>\n",
       "  </thead>\n",
       "  <tbody>\n",
       "    <tr>\n",
       "      <td>0</td>\n",
       "      <td>3526 HIGH ST</td>\n",
       "      <td>SACRAMENTO</td>\n",
       "      <td>95838</td>\n",
       "      <td>CA</td>\n",
       "      <td>2</td>\n",
       "      <td>1</td>\n",
       "      <td>836</td>\n",
       "      <td>Residential</td>\n",
       "      <td>Wed May 21 00:00:00 EDT 2008</td>\n",
       "      <td>59222</td>\n",
       "      <td>38.631913</td>\n",
       "      <td>-121.434879</td>\n",
       "    </tr>\n",
       "    <tr>\n",
       "      <td>1</td>\n",
       "      <td>51 OMAHA CT</td>\n",
       "      <td>SACRAMENTO</td>\n",
       "      <td>95823</td>\n",
       "      <td>CA</td>\n",
       "      <td>3</td>\n",
       "      <td>1</td>\n",
       "      <td>1167</td>\n",
       "      <td>Residential</td>\n",
       "      <td>Wed May 21 00:00:00 EDT 2008</td>\n",
       "      <td>68212</td>\n",
       "      <td>38.478902</td>\n",
       "      <td>-121.431028</td>\n",
       "    </tr>\n",
       "    <tr>\n",
       "      <td>2</td>\n",
       "      <td>2796 BRANCH ST</td>\n",
       "      <td>SACRAMENTO</td>\n",
       "      <td>95815</td>\n",
       "      <td>CA</td>\n",
       "      <td>2</td>\n",
       "      <td>1</td>\n",
       "      <td>796</td>\n",
       "      <td>Residential</td>\n",
       "      <td>Wed May 21 00:00:00 EDT 2008</td>\n",
       "      <td>68880</td>\n",
       "      <td>38.618305</td>\n",
       "      <td>-121.443839</td>\n",
       "    </tr>\n",
       "    <tr>\n",
       "      <td>3</td>\n",
       "      <td>2805 JANETTE WAY</td>\n",
       "      <td>SACRAMENTO</td>\n",
       "      <td>95815</td>\n",
       "      <td>CA</td>\n",
       "      <td>2</td>\n",
       "      <td>1</td>\n",
       "      <td>852</td>\n",
       "      <td>Residential</td>\n",
       "      <td>Wed May 21 00:00:00 EDT 2008</td>\n",
       "      <td>69307</td>\n",
       "      <td>38.616835</td>\n",
       "      <td>-121.439146</td>\n",
       "    </tr>\n",
       "    <tr>\n",
       "      <td>4</td>\n",
       "      <td>6001 MCMAHON DR</td>\n",
       "      <td>SACRAMENTO</td>\n",
       "      <td>95824</td>\n",
       "      <td>CA</td>\n",
       "      <td>2</td>\n",
       "      <td>1</td>\n",
       "      <td>797</td>\n",
       "      <td>Residential</td>\n",
       "      <td>Wed May 21 00:00:00 EDT 2008</td>\n",
       "      <td>81900</td>\n",
       "      <td>38.519470</td>\n",
       "      <td>-121.435768</td>\n",
       "    </tr>\n",
       "  </tbody>\n",
       "</table>\n",
       "</div>"
      ],
      "text/plain": [
       "             street        city    zip state  beds  baths  sq__ft  \\\n",
       "0      3526 HIGH ST  SACRAMENTO  95838    CA     2      1     836   \n",
       "1       51 OMAHA CT  SACRAMENTO  95823    CA     3      1    1167   \n",
       "2    2796 BRANCH ST  SACRAMENTO  95815    CA     2      1     796   \n",
       "3  2805 JANETTE WAY  SACRAMENTO  95815    CA     2      1     852   \n",
       "4   6001 MCMAHON DR  SACRAMENTO  95824    CA     2      1     797   \n",
       "\n",
       "          type                     sale_date  price   latitude   longitude  \n",
       "0  Residential  Wed May 21 00:00:00 EDT 2008  59222  38.631913 -121.434879  \n",
       "1  Residential  Wed May 21 00:00:00 EDT 2008  68212  38.478902 -121.431028  \n",
       "2  Residential  Wed May 21 00:00:00 EDT 2008  68880  38.618305 -121.443839  \n",
       "3  Residential  Wed May 21 00:00:00 EDT 2008  69307  38.616835 -121.439146  \n",
       "4  Residential  Wed May 21 00:00:00 EDT 2008  81900  38.519470 -121.435768  "
      ]
     },
     "execution_count": 3,
     "metadata": {},
     "output_type": "execute_result"
    }
   ],
   "source": [
    "# Read CSV\n",
    "house = pd.read_csv('../../DATA/Sacramento_transactions.csv')\n",
    "house.head()"
   ]
  },
  {
   "cell_type": "code",
   "execution_count": 4,
   "metadata": {},
   "outputs": [
    {
     "data": {
      "text/html": [
       "<div>\n",
       "<style scoped>\n",
       "    .dataframe tbody tr th:only-of-type {\n",
       "        vertical-align: middle;\n",
       "    }\n",
       "\n",
       "    .dataframe tbody tr th {\n",
       "        vertical-align: top;\n",
       "    }\n",
       "\n",
       "    .dataframe thead th {\n",
       "        text-align: right;\n",
       "    }\n",
       "</style>\n",
       "<table border=\"1\" class=\"dataframe\">\n",
       "  <thead>\n",
       "    <tr style=\"text-align: right;\">\n",
       "      <th></th>\n",
       "      <th>street</th>\n",
       "      <th>city</th>\n",
       "      <th>zip</th>\n",
       "      <th>state</th>\n",
       "      <th>beds</th>\n",
       "      <th>baths</th>\n",
       "      <th>sq__ft</th>\n",
       "      <th>type</th>\n",
       "      <th>sale_date</th>\n",
       "      <th>price</th>\n",
       "      <th>latitude</th>\n",
       "      <th>longitude</th>\n",
       "    </tr>\n",
       "  </thead>\n",
       "  <tbody>\n",
       "    <tr>\n",
       "      <td>980</td>\n",
       "      <td>9169 GARLINGTON CT</td>\n",
       "      <td>SACRAMENTO</td>\n",
       "      <td>95829</td>\n",
       "      <td>CA</td>\n",
       "      <td>4</td>\n",
       "      <td>3</td>\n",
       "      <td>2280</td>\n",
       "      <td>Residential</td>\n",
       "      <td>Thu May 15 00:00:00 EDT 2008</td>\n",
       "      <td>232425</td>\n",
       "      <td>38.457679</td>\n",
       "      <td>-121.359620</td>\n",
       "    </tr>\n",
       "    <tr>\n",
       "      <td>981</td>\n",
       "      <td>6932 RUSKUT WAY</td>\n",
       "      <td>SACRAMENTO</td>\n",
       "      <td>95823</td>\n",
       "      <td>CA</td>\n",
       "      <td>3</td>\n",
       "      <td>2</td>\n",
       "      <td>1477</td>\n",
       "      <td>Residential</td>\n",
       "      <td>Thu May 15 00:00:00 EDT 2008</td>\n",
       "      <td>234000</td>\n",
       "      <td>38.499893</td>\n",
       "      <td>-121.458890</td>\n",
       "    </tr>\n",
       "    <tr>\n",
       "      <td>982</td>\n",
       "      <td>7933 DAFFODIL WAY</td>\n",
       "      <td>CITRUS HEIGHTS</td>\n",
       "      <td>95610</td>\n",
       "      <td>CA</td>\n",
       "      <td>3</td>\n",
       "      <td>2</td>\n",
       "      <td>1216</td>\n",
       "      <td>Residential</td>\n",
       "      <td>Thu May 15 00:00:00 EDT 2008</td>\n",
       "      <td>235000</td>\n",
       "      <td>38.708824</td>\n",
       "      <td>-121.256803</td>\n",
       "    </tr>\n",
       "    <tr>\n",
       "      <td>983</td>\n",
       "      <td>8304 RED FOX WAY</td>\n",
       "      <td>ELK GROVE</td>\n",
       "      <td>95758</td>\n",
       "      <td>CA</td>\n",
       "      <td>4</td>\n",
       "      <td>2</td>\n",
       "      <td>1685</td>\n",
       "      <td>Residential</td>\n",
       "      <td>Thu May 15 00:00:00 EDT 2008</td>\n",
       "      <td>235301</td>\n",
       "      <td>38.417000</td>\n",
       "      <td>-121.397424</td>\n",
       "    </tr>\n",
       "    <tr>\n",
       "      <td>984</td>\n",
       "      <td>3882 YELLOWSTONE LN</td>\n",
       "      <td>EL DORADO HILLS</td>\n",
       "      <td>95762</td>\n",
       "      <td>CA</td>\n",
       "      <td>3</td>\n",
       "      <td>2</td>\n",
       "      <td>1362</td>\n",
       "      <td>Residential</td>\n",
       "      <td>Thu May 15 00:00:00 EDT 2008</td>\n",
       "      <td>235738</td>\n",
       "      <td>38.655245</td>\n",
       "      <td>-121.075915</td>\n",
       "    </tr>\n",
       "  </tbody>\n",
       "</table>\n",
       "</div>"
      ],
      "text/plain": [
       "                  street             city    zip state  beds  baths  sq__ft  \\\n",
       "980   9169 GARLINGTON CT       SACRAMENTO  95829    CA     4      3    2280   \n",
       "981      6932 RUSKUT WAY       SACRAMENTO  95823    CA     3      2    1477   \n",
       "982    7933 DAFFODIL WAY   CITRUS HEIGHTS  95610    CA     3      2    1216   \n",
       "983     8304 RED FOX WAY        ELK GROVE  95758    CA     4      2    1685   \n",
       "984  3882 YELLOWSTONE LN  EL DORADO HILLS  95762    CA     3      2    1362   \n",
       "\n",
       "            type                     sale_date   price   latitude   longitude  \n",
       "980  Residential  Thu May 15 00:00:00 EDT 2008  232425  38.457679 -121.359620  \n",
       "981  Residential  Thu May 15 00:00:00 EDT 2008  234000  38.499893 -121.458890  \n",
       "982  Residential  Thu May 15 00:00:00 EDT 2008  235000  38.708824 -121.256803  \n",
       "983  Residential  Thu May 15 00:00:00 EDT 2008  235301  38.417000 -121.397424  \n",
       "984  Residential  Thu May 15 00:00:00 EDT 2008  235738  38.655245 -121.075915  "
      ]
     },
     "execution_count": 4,
     "metadata": {},
     "output_type": "execute_result"
    }
   ],
   "source": [
    "house.tail()"
   ]
  },
  {
   "cell_type": "code",
   "execution_count": 5,
   "metadata": {},
   "outputs": [
    {
     "data": {
      "text/plain": [
       "(985, 12)"
      ]
     },
     "execution_count": 5,
     "metadata": {},
     "output_type": "execute_result"
    }
   ],
   "source": [
    "house.shape"
   ]
  },
  {
   "cell_type": "code",
   "execution_count": 6,
   "metadata": {},
   "outputs": [
    {
     "name": "stdout",
     "output_type": "stream",
     "text": [
      "<class 'pandas.core.frame.DataFrame'>\n",
      "RangeIndex: 985 entries, 0 to 984\n",
      "Data columns (total 12 columns):\n",
      "street       985 non-null object\n",
      "city         985 non-null object\n",
      "zip          985 non-null int64\n",
      "state        985 non-null object\n",
      "beds         985 non-null int64\n",
      "baths        985 non-null int64\n",
      "sq__ft       985 non-null int64\n",
      "type         985 non-null object\n",
      "sale_date    985 non-null object\n",
      "price        985 non-null int64\n",
      "latitude     985 non-null float64\n",
      "longitude    985 non-null float64\n",
      "dtypes: float64(2), int64(5), object(5)\n",
      "memory usage: 92.5+ KB\n"
     ]
    }
   ],
   "source": [
    "house.info()"
   ]
  },
  {
   "cell_type": "code",
   "execution_count": 7,
   "metadata": {},
   "outputs": [
    {
     "data": {
      "text/plain": [
       "Index(['street', 'city', 'zip', 'state', 'beds', 'baths', 'sq__ft', 'type',\n",
       "       'sale_date', 'price', 'latitude', 'longitude'],\n",
       "      dtype='object')"
      ]
     },
     "execution_count": 7,
     "metadata": {},
     "output_type": "execute_result"
    }
   ],
   "source": [
    "house.columns"
   ]
  },
  {
   "cell_type": "markdown",
   "metadata": {
    "colab_type": "text",
    "id": "kQ_sd0-VXWuo"
   },
   "source": [
    "### 2. Predict Price"
   ]
  },
  {
   "cell_type": "markdown",
   "metadata": {
    "colab_type": "text",
    "id": "BsxIS3qqXWuq"
   },
   "source": [
    "We are going to predict `price` from available information."
   ]
  },
  {
   "cell_type": "markdown",
   "metadata": {
    "colab_type": "text",
    "id": "l9DkEfzHXWur"
   },
   "source": [
    "#### 2.1 What is the Target Variable? Why?"
   ]
  },
  {
   "cell_type": "code",
   "execution_count": 8,
   "metadata": {
    "colab": {},
    "colab_type": "code",
    "id": "HGONOtfFXWut"
   },
   "outputs": [],
   "source": [
    "# ANSWER\n",
    "# Price is the target variable"
   ]
  },
  {
   "cell_type": "markdown",
   "metadata": {
    "colab_type": "text",
    "id": "MDAu8eeXXWuz"
   },
   "source": [
    "#### 2.2 List all possible variables which might be Independent/Predictor variable."
   ]
  },
  {
   "cell_type": "code",
   "execution_count": 9,
   "metadata": {
    "colab": {},
    "colab_type": "code",
    "id": "PEDRGP1EXWu1"
   },
   "outputs": [],
   "source": [
    "# ANSWER\n",
    "# zip, beds, baths, sq__ft, type, sale_date"
   ]
  },
  {
   "cell_type": "markdown",
   "metadata": {
    "colab_type": "text",
    "id": "w9x9iKhcXWu4"
   },
   "source": [
    "#### 2.2 Find correlation between variables\n",
    "\n",
    "Find correlation between variables. Which is the best predictor? Why? State your reason."
   ]
  },
  {
   "cell_type": "code",
   "execution_count": 10,
   "metadata": {},
   "outputs": [
    {
     "data": {
      "text/html": [
       "<div>\n",
       "<style scoped>\n",
       "    .dataframe tbody tr th:only-of-type {\n",
       "        vertical-align: middle;\n",
       "    }\n",
       "\n",
       "    .dataframe tbody tr th {\n",
       "        vertical-align: top;\n",
       "    }\n",
       "\n",
       "    .dataframe thead th {\n",
       "        text-align: right;\n",
       "    }\n",
       "</style>\n",
       "<table border=\"1\" class=\"dataframe\">\n",
       "  <thead>\n",
       "    <tr style=\"text-align: right;\">\n",
       "      <th></th>\n",
       "      <th>zip</th>\n",
       "      <th>beds</th>\n",
       "      <th>baths</th>\n",
       "      <th>sq__ft</th>\n",
       "      <th>price</th>\n",
       "      <th>latitude</th>\n",
       "      <th>longitude</th>\n",
       "    </tr>\n",
       "  </thead>\n",
       "  <tbody>\n",
       "    <tr>\n",
       "      <td>zip</td>\n",
       "      <td>1.000000</td>\n",
       "      <td>0.125319</td>\n",
       "      <td>0.069165</td>\n",
       "      <td>0.130108</td>\n",
       "      <td>-0.093353</td>\n",
       "      <td>-0.290389</td>\n",
       "      <td>-0.539904</td>\n",
       "    </tr>\n",
       "    <tr>\n",
       "      <td>beds</td>\n",
       "      <td>0.125319</td>\n",
       "      <td>1.000000</td>\n",
       "      <td>0.839650</td>\n",
       "      <td>0.684041</td>\n",
       "      <td>0.342024</td>\n",
       "      <td>-0.291307</td>\n",
       "      <td>-0.053993</td>\n",
       "    </tr>\n",
       "    <tr>\n",
       "      <td>baths</td>\n",
       "      <td>0.069165</td>\n",
       "      <td>0.839650</td>\n",
       "      <td>1.000000</td>\n",
       "      <td>0.665690</td>\n",
       "      <td>0.416208</td>\n",
       "      <td>-0.235792</td>\n",
       "      <td>0.016582</td>\n",
       "    </tr>\n",
       "    <tr>\n",
       "      <td>sq__ft</td>\n",
       "      <td>0.130108</td>\n",
       "      <td>0.684041</td>\n",
       "      <td>0.665690</td>\n",
       "      <td>1.000000</td>\n",
       "      <td>0.333897</td>\n",
       "      <td>-0.383274</td>\n",
       "      <td>-0.177742</td>\n",
       "    </tr>\n",
       "    <tr>\n",
       "      <td>price</td>\n",
       "      <td>-0.093353</td>\n",
       "      <td>0.342024</td>\n",
       "      <td>0.416208</td>\n",
       "      <td>0.333897</td>\n",
       "      <td>1.000000</td>\n",
       "      <td>-0.039573</td>\n",
       "      <td>0.284485</td>\n",
       "    </tr>\n",
       "    <tr>\n",
       "      <td>latitude</td>\n",
       "      <td>-0.290389</td>\n",
       "      <td>-0.291307</td>\n",
       "      <td>-0.235792</td>\n",
       "      <td>-0.383274</td>\n",
       "      <td>-0.039573</td>\n",
       "      <td>1.000000</td>\n",
       "      <td>0.387925</td>\n",
       "    </tr>\n",
       "    <tr>\n",
       "      <td>longitude</td>\n",
       "      <td>-0.539904</td>\n",
       "      <td>-0.053993</td>\n",
       "      <td>0.016582</td>\n",
       "      <td>-0.177742</td>\n",
       "      <td>0.284485</td>\n",
       "      <td>0.387925</td>\n",
       "      <td>1.000000</td>\n",
       "    </tr>\n",
       "  </tbody>\n",
       "</table>\n",
       "</div>"
      ],
      "text/plain": [
       "                zip      beds     baths    sq__ft     price  latitude  \\\n",
       "zip        1.000000  0.125319  0.069165  0.130108 -0.093353 -0.290389   \n",
       "beds       0.125319  1.000000  0.839650  0.684041  0.342024 -0.291307   \n",
       "baths      0.069165  0.839650  1.000000  0.665690  0.416208 -0.235792   \n",
       "sq__ft     0.130108  0.684041  0.665690  1.000000  0.333897 -0.383274   \n",
       "price     -0.093353  0.342024  0.416208  0.333897  1.000000 -0.039573   \n",
       "latitude  -0.290389 -0.291307 -0.235792 -0.383274 -0.039573  1.000000   \n",
       "longitude -0.539904 -0.053993  0.016582 -0.177742  0.284485  0.387925   \n",
       "\n",
       "           longitude  \n",
       "zip        -0.539904  \n",
       "beds       -0.053993  \n",
       "baths       0.016582  \n",
       "sq__ft     -0.177742  \n",
       "price       0.284485  \n",
       "latitude    0.387925  \n",
       "longitude   1.000000  "
      ]
     },
     "execution_count": 10,
     "metadata": {},
     "output_type": "execute_result"
    }
   ],
   "source": [
    "house.corr()"
   ]
  },
  {
   "cell_type": "code",
   "execution_count": 11,
   "metadata": {
    "colab": {},
    "colab_type": "code",
    "id": "5OZ6kJeyXWu5"
   },
   "outputs": [],
   "source": [
    "# ANSWER\n",
    "# The best predictor of price is sq__ft"
   ]
  },
  {
   "cell_type": "code",
   "execution_count": 12,
   "metadata": {},
   "outputs": [
    {
     "data": {
      "text/plain": [
       "<matplotlib.axes._subplots.AxesSubplot at 0x11868ae50>"
      ]
     },
     "execution_count": 12,
     "metadata": {},
     "output_type": "execute_result"
    },
    {
     "data": {
      "image/png": "[encoded data removed]",
      "text/plain": [
       "<Figure size 432x288 with 1 Axes>"
      ]
     },
     "metadata": {
      "needs_background": "light"
     },
     "output_type": "display_data"
    }
   ],
   "source": [
    "house.plot(x='price', y='sq__ft', style='o')"
   ]
  },
  {
   "cell_type": "markdown",
   "metadata": {
    "colab_type": "text",
    "id": "tgWfh5snXWu8"
   },
   "source": [
    "#### 2.3 Find Coefficient and Intercept using Linear Regression\n",
    "\n",
    "Using LinearRegression of sklearn.linear_model package find Coefficient and Intercept.\n",
    "\n",
    "Create an instance of LinearRegression.\n",
    "\n",
    "Explore following methods:\n",
    "\n",
    "- fit\n",
    "- predict\n",
    "- score"
   ]
  },
  {
   "cell_type": "code",
   "execution_count": 13,
   "metadata": {
    "colab": {},
    "colab_type": "code",
    "id": "SbiQavKvXWu9"
   },
   "outputs": [],
   "source": [
    "from sklearn.linear_model import LinearRegression"
   ]
  },
  {
   "cell_type": "code",
   "execution_count": 15,
   "metadata": {},
   "outputs": [
    {
     "name": "stdout",
     "output_type": "stream",
     "text": [
      "[54.15863969] 162930.16140699777\n"
     ]
    }
   ],
   "source": [
    "x = house[['sq__ft']]\n",
    "y = house['price']\n",
    "\n",
    "linreg = LinearRegression()\n",
    "linreg.fit(x, y)\n",
    "\n",
    "print(linreg.coef_, linreg.intercept_)"
   ]
  },
  {
   "cell_type": "code",
   "execution_count": 17,
   "metadata": {},
   "outputs": [],
   "source": [
    "# Practice with linear regression\n",
    "import matplotlib.pyplot as plt\n",
    "import numpy as np\n",
    "from sklearn import datasets, linear_model\n",
    "from sklearn.metrics import mean_squared_error, r2_score\n",
    "\n",
    "# Load the diabetes dataset\n",
    "diabetes_x, diabetes_y = datasets.load_diabetes(return_x_y=True)"
   ]
  },
  {
   "cell_type": "markdown",
   "metadata": {
    "colab_type": "text",
    "id": "lVWhSV7BXWu_"
   },
   "source": [
    "##### 2.3.1 Fit predictor and target variables using linear regression "
   ]
  },
  {
   "cell_type": "code",
   "execution_count": null,
   "metadata": {
    "colab": {},
    "colab_type": "code",
    "id": "6cplIG9RXWvA"
   },
   "outputs": [],
   "source": [
    "# ANSWER\n",
    "\n",
    "X = house['sq__ft'].values.reshape(-1,1)\n",
    "Y = house['price']\n",
    "linreg.fit(X, Y)\n",
    "linreg.predict(1216)"
   ]
  },
  {
   "cell_type": "markdown",
   "metadata": {
    "colab_type": "text",
    "id": "0Qv0pyZNXWvC"
   },
   "source": [
    "##### 2.3.2 Find R Score"
   ]
  },
  {
   "cell_type": "markdown",
   "metadata": {
    "colab_type": "text",
    "id": "j5Lix6tlXWvD"
   },
   "source": [
    "Find $R^2$ Using ```score``` method of Linear Regression."
   ]
  },
  {
   "cell_type": "code",
   "execution_count": null,
   "metadata": {
    "colab": {},
    "colab_type": "code",
    "id": "JrJDTlJrXWvF"
   },
   "outputs": [],
   "source": [
    "# ANSWER"
   ]
  },
  {
   "cell_type": "markdown",
   "metadata": {
    "colab_type": "text",
    "id": "BiVDrqFhXWvN"
   },
   "source": [
    "### 3. Splitting Data"
   ]
  },
  {
   "cell_type": "code",
   "execution_count": null,
   "metadata": {
    "colab": {},
    "colab_type": "code",
    "id": "I4tgG88GXWvQ"
   },
   "outputs": [],
   "source": [
    "from sklearn.model_selection import train_test_split"
   ]
  },
  {
   "cell_type": "markdown",
   "metadata": {
    "colab_type": "text",
    "id": "hTgSdUpwXWvW"
   },
   "source": [
    "#### 3.1 Create training and testing subsets\n",
    "\n",
    "Hint: Using `train_test_split` Library.\n",
    "\n",
    "```\n",
    "X_train, X_test, y_train, y_test = train_test_split(X, y, test_size=0.33, random_state=42)\n",
    "```"
   ]
  },
  {
   "cell_type": "code",
   "execution_count": null,
   "metadata": {
    "colab": {},
    "colab_type": "code",
    "id": "iYSlAV_gXWvX"
   },
   "outputs": [],
   "source": [
    "# ANSWER\n",
    "## Create training and testing subsets"
   ]
  },
  {
   "cell_type": "markdown",
   "metadata": {
    "colab_type": "text",
    "id": "P62hTi0IXWva"
   },
   "source": [
    "#### 3.2 Check Shape, Sample of Test Train Data"
   ]
  },
  {
   "cell_type": "code",
   "execution_count": null,
   "metadata": {
    "colab": {},
    "colab_type": "code",
    "id": "larfqlLQXWvb"
   },
   "outputs": [],
   "source": [
    "# ANSWER\n",
    "## Check training/test data"
   ]
  },
  {
   "cell_type": "markdown",
   "metadata": {
    "colab_type": "text",
    "id": "FhemsdjyXWvd"
   },
   "source": [
    "#### 3.3 Using Linear Regression Find The Score\n",
    "\n",
    "1. Fit model using X_train, y_train\n",
    "2. Find score using x_test, y_test"
   ]
  },
  {
   "cell_type": "code",
   "execution_count": null,
   "metadata": {
    "colab": {},
    "colab_type": "code",
    "id": "yqNCjOW3XWve"
   },
   "outputs": [],
   "source": [
    "# ANSWER"
   ]
  },
  {
   "cell_type": "code",
   "execution_count": null,
   "metadata": {
    "colab": {},
    "colab_type": "code",
    "id": "rT5Qvx_pXWvi"
   },
   "outputs": [],
   "source": [
    "# ANSWER"
   ]
  },
  {
   "cell_type": "markdown",
   "metadata": {
    "colab_type": "text",
    "id": "wSAtgNXXXWvk"
   },
   "source": [
    "### 3. Predict House Price\n",
    "\n",
    "Let's assume we have information of following house:\n",
    "\n",
    "- street:\t1140 EDMONTON DR\n",
    "- city:\tSACRAMENTO\n",
    "- zip:\t95833\n",
    "- state:\tCA\n",
    "- beds:\t3\n",
    "- baths:\t2\n",
    "- sq__ft:\t1204\n",
    "- type:\tResidential\n",
    "\n",
    "**Predict the price of this house using linear regression model.**"
   ]
  },
  {
   "cell_type": "code",
   "execution_count": null,
   "metadata": {
    "colab": {},
    "colab_type": "code",
    "id": "zwMk_GoVXWvk"
   },
   "outputs": [],
   "source": [
    "# ANSWER"
   ]
  },
  {
   "cell_type": "markdown",
   "metadata": {
    "colab_type": "text",
    "id": "fRx7LEfql5pu"
   },
   "source": [
    "\n",
    "\n",
    "---\n",
    "\n",
    "\n",
    "\n",
    "---\n",
    "\n",
    "\n",
    "\n",
    "> > > > > > > > > © 2019 Institute of Data\n",
    "\n",
    "\n",
    "---\n",
    "\n",
    "\n",
    "\n",
    "---\n",
    "\n",
    "\n",
    "\n"
   ]
  }
 ],
 "metadata": {
  "colab": {
   "collapsed_sections": [],
   "name": "DSIA Lab 4.1.2.ipynb",
   "provenance": []
  },
  "kernelspec": {
   "display_name": "Python 3",
   "language": "python",
   "name": "python3"
  },
  "language_info": {
   "codemirror_mode": {
    "name": "ipython",
    "version": 3
   },
   "file_extension": ".py",
   "mimetype": "text/x-python",
   "name": "python",
   "nbconvert_exporter": "python",
   "pygments_lexer": "ipython3",
   "version": "3.7.4"
  }
 },
 "nbformat": 4,
 "nbformat_minor": 1
}
